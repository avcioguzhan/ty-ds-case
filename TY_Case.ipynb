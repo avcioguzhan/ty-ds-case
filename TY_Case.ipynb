{
  "cells": [
    {
      "cell_type": "markdown",
      "metadata": {
        "id": "view-in-github",
        "colab_type": "text"
      },
      "source": [
        "<a href=\"https://colab.research.google.com/github/avcioguzhan/ty-ds-case/blob/main/TY_Case.ipynb\" target=\"_parent\"><img src=\"https://colab.research.google.com/assets/colab-badge.svg\" alt=\"Open In Colab\"/></a>"
      ]
    },
    {
      "cell_type": "markdown",
      "metadata": {
        "id": "nF6I0NsAruMv"
      },
      "source": [
        "Importing the Dependencies"
      ]
    },
    {
      "cell_type": "code",
      "execution_count": null,
      "metadata": {
        "colab": {
          "base_uri": "https://localhost:8080/"
        },
        "id": "kxM60HCm6sql",
        "outputId": "3d6e8a1d-a7f4-4127-fa79-30b6fc7fc1fb"
      },
      "outputs": [
        {
          "name": "stdout",
          "output_type": "stream",
          "text": [
            "Drive already mounted at /content/drive; to attempt to forcibly remount, call drive.mount(\"/content/drive\", force_remount=True).\n"
          ]
        }
      ],
      "source": [
        "from google.colab import drive\n",
        "drive.mount('/content/drive')"
      ]
    },
    {
      "cell_type": "code",
      "execution_count": null,
      "metadata": {
        "id": "8AL-UHqopUyZ"
      },
      "outputs": [],
      "source": [
        "import numpy as np\n",
        "import pandas as pd\n",
        "import seaborn as sns\n",
        "from sklearn.model_selection import cross_val_score, KFold, train_test_split, GridSearchCV\n",
        "from sklearn.neighbors import KNeighborsClassifier\n",
        "from sklearn.tree import DecisionTreeClassifier\n",
        "from sklearn.linear_model import LogisticRegression\n",
        "from sklearn.metrics import accuracy_score\n",
        "from datetime import date\n",
        "from sklearn.impute import SimpleImputer\n",
        "from sklearn.pipeline import Pipeline\n",
        "from sklearn.preprocessing import StandardScaler, scale\n",
        "import matplotlib.pyplot as plt\n",
        "from sklearn.metrics import classification_report, confusion_matrix\n",
        "from sklearn.metrics import roc_curve, roc_auc_score\n",
        "import statsmodels.api as sm\n",
        "import math\n",
        "from scipy import stats\n",
        "from sklearn.ensemble import ExtraTreesClassifier\n",
        "from sklearn.feature_selection import SelectFromModel\n",
        "from sklearn.ensemble import AdaBoostClassifier, GradientBoostingClassifier\n",
        "from xgboost import XGBClassifier\n",
        "from matplotlib.pyplot import figure\n",
        "\n",
        "\n",
        "\n",
        "\n",
        "\n",
        "\n"
      ]
    },
    {
      "cell_type": "markdown",
      "metadata": {
        "id": "T6Vwk8eMui3P"
      },
      "source": [
        "Data Collection/Read"
      ]
    },
    {
      "cell_type": "code",
      "execution_count": null,
      "metadata": {
        "id": "qO8mMtG0um2p"
      },
      "outputs": [],
      "source": [
        "df_basket=pd.read_csv('/content/drive/MyDrive/ds_2022/ds/df_basket.csv', parse_dates= [\"partition_date\"])\n",
        "df_demo=pd.read_csv('/content/drive/MyDrive/ds_2022/ds/df_demo.csv')\n",
        "df_fav=pd.read_csv('/content/drive/MyDrive/ds_2022/ds/df_fav.csv', parse_dates= [\"partition_date\"])\n",
        "df_product=pd.read_csv(\"/content/drive/MyDrive/ds_2022/ds/df_product.csv\")\n",
        "df_search_term=pd.read_csv(\"/content/drive/MyDrive/ds_2022/ds/df_search_term.csv\", parse_dates= [\"partition_date\"])\n",
        "df_target_train=pd.read_csv('/content/drive/MyDrive/ds_2022/ds/df_target_train.csv')\n",
        "df_test=pd.read_csv('/content/drive/MyDrive/ds_2022/ds/df_test.csv')\n",
        "df_trx=pd.read_csv('/content/drive/MyDrive/ds_2022/ds/df_trx.csv', parse_dates= [\"orderdate\"])\n",
        "df_visit=pd.read_csv('/content/drive/MyDrive/ds_2022/ds/df_visit.csv', parse_dates= [\"partition_date\"])"
      ]
    },
    {
      "cell_type": "markdown",
      "metadata": {
        "id": "1H9NcRxo_7Na"
      },
      "source": [
        "Unification of user and current bu group name"
      ]
    },
    {
      "cell_type": "code",
      "execution_count": null,
      "metadata": {
        "id": "7FdPcoD2_5It"
      },
      "outputs": [],
      "source": [
        "df_userid_unique = df_target_train[['userid']].drop_duplicates().dropna()\n",
        "df_bugroup_unique = df_target_train[['currentbugroupname']].drop_duplicates().dropna()"
      ]
    },
    {
      "cell_type": "markdown",
      "metadata": {
        "id": "QCdEo3bY6aAI"
      },
      "source": [
        "Creating Train Data"
      ]
    },
    {
      "cell_type": "code",
      "execution_count": null,
      "metadata": {
        "colab": {
          "base_uri": "https://localhost:8080/"
        },
        "id": "0k2qcEK_AzDj",
        "outputId": "a8510133-f509-4fa4-9be5-9a20e31cfba2"
      },
      "outputs": [
        {
          "output_type": "execute_result",
          "data": {
            "text/plain": [
              "(244824, 2)"
            ]
          },
          "metadata": {},
          "execution_count": 78
        }
      ],
      "source": [
        "#Cross merge between userid and bugroupname\n",
        "df_train_data = df_userid_unique.merge(df_bugroup_unique, how = \"cross\")\n",
        "df_train_data.shape"
      ]
    },
    {
      "cell_type": "code",
      "execution_count": null,
      "metadata": {
        "colab": {
          "base_uri": "https://localhost:8080/",
          "height": 424
        },
        "id": "LPROmqieGAjL",
        "outputId": "6c7f86e2-9ee7-4e39-8a5f-6b1f489b696d"
      },
      "outputs": [
        {
          "output_type": "execute_result",
          "data": {
            "text/plain": [
              "         userid currentbugroupname  is_ordered\n",
              "0      28704634                 GM           1\n",
              "1      13506108                 Ev           1\n",
              "2       5893128                NaN           1\n",
              "3      15209082            Mobilya           1\n",
              "4       1109976           Kozmetik           1\n",
              "...         ...                ...         ...\n",
              "27081  12568514   Ayakkabı & Çanta           1\n",
              "27082  22288826                 GM           1\n",
              "27083  11887176      Private Label           1\n",
              "27084  11887176   Ayakkabı & Çanta           1\n",
              "27085   3377094    Branded Tekstil           1\n",
              "\n",
              "[27086 rows x 3 columns]"
            ],
            "text/html": [
              "\n",
              "  <div id=\"df-c0dd8729-7a10-4c8f-8ecd-170e9cb824c6\">\n",
              "    <div class=\"colab-df-container\">\n",
              "      <div>\n",
              "<style scoped>\n",
              "    .dataframe tbody tr th:only-of-type {\n",
              "        vertical-align: middle;\n",
              "    }\n",
              "\n",
              "    .dataframe tbody tr th {\n",
              "        vertical-align: top;\n",
              "    }\n",
              "\n",
              "    .dataframe thead th {\n",
              "        text-align: right;\n",
              "    }\n",
              "</style>\n",
              "<table border=\"1\" class=\"dataframe\">\n",
              "  <thead>\n",
              "    <tr style=\"text-align: right;\">\n",
              "      <th></th>\n",
              "      <th>userid</th>\n",
              "      <th>currentbugroupname</th>\n",
              "      <th>is_ordered</th>\n",
              "    </tr>\n",
              "  </thead>\n",
              "  <tbody>\n",
              "    <tr>\n",
              "      <th>0</th>\n",
              "      <td>28704634</td>\n",
              "      <td>GM</td>\n",
              "      <td>1</td>\n",
              "    </tr>\n",
              "    <tr>\n",
              "      <th>1</th>\n",
              "      <td>13506108</td>\n",
              "      <td>Ev</td>\n",
              "      <td>1</td>\n",
              "    </tr>\n",
              "    <tr>\n",
              "      <th>2</th>\n",
              "      <td>5893128</td>\n",
              "      <td>NaN</td>\n",
              "      <td>1</td>\n",
              "    </tr>\n",
              "    <tr>\n",
              "      <th>3</th>\n",
              "      <td>15209082</td>\n",
              "      <td>Mobilya</td>\n",
              "      <td>1</td>\n",
              "    </tr>\n",
              "    <tr>\n",
              "      <th>4</th>\n",
              "      <td>1109976</td>\n",
              "      <td>Kozmetik</td>\n",
              "      <td>1</td>\n",
              "    </tr>\n",
              "    <tr>\n",
              "      <th>...</th>\n",
              "      <td>...</td>\n",
              "      <td>...</td>\n",
              "      <td>...</td>\n",
              "    </tr>\n",
              "    <tr>\n",
              "      <th>27081</th>\n",
              "      <td>12568514</td>\n",
              "      <td>Ayakkabı &amp; Çanta</td>\n",
              "      <td>1</td>\n",
              "    </tr>\n",
              "    <tr>\n",
              "      <th>27082</th>\n",
              "      <td>22288826</td>\n",
              "      <td>GM</td>\n",
              "      <td>1</td>\n",
              "    </tr>\n",
              "    <tr>\n",
              "      <th>27083</th>\n",
              "      <td>11887176</td>\n",
              "      <td>Private Label</td>\n",
              "      <td>1</td>\n",
              "    </tr>\n",
              "    <tr>\n",
              "      <th>27084</th>\n",
              "      <td>11887176</td>\n",
              "      <td>Ayakkabı &amp; Çanta</td>\n",
              "      <td>1</td>\n",
              "    </tr>\n",
              "    <tr>\n",
              "      <th>27085</th>\n",
              "      <td>3377094</td>\n",
              "      <td>Branded Tekstil</td>\n",
              "      <td>1</td>\n",
              "    </tr>\n",
              "  </tbody>\n",
              "</table>\n",
              "<p>27086 rows × 3 columns</p>\n",
              "</div>\n",
              "      <button class=\"colab-df-convert\" onclick=\"convertToInteractive('df-c0dd8729-7a10-4c8f-8ecd-170e9cb824c6')\"\n",
              "              title=\"Convert this dataframe to an interactive table.\"\n",
              "              style=\"display:none;\">\n",
              "        \n",
              "  <svg xmlns=\"http://www.w3.org/2000/svg\" height=\"24px\"viewBox=\"0 0 24 24\"\n",
              "       width=\"24px\">\n",
              "    <path d=\"M0 0h24v24H0V0z\" fill=\"none\"/>\n",
              "    <path d=\"M18.56 5.44l.94 2.06.94-2.06 2.06-.94-2.06-.94-.94-2.06-.94 2.06-2.06.94zm-11 1L8.5 8.5l.94-2.06 2.06-.94-2.06-.94L8.5 2.5l-.94 2.06-2.06.94zm10 10l.94 2.06.94-2.06 2.06-.94-2.06-.94-.94-2.06-.94 2.06-2.06.94z\"/><path d=\"M17.41 7.96l-1.37-1.37c-.4-.4-.92-.59-1.43-.59-.52 0-1.04.2-1.43.59L10.3 9.45l-7.72 7.72c-.78.78-.78 2.05 0 2.83L4 21.41c.39.39.9.59 1.41.59.51 0 1.02-.2 1.41-.59l7.78-7.78 2.81-2.81c.8-.78.8-2.07 0-2.86zM5.41 20L4 18.59l7.72-7.72 1.47 1.35L5.41 20z\"/>\n",
              "  </svg>\n",
              "      </button>\n",
              "      \n",
              "  <style>\n",
              "    .colab-df-container {\n",
              "      display:flex;\n",
              "      flex-wrap:wrap;\n",
              "      gap: 12px;\n",
              "    }\n",
              "\n",
              "    .colab-df-convert {\n",
              "      background-color: #E8F0FE;\n",
              "      border: none;\n",
              "      border-radius: 50%;\n",
              "      cursor: pointer;\n",
              "      display: none;\n",
              "      fill: #1967D2;\n",
              "      height: 32px;\n",
              "      padding: 0 0 0 0;\n",
              "      width: 32px;\n",
              "    }\n",
              "\n",
              "    .colab-df-convert:hover {\n",
              "      background-color: #E2EBFA;\n",
              "      box-shadow: 0px 1px 2px rgba(60, 64, 67, 0.3), 0px 1px 3px 1px rgba(60, 64, 67, 0.15);\n",
              "      fill: #174EA6;\n",
              "    }\n",
              "\n",
              "    [theme=dark] .colab-df-convert {\n",
              "      background-color: #3B4455;\n",
              "      fill: #D2E3FC;\n",
              "    }\n",
              "\n",
              "    [theme=dark] .colab-df-convert:hover {\n",
              "      background-color: #434B5C;\n",
              "      box-shadow: 0px 1px 3px 1px rgba(0, 0, 0, 0.15);\n",
              "      filter: drop-shadow(0px 1px 2px rgba(0, 0, 0, 0.3));\n",
              "      fill: #FFFFFF;\n",
              "    }\n",
              "  </style>\n",
              "\n",
              "      <script>\n",
              "        const buttonEl =\n",
              "          document.querySelector('#df-c0dd8729-7a10-4c8f-8ecd-170e9cb824c6 button.colab-df-convert');\n",
              "        buttonEl.style.display =\n",
              "          google.colab.kernel.accessAllowed ? 'block' : 'none';\n",
              "\n",
              "        async function convertToInteractive(key) {\n",
              "          const element = document.querySelector('#df-c0dd8729-7a10-4c8f-8ecd-170e9cb824c6');\n",
              "          const dataTable =\n",
              "            await google.colab.kernel.invokeFunction('convertToInteractive',\n",
              "                                                     [key], {});\n",
              "          if (!dataTable) return;\n",
              "\n",
              "          const docLinkHtml = 'Like what you see? Visit the ' +\n",
              "            '<a target=\"_blank\" href=https://colab.research.google.com/notebooks/data_table.ipynb>data table notebook</a>'\n",
              "            + ' to learn more about interactive tables.';\n",
              "          element.innerHTML = '';\n",
              "          dataTable['output_type'] = 'display_data';\n",
              "          await google.colab.output.renderOutput(dataTable, element);\n",
              "          const docLink = document.createElement('div');\n",
              "          docLink.innerHTML = docLinkHtml;\n",
              "          element.appendChild(docLink);\n",
              "        }\n",
              "      </script>\n",
              "    </div>\n",
              "  </div>\n",
              "  "
            ]
          },
          "metadata": {},
          "execution_count": 79
        }
      ],
      "source": [
        "#Adding order information to the selling lines in our train data\n",
        "df_target_train[\"is_ordered\"] = int(1)\n",
        "df_target_train"
      ]
    },
    {
      "cell_type": "code",
      "execution_count": null,
      "metadata": {
        "id": "n_dDb9dyFBXR"
      },
      "outputs": [],
      "source": [
        "#Getting the order information from target train data to train data I created with cross merge with left merge\n",
        "df_train_data_2 = df_train_data.merge(df_target_train, on=(\"userid\", \"currentbugroupname\"), how= \"left\")"
      ]
    },
    {
      "cell_type": "code",
      "execution_count": null,
      "metadata": {
        "colab": {
          "base_uri": "https://localhost:8080/",
          "height": 206
        },
        "id": "xM7CaUDtFvCQ",
        "outputId": "c8cc91e8-3243-4253-fd47-13eb13a366ad"
      },
      "outputs": [
        {
          "output_type": "execute_result",
          "data": {
            "text/plain": [
              "     userid        currentbugroupname  is_ordered\n",
              "0  28704634                        GM         1.0\n",
              "1  28704634                        Ev         0.0\n",
              "2  28704634                   Mobilya         0.0\n",
              "3  28704634                  Kozmetik         0.0\n",
              "4  28704634  Aksesuar & Saat & Gözlük         0.0"
            ],
            "text/html": [
              "\n",
              "  <div id=\"df-0031dd2a-2f51-49e5-b75c-bf00e872398c\">\n",
              "    <div class=\"colab-df-container\">\n",
              "      <div>\n",
              "<style scoped>\n",
              "    .dataframe tbody tr th:only-of-type {\n",
              "        vertical-align: middle;\n",
              "    }\n",
              "\n",
              "    .dataframe tbody tr th {\n",
              "        vertical-align: top;\n",
              "    }\n",
              "\n",
              "    .dataframe thead th {\n",
              "        text-align: right;\n",
              "    }\n",
              "</style>\n",
              "<table border=\"1\" class=\"dataframe\">\n",
              "  <thead>\n",
              "    <tr style=\"text-align: right;\">\n",
              "      <th></th>\n",
              "      <th>userid</th>\n",
              "      <th>currentbugroupname</th>\n",
              "      <th>is_ordered</th>\n",
              "    </tr>\n",
              "  </thead>\n",
              "  <tbody>\n",
              "    <tr>\n",
              "      <th>0</th>\n",
              "      <td>28704634</td>\n",
              "      <td>GM</td>\n",
              "      <td>1.0</td>\n",
              "    </tr>\n",
              "    <tr>\n",
              "      <th>1</th>\n",
              "      <td>28704634</td>\n",
              "      <td>Ev</td>\n",
              "      <td>0.0</td>\n",
              "    </tr>\n",
              "    <tr>\n",
              "      <th>2</th>\n",
              "      <td>28704634</td>\n",
              "      <td>Mobilya</td>\n",
              "      <td>0.0</td>\n",
              "    </tr>\n",
              "    <tr>\n",
              "      <th>3</th>\n",
              "      <td>28704634</td>\n",
              "      <td>Kozmetik</td>\n",
              "      <td>0.0</td>\n",
              "    </tr>\n",
              "    <tr>\n",
              "      <th>4</th>\n",
              "      <td>28704634</td>\n",
              "      <td>Aksesuar &amp; Saat &amp; Gözlük</td>\n",
              "      <td>0.0</td>\n",
              "    </tr>\n",
              "  </tbody>\n",
              "</table>\n",
              "</div>\n",
              "      <button class=\"colab-df-convert\" onclick=\"convertToInteractive('df-0031dd2a-2f51-49e5-b75c-bf00e872398c')\"\n",
              "              title=\"Convert this dataframe to an interactive table.\"\n",
              "              style=\"display:none;\">\n",
              "        \n",
              "  <svg xmlns=\"http://www.w3.org/2000/svg\" height=\"24px\"viewBox=\"0 0 24 24\"\n",
              "       width=\"24px\">\n",
              "    <path d=\"M0 0h24v24H0V0z\" fill=\"none\"/>\n",
              "    <path d=\"M18.56 5.44l.94 2.06.94-2.06 2.06-.94-2.06-.94-.94-2.06-.94 2.06-2.06.94zm-11 1L8.5 8.5l.94-2.06 2.06-.94-2.06-.94L8.5 2.5l-.94 2.06-2.06.94zm10 10l.94 2.06.94-2.06 2.06-.94-2.06-.94-.94-2.06-.94 2.06-2.06.94z\"/><path d=\"M17.41 7.96l-1.37-1.37c-.4-.4-.92-.59-1.43-.59-.52 0-1.04.2-1.43.59L10.3 9.45l-7.72 7.72c-.78.78-.78 2.05 0 2.83L4 21.41c.39.39.9.59 1.41.59.51 0 1.02-.2 1.41-.59l7.78-7.78 2.81-2.81c.8-.78.8-2.07 0-2.86zM5.41 20L4 18.59l7.72-7.72 1.47 1.35L5.41 20z\"/>\n",
              "  </svg>\n",
              "      </button>\n",
              "      \n",
              "  <style>\n",
              "    .colab-df-container {\n",
              "      display:flex;\n",
              "      flex-wrap:wrap;\n",
              "      gap: 12px;\n",
              "    }\n",
              "\n",
              "    .colab-df-convert {\n",
              "      background-color: #E8F0FE;\n",
              "      border: none;\n",
              "      border-radius: 50%;\n",
              "      cursor: pointer;\n",
              "      display: none;\n",
              "      fill: #1967D2;\n",
              "      height: 32px;\n",
              "      padding: 0 0 0 0;\n",
              "      width: 32px;\n",
              "    }\n",
              "\n",
              "    .colab-df-convert:hover {\n",
              "      background-color: #E2EBFA;\n",
              "      box-shadow: 0px 1px 2px rgba(60, 64, 67, 0.3), 0px 1px 3px 1px rgba(60, 64, 67, 0.15);\n",
              "      fill: #174EA6;\n",
              "    }\n",
              "\n",
              "    [theme=dark] .colab-df-convert {\n",
              "      background-color: #3B4455;\n",
              "      fill: #D2E3FC;\n",
              "    }\n",
              "\n",
              "    [theme=dark] .colab-df-convert:hover {\n",
              "      background-color: #434B5C;\n",
              "      box-shadow: 0px 1px 3px 1px rgba(0, 0, 0, 0.15);\n",
              "      filter: drop-shadow(0px 1px 2px rgba(0, 0, 0, 0.3));\n",
              "      fill: #FFFFFF;\n",
              "    }\n",
              "  </style>\n",
              "\n",
              "      <script>\n",
              "        const buttonEl =\n",
              "          document.querySelector('#df-0031dd2a-2f51-49e5-b75c-bf00e872398c button.colab-df-convert');\n",
              "        buttonEl.style.display =\n",
              "          google.colab.kernel.accessAllowed ? 'block' : 'none';\n",
              "\n",
              "        async function convertToInteractive(key) {\n",
              "          const element = document.querySelector('#df-0031dd2a-2f51-49e5-b75c-bf00e872398c');\n",
              "          const dataTable =\n",
              "            await google.colab.kernel.invokeFunction('convertToInteractive',\n",
              "                                                     [key], {});\n",
              "          if (!dataTable) return;\n",
              "\n",
              "          const docLinkHtml = 'Like what you see? Visit the ' +\n",
              "            '<a target=\"_blank\" href=https://colab.research.google.com/notebooks/data_table.ipynb>data table notebook</a>'\n",
              "            + ' to learn more about interactive tables.';\n",
              "          element.innerHTML = '';\n",
              "          dataTable['output_type'] = 'display_data';\n",
              "          await google.colab.output.renderOutput(dataTable, element);\n",
              "          const docLink = document.createElement('div');\n",
              "          docLink.innerHTML = docLinkHtml;\n",
              "          element.appendChild(docLink);\n",
              "        }\n",
              "      </script>\n",
              "    </div>\n",
              "  </div>\n",
              "  "
            ]
          },
          "metadata": {},
          "execution_count": 81
        }
      ],
      "source": [
        "#Completing the y label by making zero sales lines at the end of the left merge\n",
        "df_train_data_2[\"is_ordered\"]=df_train_data_2[\"is_ordered\"].fillna(0)\n",
        "df_train_data_2.shape\n",
        "df_train_data_2.head()"
      ]
    },
    {
      "cell_type": "code",
      "execution_count": null,
      "metadata": {
        "id": "0iLqkbgO0Cin"
      },
      "outputs": [],
      "source": [
        "#adding current group name data to properties using merge\n",
        "df_trx_bu=df_trx.merge(df_product, on=\"contentid\", suffixes=('trx','pr'), how= \"left\")\n",
        "df_visit_bu=df_visit.merge(df_product, on=\"contentid\", suffixes=('trx','pr'), how= \"left\")\n",
        "df_basket_bu=df_basket.merge(df_product, on=\"contentid\", suffixes=('trx','pr'), how= \"left\")\n",
        "df_fav_bu=df_fav.merge(df_product, on=\"contentid\", suffixes=('trx','pr'), how= \"left\")"
      ]
    },
    {
      "cell_type": "code",
      "execution_count": null,
      "metadata": {
        "colab": {
          "base_uri": "https://localhost:8080/",
          "height": 424
        },
        "id": "45RGrWeaEssn",
        "outputId": "aaf5894a-921f-4598-b135-a9e84df84c2a"
      },
      "outputs": [
        {
          "output_type": "execute_result",
          "data": {
            "text/plain": [
              "          userid   contentid           orderdate  quantity   price  \\\n",
              "5       29379994  55117154.0 2020-10-31 03:00:00         1  199.98   \n",
              "14      29379994  37035640.0 2020-10-31 03:00:00         1   59.99   \n",
              "16      11921448  47928255.0 2020-10-31 03:00:00         1    9.90   \n",
              "23       1936774  52514555.0 2020-11-01 03:00:00         1   29.97   \n",
              "29      13551132   3632536.0 2020-10-31 10:00:00         1  139.99   \n",
              "...          ...         ...                 ...       ...     ...   \n",
              "381529   2239524  44596422.0 2020-10-01 23:00:00         1   35.99   \n",
              "381530   2239524  34415865.0 2020-10-01 23:00:00         1   80.97   \n",
              "381532  12185110  44745787.0 2020-10-01 23:00:00         1   29.99   \n",
              "381533  10371438   4593533.0 2020-10-01 23:00:00         1  139.90   \n",
              "381535  14877034  42711800.0 2020-10-01 23:00:00         1   54.98   \n",
              "\n",
              "       currentbugroupname  brandid gender  age title categoryname  \n",
              "5                     NaN      NaN    NaN  NaN   NaN          NaN  \n",
              "14                    NaN      NaN    NaN  NaN   NaN          NaN  \n",
              "16                    NaN      NaN    NaN  NaN   NaN          NaN  \n",
              "23                    NaN      NaN    NaN  NaN   NaN          NaN  \n",
              "29                    NaN      NaN    NaN  NaN   NaN          NaN  \n",
              "...                   ...      ...    ...  ...   ...          ...  \n",
              "381529                NaN      NaN    NaN  NaN   NaN          NaN  \n",
              "381530                NaN      NaN    NaN  NaN   NaN          NaN  \n",
              "381532                NaN      NaN    NaN  NaN   NaN          NaN  \n",
              "381533                NaN      NaN    NaN  NaN   NaN          NaN  \n",
              "381535                NaN      NaN    NaN  NaN   NaN          NaN  \n",
              "\n",
              "[91358 rows x 11 columns]"
            ],
            "text/html": [
              "\n",
              "  <div id=\"df-d1121101-6d30-4428-be11-0b308f1683c4\">\n",
              "    <div class=\"colab-df-container\">\n",
              "      <div>\n",
              "<style scoped>\n",
              "    .dataframe tbody tr th:only-of-type {\n",
              "        vertical-align: middle;\n",
              "    }\n",
              "\n",
              "    .dataframe tbody tr th {\n",
              "        vertical-align: top;\n",
              "    }\n",
              "\n",
              "    .dataframe thead th {\n",
              "        text-align: right;\n",
              "    }\n",
              "</style>\n",
              "<table border=\"1\" class=\"dataframe\">\n",
              "  <thead>\n",
              "    <tr style=\"text-align: right;\">\n",
              "      <th></th>\n",
              "      <th>userid</th>\n",
              "      <th>contentid</th>\n",
              "      <th>orderdate</th>\n",
              "      <th>quantity</th>\n",
              "      <th>price</th>\n",
              "      <th>currentbugroupname</th>\n",
              "      <th>brandid</th>\n",
              "      <th>gender</th>\n",
              "      <th>age</th>\n",
              "      <th>title</th>\n",
              "      <th>categoryname</th>\n",
              "    </tr>\n",
              "  </thead>\n",
              "  <tbody>\n",
              "    <tr>\n",
              "      <th>5</th>\n",
              "      <td>29379994</td>\n",
              "      <td>55117154.0</td>\n",
              "      <td>2020-10-31 03:00:00</td>\n",
              "      <td>1</td>\n",
              "      <td>199.98</td>\n",
              "      <td>NaN</td>\n",
              "      <td>NaN</td>\n",
              "      <td>NaN</td>\n",
              "      <td>NaN</td>\n",
              "      <td>NaN</td>\n",
              "      <td>NaN</td>\n",
              "    </tr>\n",
              "    <tr>\n",
              "      <th>14</th>\n",
              "      <td>29379994</td>\n",
              "      <td>37035640.0</td>\n",
              "      <td>2020-10-31 03:00:00</td>\n",
              "      <td>1</td>\n",
              "      <td>59.99</td>\n",
              "      <td>NaN</td>\n",
              "      <td>NaN</td>\n",
              "      <td>NaN</td>\n",
              "      <td>NaN</td>\n",
              "      <td>NaN</td>\n",
              "      <td>NaN</td>\n",
              "    </tr>\n",
              "    <tr>\n",
              "      <th>16</th>\n",
              "      <td>11921448</td>\n",
              "      <td>47928255.0</td>\n",
              "      <td>2020-10-31 03:00:00</td>\n",
              "      <td>1</td>\n",
              "      <td>9.90</td>\n",
              "      <td>NaN</td>\n",
              "      <td>NaN</td>\n",
              "      <td>NaN</td>\n",
              "      <td>NaN</td>\n",
              "      <td>NaN</td>\n",
              "      <td>NaN</td>\n",
              "    </tr>\n",
              "    <tr>\n",
              "      <th>23</th>\n",
              "      <td>1936774</td>\n",
              "      <td>52514555.0</td>\n",
              "      <td>2020-11-01 03:00:00</td>\n",
              "      <td>1</td>\n",
              "      <td>29.97</td>\n",
              "      <td>NaN</td>\n",
              "      <td>NaN</td>\n",
              "      <td>NaN</td>\n",
              "      <td>NaN</td>\n",
              "      <td>NaN</td>\n",
              "      <td>NaN</td>\n",
              "    </tr>\n",
              "    <tr>\n",
              "      <th>29</th>\n",
              "      <td>13551132</td>\n",
              "      <td>3632536.0</td>\n",
              "      <td>2020-10-31 10:00:00</td>\n",
              "      <td>1</td>\n",
              "      <td>139.99</td>\n",
              "      <td>NaN</td>\n",
              "      <td>NaN</td>\n",
              "      <td>NaN</td>\n",
              "      <td>NaN</td>\n",
              "      <td>NaN</td>\n",
              "      <td>NaN</td>\n",
              "    </tr>\n",
              "    <tr>\n",
              "      <th>...</th>\n",
              "      <td>...</td>\n",
              "      <td>...</td>\n",
              "      <td>...</td>\n",
              "      <td>...</td>\n",
              "      <td>...</td>\n",
              "      <td>...</td>\n",
              "      <td>...</td>\n",
              "      <td>...</td>\n",
              "      <td>...</td>\n",
              "      <td>...</td>\n",
              "      <td>...</td>\n",
              "    </tr>\n",
              "    <tr>\n",
              "      <th>381529</th>\n",
              "      <td>2239524</td>\n",
              "      <td>44596422.0</td>\n",
              "      <td>2020-10-01 23:00:00</td>\n",
              "      <td>1</td>\n",
              "      <td>35.99</td>\n",
              "      <td>NaN</td>\n",
              "      <td>NaN</td>\n",
              "      <td>NaN</td>\n",
              "      <td>NaN</td>\n",
              "      <td>NaN</td>\n",
              "      <td>NaN</td>\n",
              "    </tr>\n",
              "    <tr>\n",
              "      <th>381530</th>\n",
              "      <td>2239524</td>\n",
              "      <td>34415865.0</td>\n",
              "      <td>2020-10-01 23:00:00</td>\n",
              "      <td>1</td>\n",
              "      <td>80.97</td>\n",
              "      <td>NaN</td>\n",
              "      <td>NaN</td>\n",
              "      <td>NaN</td>\n",
              "      <td>NaN</td>\n",
              "      <td>NaN</td>\n",
              "      <td>NaN</td>\n",
              "    </tr>\n",
              "    <tr>\n",
              "      <th>381532</th>\n",
              "      <td>12185110</td>\n",
              "      <td>44745787.0</td>\n",
              "      <td>2020-10-01 23:00:00</td>\n",
              "      <td>1</td>\n",
              "      <td>29.99</td>\n",
              "      <td>NaN</td>\n",
              "      <td>NaN</td>\n",
              "      <td>NaN</td>\n",
              "      <td>NaN</td>\n",
              "      <td>NaN</td>\n",
              "      <td>NaN</td>\n",
              "    </tr>\n",
              "    <tr>\n",
              "      <th>381533</th>\n",
              "      <td>10371438</td>\n",
              "      <td>4593533.0</td>\n",
              "      <td>2020-10-01 23:00:00</td>\n",
              "      <td>1</td>\n",
              "      <td>139.90</td>\n",
              "      <td>NaN</td>\n",
              "      <td>NaN</td>\n",
              "      <td>NaN</td>\n",
              "      <td>NaN</td>\n",
              "      <td>NaN</td>\n",
              "      <td>NaN</td>\n",
              "    </tr>\n",
              "    <tr>\n",
              "      <th>381535</th>\n",
              "      <td>14877034</td>\n",
              "      <td>42711800.0</td>\n",
              "      <td>2020-10-01 23:00:00</td>\n",
              "      <td>1</td>\n",
              "      <td>54.98</td>\n",
              "      <td>NaN</td>\n",
              "      <td>NaN</td>\n",
              "      <td>NaN</td>\n",
              "      <td>NaN</td>\n",
              "      <td>NaN</td>\n",
              "      <td>NaN</td>\n",
              "    </tr>\n",
              "  </tbody>\n",
              "</table>\n",
              "<p>91358 rows × 11 columns</p>\n",
              "</div>\n",
              "      <button class=\"colab-df-convert\" onclick=\"convertToInteractive('df-d1121101-6d30-4428-be11-0b308f1683c4')\"\n",
              "              title=\"Convert this dataframe to an interactive table.\"\n",
              "              style=\"display:none;\">\n",
              "        \n",
              "  <svg xmlns=\"http://www.w3.org/2000/svg\" height=\"24px\"viewBox=\"0 0 24 24\"\n",
              "       width=\"24px\">\n",
              "    <path d=\"M0 0h24v24H0V0z\" fill=\"none\"/>\n",
              "    <path d=\"M18.56 5.44l.94 2.06.94-2.06 2.06-.94-2.06-.94-.94-2.06-.94 2.06-2.06.94zm-11 1L8.5 8.5l.94-2.06 2.06-.94-2.06-.94L8.5 2.5l-.94 2.06-2.06.94zm10 10l.94 2.06.94-2.06 2.06-.94-2.06-.94-.94-2.06-.94 2.06-2.06.94z\"/><path d=\"M17.41 7.96l-1.37-1.37c-.4-.4-.92-.59-1.43-.59-.52 0-1.04.2-1.43.59L10.3 9.45l-7.72 7.72c-.78.78-.78 2.05 0 2.83L4 21.41c.39.39.9.59 1.41.59.51 0 1.02-.2 1.41-.59l7.78-7.78 2.81-2.81c.8-.78.8-2.07 0-2.86zM5.41 20L4 18.59l7.72-7.72 1.47 1.35L5.41 20z\"/>\n",
              "  </svg>\n",
              "      </button>\n",
              "      \n",
              "  <style>\n",
              "    .colab-df-container {\n",
              "      display:flex;\n",
              "      flex-wrap:wrap;\n",
              "      gap: 12px;\n",
              "    }\n",
              "\n",
              "    .colab-df-convert {\n",
              "      background-color: #E8F0FE;\n",
              "      border: none;\n",
              "      border-radius: 50%;\n",
              "      cursor: pointer;\n",
              "      display: none;\n",
              "      fill: #1967D2;\n",
              "      height: 32px;\n",
              "      padding: 0 0 0 0;\n",
              "      width: 32px;\n",
              "    }\n",
              "\n",
              "    .colab-df-convert:hover {\n",
              "      background-color: #E2EBFA;\n",
              "      box-shadow: 0px 1px 2px rgba(60, 64, 67, 0.3), 0px 1px 3px 1px rgba(60, 64, 67, 0.15);\n",
              "      fill: #174EA6;\n",
              "    }\n",
              "\n",
              "    [theme=dark] .colab-df-convert {\n",
              "      background-color: #3B4455;\n",
              "      fill: #D2E3FC;\n",
              "    }\n",
              "\n",
              "    [theme=dark] .colab-df-convert:hover {\n",
              "      background-color: #434B5C;\n",
              "      box-shadow: 0px 1px 3px 1px rgba(0, 0, 0, 0.15);\n",
              "      filter: drop-shadow(0px 1px 2px rgba(0, 0, 0, 0.3));\n",
              "      fill: #FFFFFF;\n",
              "    }\n",
              "  </style>\n",
              "\n",
              "      <script>\n",
              "        const buttonEl =\n",
              "          document.querySelector('#df-d1121101-6d30-4428-be11-0b308f1683c4 button.colab-df-convert');\n",
              "        buttonEl.style.display =\n",
              "          google.colab.kernel.accessAllowed ? 'block' : 'none';\n",
              "\n",
              "        async function convertToInteractive(key) {\n",
              "          const element = document.querySelector('#df-d1121101-6d30-4428-be11-0b308f1683c4');\n",
              "          const dataTable =\n",
              "            await google.colab.kernel.invokeFunction('convertToInteractive',\n",
              "                                                     [key], {});\n",
              "          if (!dataTable) return;\n",
              "\n",
              "          const docLinkHtml = 'Like what you see? Visit the ' +\n",
              "            '<a target=\"_blank\" href=https://colab.research.google.com/notebooks/data_table.ipynb>data table notebook</a>'\n",
              "            + ' to learn more about interactive tables.';\n",
              "          element.innerHTML = '';\n",
              "          dataTable['output_type'] = 'display_data';\n",
              "          await google.colab.output.renderOutput(dataTable, element);\n",
              "          const docLink = document.createElement('div');\n",
              "          docLink.innerHTML = docLinkHtml;\n",
              "          element.appendChild(docLink);\n",
              "        }\n",
              "      </script>\n",
              "    </div>\n",
              "  </div>\n",
              "  "
            ]
          },
          "metadata": {},
          "execution_count": 83
        }
      ],
      "source": [
        "#checking isna\n",
        "df_trx_bu[df_trx_bu[\"currentbugroupname\"].isna()]"
      ]
    },
    {
      "cell_type": "code",
      "execution_count": null,
      "metadata": {
        "colab": {
          "base_uri": "https://localhost:8080/",
          "height": 49
        },
        "id": "Q56Wv5j5P5_m",
        "outputId": "75114e45-9fbe-413c-a5d9-74cca3174c0c"
      },
      "outputs": [
        {
          "output_type": "execute_result",
          "data": {
            "text/plain": [
              "Empty DataFrame\n",
              "Columns: [contentid, currentbugroupname, brandid, gender, age, title, categoryname]\n",
              "Index: []"
            ],
            "text/html": [
              "\n",
              "  <div id=\"df-0cec70b8-214c-483f-8510-302133fe7271\">\n",
              "    <div class=\"colab-df-container\">\n",
              "      <div>\n",
              "<style scoped>\n",
              "    .dataframe tbody tr th:only-of-type {\n",
              "        vertical-align: middle;\n",
              "    }\n",
              "\n",
              "    .dataframe tbody tr th {\n",
              "        vertical-align: top;\n",
              "    }\n",
              "\n",
              "    .dataframe thead th {\n",
              "        text-align: right;\n",
              "    }\n",
              "</style>\n",
              "<table border=\"1\" class=\"dataframe\">\n",
              "  <thead>\n",
              "    <tr style=\"text-align: right;\">\n",
              "      <th></th>\n",
              "      <th>contentid</th>\n",
              "      <th>currentbugroupname</th>\n",
              "      <th>brandid</th>\n",
              "      <th>gender</th>\n",
              "      <th>age</th>\n",
              "      <th>title</th>\n",
              "      <th>categoryname</th>\n",
              "    </tr>\n",
              "  </thead>\n",
              "  <tbody>\n",
              "  </tbody>\n",
              "</table>\n",
              "</div>\n",
              "      <button class=\"colab-df-convert\" onclick=\"convertToInteractive('df-0cec70b8-214c-483f-8510-302133fe7271')\"\n",
              "              title=\"Convert this dataframe to an interactive table.\"\n",
              "              style=\"display:none;\">\n",
              "        \n",
              "  <svg xmlns=\"http://www.w3.org/2000/svg\" height=\"24px\"viewBox=\"0 0 24 24\"\n",
              "       width=\"24px\">\n",
              "    <path d=\"M0 0h24v24H0V0z\" fill=\"none\"/>\n",
              "    <path d=\"M18.56 5.44l.94 2.06.94-2.06 2.06-.94-2.06-.94-.94-2.06-.94 2.06-2.06.94zm-11 1L8.5 8.5l.94-2.06 2.06-.94-2.06-.94L8.5 2.5l-.94 2.06-2.06.94zm10 10l.94 2.06.94-2.06 2.06-.94-2.06-.94-.94-2.06-.94 2.06-2.06.94z\"/><path d=\"M17.41 7.96l-1.37-1.37c-.4-.4-.92-.59-1.43-.59-.52 0-1.04.2-1.43.59L10.3 9.45l-7.72 7.72c-.78.78-.78 2.05 0 2.83L4 21.41c.39.39.9.59 1.41.59.51 0 1.02-.2 1.41-.59l7.78-7.78 2.81-2.81c.8-.78.8-2.07 0-2.86zM5.41 20L4 18.59l7.72-7.72 1.47 1.35L5.41 20z\"/>\n",
              "  </svg>\n",
              "      </button>\n",
              "      \n",
              "  <style>\n",
              "    .colab-df-container {\n",
              "      display:flex;\n",
              "      flex-wrap:wrap;\n",
              "      gap: 12px;\n",
              "    }\n",
              "\n",
              "    .colab-df-convert {\n",
              "      background-color: #E8F0FE;\n",
              "      border: none;\n",
              "      border-radius: 50%;\n",
              "      cursor: pointer;\n",
              "      display: none;\n",
              "      fill: #1967D2;\n",
              "      height: 32px;\n",
              "      padding: 0 0 0 0;\n",
              "      width: 32px;\n",
              "    }\n",
              "\n",
              "    .colab-df-convert:hover {\n",
              "      background-color: #E2EBFA;\n",
              "      box-shadow: 0px 1px 2px rgba(60, 64, 67, 0.3), 0px 1px 3px 1px rgba(60, 64, 67, 0.15);\n",
              "      fill: #174EA6;\n",
              "    }\n",
              "\n",
              "    [theme=dark] .colab-df-convert {\n",
              "      background-color: #3B4455;\n",
              "      fill: #D2E3FC;\n",
              "    }\n",
              "\n",
              "    [theme=dark] .colab-df-convert:hover {\n",
              "      background-color: #434B5C;\n",
              "      box-shadow: 0px 1px 3px 1px rgba(0, 0, 0, 0.15);\n",
              "      filter: drop-shadow(0px 1px 2px rgba(0, 0, 0, 0.3));\n",
              "      fill: #FFFFFF;\n",
              "    }\n",
              "  </style>\n",
              "\n",
              "      <script>\n",
              "        const buttonEl =\n",
              "          document.querySelector('#df-0cec70b8-214c-483f-8510-302133fe7271 button.colab-df-convert');\n",
              "        buttonEl.style.display =\n",
              "          google.colab.kernel.accessAllowed ? 'block' : 'none';\n",
              "\n",
              "        async function convertToInteractive(key) {\n",
              "          const element = document.querySelector('#df-0cec70b8-214c-483f-8510-302133fe7271');\n",
              "          const dataTable =\n",
              "            await google.colab.kernel.invokeFunction('convertToInteractive',\n",
              "                                                     [key], {});\n",
              "          if (!dataTable) return;\n",
              "\n",
              "          const docLinkHtml = 'Like what you see? Visit the ' +\n",
              "            '<a target=\"_blank\" href=https://colab.research.google.com/notebooks/data_table.ipynb>data table notebook</a>'\n",
              "            + ' to learn more about interactive tables.';\n",
              "          element.innerHTML = '';\n",
              "          dataTable['output_type'] = 'display_data';\n",
              "          await google.colab.output.renderOutput(dataTable, element);\n",
              "          const docLink = document.createElement('div');\n",
              "          docLink.innerHTML = docLinkHtml;\n",
              "          element.appendChild(docLink);\n",
              "        }\n",
              "      </script>\n",
              "    </div>\n",
              "  </div>\n",
              "  "
            ]
          },
          "metadata": {},
          "execution_count": 84
        }
      ],
      "source": [
        "df_product[df_product[\"contentid\"]==47928255.0]"
      ]
    },
    {
      "cell_type": "code",
      "execution_count": null,
      "metadata": {
        "colab": {
          "base_uri": "https://localhost:8080/"
        },
        "id": "5fz-45UZHemw",
        "outputId": "d26fab3e-93e7-4b2b-baa0-b6ee39c799be"
      },
      "outputs": [
        {
          "output_type": "execute_result",
          "data": {
            "text/plain": [
              "userid                      0\n",
              "contentid                 302\n",
              "partition_date              0\n",
              "productdetailcount          0\n",
              "currentbugroupname    3810107\n",
              "brandid               3810107\n",
              "gender                4847220\n",
              "age                   5126087\n",
              "title                 3812214\n",
              "categoryname          3810107\n",
              "dtype: int64"
            ]
          },
          "metadata": {},
          "execution_count": 85
        }
      ],
      "source": [
        "#checking isna\n",
        "df_visit_bu.isna().sum()"
      ]
    },
    {
      "cell_type": "markdown",
      "metadata": {
        "id": "TKIjYg4EYcpj"
      },
      "source": [
        "Finding= We recognize the missing data due to many content id dont match between product to others(trx,visit etc.)"
      ]
    },
    {
      "cell_type": "markdown",
      "metadata": {
        "id": "Vf1PSS8VJj6F"
      },
      "source": [
        "Feature Extraction"
      ]
    },
    {
      "cell_type": "code",
      "execution_count": null,
      "metadata": {
        "id": "ur0dYNqJJ00M"
      },
      "outputs": [],
      "source": [
        "#added order data because each row represents an order\n",
        "df_trx_bu[\"order\"]=int(1)"
      ]
    },
    {
      "cell_type": "code",
      "execution_count": null,
      "metadata": {
        "id": "ieXTagja1SEB"
      },
      "outputs": [],
      "source": [
        "#added revenue\n",
        "df_trx_bu[\"revenue\"]=df_trx_bu[\"quantity\"]*df_trx_bu[\"price\"]\n"
      ]
    },
    {
      "cell_type": "markdown",
      "metadata": {
        "id": "RzCkh-aQ9Pqm"
      },
      "source": [
        "Creating **different time intervals**\n",
        "*I divided my features according to different time intervals. I made sure they didn't cross each other.*"
      ]
    },
    {
      "cell_type": "code",
      "execution_count": null,
      "metadata": {
        "colab": {
          "base_uri": "https://localhost:8080/"
        },
        "id": "OCs_GkUY6LHo",
        "outputId": "49931644-a967-46c7-e8fe-5115fae9807d"
      },
      "outputs": [
        {
          "output_type": "stream",
          "name": "stdout",
          "text": [
            "2020-11-01 03:00:00\n",
            "2020-10-31 03:00:00\n",
            "2020-10-31 03:00:00\n",
            "2020-10-31 03:00:00\n",
            "2020-10-31 00:00:00\n"
          ]
        }
      ],
      "source": [
        "#Calculate max date\n",
        "print(df_trx_bu[\"orderdate\"].max())\n",
        "print(df_visit_bu[\"partition_date\"].max())\n",
        "print(df_fav_bu[\"partition_date\"].max())\n",
        "print(df_basket_bu[\"partition_date\"].max())\n",
        "print(df_search_term[\"partition_date\"].max())\n"
      ]
    },
    {
      "cell_type": "markdown",
      "metadata": {
        "id": "CSPgkxPeGCOv"
      },
      "source": [
        "**I checked if there is a shift in the trx data over the raw data, I did not discover a shift.**"
      ]
    },
    {
      "cell_type": "code",
      "execution_count": null,
      "metadata": {
        "id": "Pi5qNDg3hEVj"
      },
      "outputs": [],
      "source": [
        "#trx time intervals\n",
        "#Since the last day of trx data is 1 day longer than the others, I divided it into 5 different time zones.\n",
        "df_trx_L0D = df_trx_bu[df_trx_bu[\"orderdate\"]>\"2020-10-31 03:00:00\"].sort_values(by=\"orderdate\", ascending = False)\n",
        "df_trx_L1D = df_trx_bu[(df_trx_bu[\"orderdate\"]<=\"2020-10-31 03:00:00\") & (df_trx_bu[\"orderdate\"]>\"2020-10-30 03:00:00\")].sort_values(by=\"orderdate\", ascending = False)\n",
        "df_trx_L1_3D = df_trx_bu[(df_trx_bu[\"orderdate\"]<=\"2020-10-30 03:00:00\") & (df_trx_bu[\"orderdate\"]>\"2020-10-28 03:00:00\")].sort_values(by=\"orderdate\", ascending = False)\n",
        "df_trx_L3_7D = df_trx_bu[(df_trx_bu[\"orderdate\"]<=\"2020-10-28 03:00:00\") & (df_trx_bu[\"orderdate\"]>\"2020-10-24 03:00:00\")].sort_values(by=\"orderdate\", ascending = False)\n",
        "df_trx_L7_14D = df_trx_bu[(df_trx_bu[\"orderdate\"]<=\"2020-10-24 03:00:00\") & (df_trx_bu[\"orderdate\"]>\"2020-10-17 03:00:00\")].sort_values(by=\"orderdate\", ascending = False)\n"
      ]
    },
    {
      "cell_type": "code",
      "execution_count": null,
      "metadata": {
        "id": "djnY-Fn6TjTY"
      },
      "outputs": [],
      "source": [
        "#visit time intervals\n",
        "df_visit_L1D = df_visit_bu[df_visit_bu[\"partition_date\"]>\"2020-10-30 03:00:00\"].sort_values(by=\"partition_date\", ascending = False)\n",
        "df_visit_L1_3D = df_visit_bu[(df_visit_bu[\"partition_date\"]<=\"2020-10-30 03:00:00\") & (df_visit_bu[\"partition_date\"]>\"2020-10-28 03:00:00\")].sort_values(by=\"partition_date\", ascending = False)\n",
        "df_visit_L3_7D = df_visit_bu[(df_visit_bu[\"partition_date\"]<=\"2020-10-28 03:00:00\") & (df_visit_bu[\"partition_date\"]>\"2020-10-24 03:00:00\")].sort_values(by=\"partition_date\", ascending = False)\n",
        "df_visit_L7_14D = df_visit_bu[(df_visit_bu[\"partition_date\"]<=\"2020-10-24 03:00:00\") & (df_visit_bu[\"partition_date\"]>\"2020-10-17 03:00:00\")].sort_values(by=\"partition_date\", ascending = False)"
      ]
    },
    {
      "cell_type": "code",
      "execution_count": null,
      "metadata": {
        "id": "QtHvVJrcZbeY"
      },
      "outputs": [],
      "source": [
        "#fav time intervals\n",
        "df_fav_L1D = df_fav_bu[df_fav_bu[\"partition_date\"]>\"2020-10-30 03:00:00\"].sort_values(by=\"partition_date\", ascending = False)\n",
        "df_fav_L1_3D = df_fav_bu[(df_fav_bu[\"partition_date\"]<=\"2020-10-30 03:00:00\") & (df_fav_bu[\"partition_date\"]>\"2020-10-28 03:00:00\")].sort_values(by=\"partition_date\", ascending = False)\n",
        "df_fav_L3_7D = df_fav_bu[(df_fav_bu[\"partition_date\"]<=\"2020-10-28 03:00:00\") & (df_fav_bu[\"partition_date\"]>\"2020-10-24 03:00:00\")].sort_values(by=\"partition_date\", ascending = False)\n",
        "df_fav_L7_14D = df_fav_bu[(df_fav_bu[\"partition_date\"]<=\"2020-10-24 03:00:00\") & (df_fav_bu[\"partition_date\"]>\"2020-10-17 03:00:00\")].sort_values(by=\"partition_date\", ascending = False)"
      ]
    },
    {
      "cell_type": "code",
      "execution_count": null,
      "metadata": {
        "id": "KIrknUk0Zx8t"
      },
      "outputs": [],
      "source": [
        "#basket time intervals\n",
        "df_basket_L1D = df_basket_bu[df_basket_bu[\"partition_date\"]>\"2020-10-30 03:00:00\"].sort_values(by=\"partition_date\", ascending = False)\n",
        "df_basket_L1_3D = df_basket_bu[(df_basket_bu[\"partition_date\"]<=\"2020-10-30 03:00:00\") & (df_basket_bu[\"partition_date\"]>\"2020-10-28 03:00:00\")].sort_values(by=\"partition_date\", ascending = False)\n",
        "df_basket_L3_7D = df_basket_bu[(df_basket_bu[\"partition_date\"]<=\"2020-10-28 03:00:00\") & (df_basket_bu[\"partition_date\"]>\"2020-10-24 03:00:00\")].sort_values(by=\"partition_date\", ascending = False)\n",
        "df_basket_L7_14D = df_basket_bu[(df_basket_bu[\"partition_date\"]<=\"2020-10-24 03:00:00\") & (df_basket_bu[\"partition_date\"]>\"2020-10-17 03:00:00\")].sort_values(by=\"partition_date\", ascending = False)"
      ]
    },
    {
      "cell_type": "code",
      "execution_count": null,
      "metadata": {
        "id": "SGPQYLAhbtRb"
      },
      "outputs": [],
      "source": [
        "#addsearchcount\n",
        "df_search_term[\"search_count\"]=1.0"
      ]
    },
    {
      "cell_type": "code",
      "execution_count": null,
      "metadata": {
        "id": "YjZRULNyas62"
      },
      "outputs": [],
      "source": [
        "#search time intervals\n",
        "df_search_L1D = df_search_term[df_search_term[\"partition_date\"]>\"2020-10-30 03:00:00\"].sort_values(by=\"partition_date\", ascending = False)\n",
        "df_search_L1_3D = df_search_term[(df_search_term[\"partition_date\"]<=\"2020-10-30 03:00:00\") & (df_search_term[\"partition_date\"]>\"2020-10-28 03:00:00\")].sort_values(by=\"partition_date\", ascending = False)\n",
        "df_search_L3_7D = df_search_term[(df_search_term[\"partition_date\"]<=\"2020-10-28 03:00:00\") & (df_search_term[\"partition_date\"]>\"2020-10-24 03:00:00\")].sort_values(by=\"partition_date\", ascending = False)\n",
        "df_search_L7_14D = df_search_term[(df_search_term[\"partition_date\"]<=\"2020-10-24 03:00:00\") & (df_search_term[\"partition_date\"]>\"2020-10-17 03:00:00\")].sort_values(by=\"partition_date\", ascending = False)"
      ]
    },
    {
      "cell_type": "markdown",
      "metadata": {
        "id": "1uH-6h-9_N6x"
      },
      "source": [
        "Group by user id and current bu group name"
      ]
    },
    {
      "cell_type": "code",
      "execution_count": null,
      "metadata": {
        "colab": {
          "base_uri": "https://localhost:8080/"
        },
        "id": "YylHVpcM-i6f",
        "outputId": "1123e14d-38d0-4644-bef9-985a05143fa3"
      },
      "outputs": [
        {
          "output_type": "stream",
          "name": "stderr",
          "text": [
            "/usr/local/lib/python3.7/dist-packages/ipykernel_launcher.py:2: FutureWarning: Indexing with multiple keys (implicitly converted to a tuple of keys) will be deprecated, use a list instead.\n",
            "  \n",
            "/usr/local/lib/python3.7/dist-packages/ipykernel_launcher.py:3: FutureWarning: Indexing with multiple keys (implicitly converted to a tuple of keys) will be deprecated, use a list instead.\n",
            "  This is separate from the ipykernel package so we can avoid doing imports until\n",
            "/usr/local/lib/python3.7/dist-packages/ipykernel_launcher.py:4: FutureWarning: Indexing with multiple keys (implicitly converted to a tuple of keys) will be deprecated, use a list instead.\n",
            "  after removing the cwd from sys.path.\n",
            "/usr/local/lib/python3.7/dist-packages/ipykernel_launcher.py:5: FutureWarning: Indexing with multiple keys (implicitly converted to a tuple of keys) will be deprecated, use a list instead.\n",
            "  \"\"\"\n",
            "/usr/local/lib/python3.7/dist-packages/ipykernel_launcher.py:6: FutureWarning: Indexing with multiple keys (implicitly converted to a tuple of keys) will be deprecated, use a list instead.\n",
            "  \n"
          ]
        }
      ],
      "source": [
        "#trxgroup\n",
        "trx_L0D_gby_userid_bu = df_trx_L0D.groupby(by= [\"userid\",\"currentbugroupname\"])[\"quantity\",\"revenue\", \"order\"].sum().reset_index()\n",
        "trx_L1D_gby_userid_bu = df_trx_L1D.groupby(by= [\"userid\",\"currentbugroupname\"])[\"quantity\",\"revenue\", \"order\"].sum().reset_index()\n",
        "trx_L1_3D_gby_userid_bu = df_trx_L1_3D.groupby(by= [\"userid\",\"currentbugroupname\"])[\"quantity\",\"revenue\", \"order\"].sum().reset_index()\n",
        "trx_L3_7D_gby_userid_bu = df_trx_L3_7D.groupby(by= [\"userid\",\"currentbugroupname\"])[\"quantity\",\"revenue\", \"order\"].sum().reset_index()\n",
        "trx_L7_14D_gby_userid_bu = df_trx_L7_14D.groupby(by= [\"userid\",\"currentbugroupname\"])[\"quantity\",\"revenue\", \"order\"].sum().reset_index()"
      ]
    },
    {
      "cell_type": "code",
      "execution_count": null,
      "metadata": {
        "id": "obwRWEGacxq2"
      },
      "outputs": [],
      "source": [
        "#visitgroup\n",
        "visit_L1D_gby_userid_bu = df_visit_L1D.groupby(by= [\"userid\",\"currentbugroupname\"])[\"productdetailcount\"].sum().reset_index()\n",
        "visit_L1_3D_gby_userid_bu = df_visit_L1_3D.groupby(by= [\"userid\",\"currentbugroupname\"])[\"productdetailcount\"].sum().reset_index()\n",
        "visit_L3_7D_gby_userid_bu = df_visit_L3_7D.groupby(by= [\"userid\",\"currentbugroupname\"])[\"productdetailcount\"].sum().reset_index()\n",
        "visit_L7_14D_gby_userid_bu = df_visit_L7_14D.groupby(by= [\"userid\",\"currentbugroupname\"])[\"productdetailcount\"].sum().reset_index()"
      ]
    },
    {
      "cell_type": "code",
      "execution_count": null,
      "metadata": {
        "id": "y21AABJ1dOqE"
      },
      "outputs": [],
      "source": [
        "#favgroup\n",
        "fav_L1D_gby_userid_bu = df_fav_L1D.groupby(by= [\"userid\",\"currentbugroupname\"])[\"fav_count\"].sum().reset_index()\n",
        "fav_L1_3D_gby_userid_bu = df_fav_L1_3D.groupby(by= [\"userid\",\"currentbugroupname\"])[\"fav_count\"].sum().reset_index()\n",
        "fav_L3_7D_gby_userid_bu = df_fav_L3_7D.groupby(by= [\"userid\",\"currentbugroupname\"])[\"fav_count\"].sum().reset_index()\n",
        "fav_L7_14D_gby_userid_bu = df_fav_L7_14D.groupby(by= [\"userid\",\"currentbugroupname\"])[\"fav_count\"].sum().reset_index()"
      ]
    },
    {
      "cell_type": "code",
      "execution_count": null,
      "metadata": {
        "id": "Qq8EGupCduZU"
      },
      "outputs": [],
      "source": [
        "#basketgroup\n",
        "basket_L1D_gby_userid_bu = df_basket_L1D.groupby(by= [\"userid\",\"currentbugroupname\"])[\"addtobasket_count\"].sum().reset_index()\n",
        "basket_L1_3D_gby_userid_bu = df_basket_L1_3D.groupby(by= [\"userid\",\"currentbugroupname\"])[\"addtobasket_count\"].sum().reset_index()\n",
        "basket_L3_7D_gby_userid_bu = df_basket_L3_7D.groupby(by= [\"userid\",\"currentbugroupname\"])[\"addtobasket_count\"].sum().reset_index()\n",
        "basket_L7_14D_gby_userid_bu = df_basket_L7_14D.groupby(by= [\"userid\",\"currentbugroupname\"])[\"addtobasket_count\"].sum().reset_index()"
      ]
    },
    {
      "cell_type": "markdown",
      "metadata": {
        "id": "pUS_pDWgZNz3"
      },
      "source": [
        "Group by onlyuser id,  \n",
        "I aim to gain the information by grouping **only the user id.**, because i have many missing data due to the content id match in the product data source"
      ]
    },
    {
      "cell_type": "code",
      "execution_count": null,
      "metadata": {
        "colab": {
          "base_uri": "https://localhost:8080/"
        },
        "id": "2w9lo8_yZrwR",
        "outputId": "6a5ba39b-f190-46ca-ce12-e386a7015e66"
      },
      "outputs": [
        {
          "output_type": "stream",
          "name": "stderr",
          "text": [
            "/usr/local/lib/python3.7/dist-packages/ipykernel_launcher.py:2: FutureWarning: Indexing with multiple keys (implicitly converted to a tuple of keys) will be deprecated, use a list instead.\n",
            "  \n",
            "/usr/local/lib/python3.7/dist-packages/ipykernel_launcher.py:3: FutureWarning: Indexing with multiple keys (implicitly converted to a tuple of keys) will be deprecated, use a list instead.\n",
            "  This is separate from the ipykernel package so we can avoid doing imports until\n",
            "/usr/local/lib/python3.7/dist-packages/ipykernel_launcher.py:4: FutureWarning: Indexing with multiple keys (implicitly converted to a tuple of keys) will be deprecated, use a list instead.\n",
            "  after removing the cwd from sys.path.\n",
            "/usr/local/lib/python3.7/dist-packages/ipykernel_launcher.py:5: FutureWarning: Indexing with multiple keys (implicitly converted to a tuple of keys) will be deprecated, use a list instead.\n",
            "  \"\"\"\n",
            "/usr/local/lib/python3.7/dist-packages/ipykernel_launcher.py:6: FutureWarning: Indexing with multiple keys (implicitly converted to a tuple of keys) will be deprecated, use a list instead.\n",
            "  \n"
          ]
        }
      ],
      "source": [
        "#trxgroup\n",
        "trx_L0D_gby_userid = df_trx_L0D.groupby(by= [\"userid\"])[\"quantity\",\"revenue\", \"order\"].sum().reset_index()\n",
        "trx_L1D_gby_userid = df_trx_L1D.groupby(by= [\"userid\"])[\"quantity\",\"revenue\", \"order\"].sum().reset_index()\n",
        "trx_L1_3D_gby_userid = df_trx_L1_3D.groupby(by= [\"userid\"])[\"quantity\",\"revenue\", \"order\"].sum().reset_index()\n",
        "trx_L3_7D_gby_userid = df_trx_L3_7D.groupby(by= [\"userid\"])[\"quantity\",\"revenue\", \"order\"].sum().reset_index()\n",
        "trx_L7_14D_gby_userid = df_trx_L7_14D.groupby(by= [\"userid\"])[\"quantity\",\"revenue\", \"order\"].sum().reset_index()"
      ]
    },
    {
      "cell_type": "code",
      "execution_count": null,
      "metadata": {
        "id": "XGWmCrpkZr3y"
      },
      "outputs": [],
      "source": [
        "#visitgroup\n",
        "visit_L1D_gby_userid = df_visit_L1D.groupby(by= [\"userid\"])[\"productdetailcount\"].sum().reset_index()\n",
        "visit_L1_3D_gby_userid = df_visit_L1_3D.groupby(by= [\"userid\"])[\"productdetailcount\"].sum().reset_index()\n",
        "visit_L3_7D_gby_userid = df_visit_L3_7D.groupby(by= [\"userid\"])[\"productdetailcount\"].sum().reset_index()\n",
        "visit_L7_14D_gby_userid = df_visit_L7_14D.groupby(by= [\"userid\"])[\"productdetailcount\"].sum().reset_index()"
      ]
    },
    {
      "cell_type": "code",
      "execution_count": null,
      "metadata": {
        "id": "eLE6BSsMaWz2"
      },
      "outputs": [],
      "source": [
        "#favgroup\n",
        "fav_L1D_gby_userid = df_fav_L1D.groupby(by= [\"userid\"])[\"fav_count\"].sum().reset_index()\n",
        "fav_L1_3D_gby_userid = df_fav_L1_3D.groupby(by= [\"userid\"])[\"fav_count\"].sum().reset_index()\n",
        "fav_L3_7D_gby_userid = df_fav_L3_7D.groupby(by= [\"userid\"])[\"fav_count\"].sum().reset_index()\n",
        "fav_L7_14D_gby_userid = df_fav_L7_14D.groupby(by= [\"userid\"])[\"fav_count\"].sum().reset_index()"
      ]
    },
    {
      "cell_type": "code",
      "execution_count": null,
      "metadata": {
        "id": "Pq9IRfGdZsAE"
      },
      "outputs": [],
      "source": [
        "#basketgroup\n",
        "basket_L1D_gby_userid = df_basket_L1D.groupby(by= [\"userid\"])[\"addtobasket_count\"].sum().reset_index()\n",
        "basket_L1_3D_gby_userid = df_basket_L1_3D.groupby(by= [\"userid\"])[\"addtobasket_count\"].sum().reset_index()\n",
        "basket_L3_7D_gby_userid = df_basket_L3_7D.groupby(by= [\"userid\",])[\"addtobasket_count\"].sum().reset_index()\n",
        "basket_L7_14D_gby_userid = df_basket_L7_14D.groupby(by= [\"userid\"])[\"addtobasket_count\"].sum().reset_index()"
      ]
    },
    {
      "cell_type": "code",
      "execution_count": null,
      "metadata": {
        "id": "OZ_uuhlQZsJj"
      },
      "outputs": [],
      "source": [
        "#searchgroup\n",
        "search_L1D_gby_userid = df_search_L1D.groupby(by= [\"userid\"])[\"search_count\"].sum().reset_index()\n",
        "search_L1_3D_gby_userid = df_search_L1_3D.groupby(by= [\"userid\"])[\"search_count\"].sum().reset_index()\n",
        "search_L3_7D_gby_userid = df_search_L3_7D.groupby(by= [\"userid\",])[\"search_count\"].sum().reset_index()\n",
        "search_L7_14D_gby_userid = df_search_L7_14D.groupby(by= [\"userid\"])[\"search_count\"].sum().reset_index()\n"
      ]
    },
    {
      "cell_type": "markdown",
      "metadata": {
        "id": "4wARqS-9ekd6"
      },
      "source": [
        "Final Train Data"
      ]
    },
    {
      "cell_type": "code",
      "execution_count": null,
      "metadata": {
        "id": "jVb8-d0pemU-"
      },
      "outputs": [],
      "source": [
        "df_train_data_3 = df_train_data_2.merge(trx_L1D_gby_userid_bu, on = [\"userid\",\"currentbugroupname\"], how=\"left\", suffixes = (\"train\", \"\")) \\\n",
        ".merge(trx_L1D_gby_userid, on = [\"userid\"], how=\"left\", suffixes = (\"_L1D_user_group\", \"_L1D_user\")) \\\n",
        ".merge(trx_L1_3D_gby_userid_bu, on = [\"userid\",\"currentbugroupname\"], how=\"left\", suffixes = (\"\", \"_L1_3D_user_group\")) \\\n",
        ".merge(trx_L3_7D_gby_userid_bu, on = [\"userid\",\"currentbugroupname\"], how=\"left\", suffixes = (\"_L1_3D_user_group\", \"_L3_7D_user_group\")) \\\n",
        ".merge(trx_L7_14D_gby_userid_bu, on = [\"userid\",\"currentbugroupname\"], how=\"left\", suffixes = (\"_L3_7D_user_group\", \"\")) \\\n",
        ".merge(trx_L0D_gby_userid_bu, on= [\"userid\",\"currentbugroupname\"], how=\"left\", suffixes = (\"_L7_14D_user_group\", \"_LOD_user_group\")) \\\n",
        ".merge(visit_L1D_gby_userid_bu, on = [\"userid\",\"currentbugroupname\"], how=\"left\", suffixes = (\"_L0D_user_group\", \"_L1D_user_group\")) \\\n",
        ".merge(visit_L1_3D_gby_userid_bu, on = [\"userid\",\"currentbugroupname\"], how=\"left\", suffixes = (\"_L1D_user_group\", \"_L1_3D_user_group\")) \\\n",
        ".merge(visit_L3_7D_gby_userid_bu, on = [\"userid\",\"currentbugroupname\"], how=\"left\", suffixes = (\"_L1_3D_user_group\", \"_L3_7D_user_group\")) \\\n",
        ".merge(visit_L7_14D_gby_userid_bu, on = [\"userid\",\"currentbugroupname\"], how=\"left\", suffixes = (\"_L3_7D_user_group\", \"_L7_14D_user_group\")) \\\n",
        ".merge(fav_L1D_gby_userid_bu, on = [\"userid\",\"currentbugroupname\"], how=\"left\", suffixes = (\"_L7_14D_user_group\", \"_L1D_user_group\")) \\\n",
        ".merge(fav_L1_3D_gby_userid_bu, on = [\"userid\",\"currentbugroupname\"], how=\"left\", suffixes = (\"_L1D_user_group\", \"_L1_3D_user_group\")) \\\n",
        ".merge(fav_L3_7D_gby_userid_bu, on = [\"userid\",\"currentbugroupname\"], how=\"left\", suffixes = (\"_L1_3D_user_group\", \"_L3_7D_user_group\")) \\\n",
        ".merge(fav_L7_14D_gby_userid_bu, on = [\"userid\",\"currentbugroupname\"], how=\"left\", suffixes = (\"_L3_7D_user_group\", \"_L7_14D_user_group\")) \\\n",
        ".merge(basket_L1D_gby_userid_bu, on = [\"userid\",\"currentbugroupname\"], how=\"left\", suffixes = (\"_L7_14Dv\", \"_L1D_user_group\")) \\\n",
        ".merge(basket_L1_3D_gby_userid_bu, on = [\"userid\",\"currentbugroupname\"], how=\"left\", suffixes = (\"_L1D_user_group\", \"_L1_3D_user_group\")) \\\n",
        ".merge(basket_L3_7D_gby_userid_bu, on = [\"userid\",\"currentbugroupname\"], how=\"left\", suffixes = (\"_L1_3D_user_group\", \"_L3_7D_user_group\")) \\\n",
        ".merge(basket_L7_14D_gby_userid_bu, on = [\"userid\",\"currentbugroupname\"], how=\"left\", suffixes = (\"_L3_7D_user_group\", \"_L7_14D_user_group\")) \\\n",
        ".merge(trx_L1_3D_gby_userid, on = [\"userid\"], how=\"left\", suffixes = (\"_L7_14D_user_group\", \"_L1_3D_user\")) \\\n",
        ".merge(trx_L3_7D_gby_userid, on = [\"userid\"], how=\"left\", suffixes = (\"_L1_3D_user\", \"_L3_7D_user\")) \\\n",
        ".merge(trx_L7_14D_gby_userid, on = [\"userid\"], how=\"left\", suffixes = (\"_L3_7D_user\", \"\")) \\\n",
        ".merge(trx_L0D_gby_userid, on= [\"userid\"], how=\"left\", suffixes = (\"_L7_14D_user\", \"_LOD_user\")) \\\n",
        ".merge(visit_L1D_gby_userid, on = [\"userid\"], how=\"left\", suffixes = (\"_L0D_user\", \"_L1D_user\")) \\\n",
        ".merge(visit_L1_3D_gby_userid, on = [\"userid\"], how=\"left\", suffixes = (\"_L1D_user\", \"_L1_3D_user\")) \\\n",
        ".merge(visit_L3_7D_gby_userid, on = [\"userid\"], how=\"left\", suffixes = (\"_L1_3D_user\", \"_L3_7D_user\")) \\\n",
        ".merge(visit_L7_14D_gby_userid, on = [\"userid\"], how=\"left\", suffixes = (\"_L3_7D_user\", \"_L7_14D_user\")) \\\n",
        ".merge(fav_L1D_gby_userid, on = [\"userid\"], how=\"left\", suffixes = (\"_L7_14D_user\", \"_L1D_user\")) \\\n",
        ".merge(fav_L1_3D_gby_userid, on = [\"userid\"], how=\"left\", suffixes = (\"_L1D_user\", \"_L1_3D_user\")) \\\n",
        ".merge(fav_L3_7D_gby_userid, on = [\"userid\"], how=\"left\", suffixes = (\"_L1_3D_user\", \"_L3_7D_user\")) \\\n",
        ".merge(fav_L7_14D_gby_userid, on = [\"userid\"], how=\"left\", suffixes = (\"_L3_7D_user\", \"_L7_14D_user\")) \\\n",
        ".merge(basket_L1D_gby_userid, on = [\"userid\"], how=\"left\", suffixes = (\"_L7_14D_user\", \"_L1D_user\")) \\\n",
        ".merge(basket_L1_3D_gby_userid, on = [\"userid\"], how=\"left\", suffixes = (\"_L1D_user\", \"_L1_3D_user\")) \\\n",
        ".merge(basket_L3_7D_gby_userid, on = [\"userid\"], how=\"left\", suffixes = (\"_L1_3D_user\", \"_L3_7D_user\")) \\\n",
        ".merge(basket_L7_14D_gby_userid, on = [\"userid\"], how=\"left\", suffixes = (\"_L3_7D_user\", \"_L7_14D_user\")) \\\n",
        ".merge(search_L1D_gby_userid, on = [\"userid\"], how=\"left\", suffixes = (\"_L7_14D_user\", \"_L1D_user\")) \\\n",
        ".merge(search_L1_3D_gby_userid, on = [\"userid\"], how=\"left\", suffixes = (\"_L1D_user\", \"_L1_3D_user\")) \\\n",
        ".merge(search_L3_7D_gby_userid, on = [\"userid\"], how=\"left\", suffixes = (\"_L1_3D_user\", \"_L3_7D_user\")) \\\n",
        ".merge(search_L7_14D_gby_userid, on = [\"userid\"], how=\"left\", suffixes = (\"_L3_7D_user\", \"_L7_14D_user\")) \n"
      ]
    },
    {
      "cell_type": "code",
      "execution_count": null,
      "metadata": {
        "colab": {
          "base_uri": "https://localhost:8080/",
          "height": 317
        },
        "id": "vUz1qVpehOpE",
        "outputId": "0ba72fdb-adfc-4812-cd46-021eb804628e"
      },
      "outputs": [
        {
          "output_type": "execute_result",
          "data": {
            "text/plain": [
              "     userid        currentbugroupname  is_ordered  quantity_L1D_user_group  \\\n",
              "0  28704634                        GM         1.0                      NaN   \n",
              "1  28704634                        Ev         0.0                      NaN   \n",
              "2  28704634                   Mobilya         0.0                      NaN   \n",
              "3  28704634                  Kozmetik         0.0                      NaN   \n",
              "4  28704634  Aksesuar & Saat & Gözlük         0.0                      NaN   \n",
              "\n",
              "   revenue_L1D_user_group  order_L1D_user_group  quantity_L1D_user  \\\n",
              "0                     NaN                   NaN                NaN   \n",
              "1                     NaN                   NaN                NaN   \n",
              "2                     NaN                   NaN                NaN   \n",
              "3                     NaN                   NaN                NaN   \n",
              "4                     NaN                   NaN                NaN   \n",
              "\n",
              "   revenue_L1D_user  order_L1D_user  quantity_L1_3D_user_group  ...  \\\n",
              "0               NaN             NaN                        NaN  ...   \n",
              "1               NaN             NaN                        NaN  ...   \n",
              "2               NaN             NaN                        NaN  ...   \n",
              "3               NaN             NaN                        NaN  ...   \n",
              "4               NaN             NaN                        NaN  ...   \n",
              "\n",
              "   addtobasket_count_L1_3D_user  addtobasket_count_L3_7D_user  \\\n",
              "0                           NaN                           NaN   \n",
              "1                           NaN                           NaN   \n",
              "2                           NaN                           NaN   \n",
              "3                           NaN                           NaN   \n",
              "4                           NaN                           NaN   \n",
              "\n",
              "   addtobasket_count_L7_14D_user  search_count_L1D_user  \\\n",
              "0                            NaN                    4.0   \n",
              "1                            NaN                    4.0   \n",
              "2                            NaN                    4.0   \n",
              "3                            NaN                    4.0   \n",
              "4                            NaN                    4.0   \n",
              "\n",
              "   search_count_L1_3D_user  search_count_L3_7D_user  search_count_L7_14D_user  \\\n",
              "0                      2.0                      2.0                       3.0   \n",
              "1                      2.0                      2.0                       3.0   \n",
              "2                      2.0                      2.0                       3.0   \n",
              "3                      2.0                      2.0                       3.0   \n",
              "4                      2.0                      2.0                       3.0   \n",
              "\n",
              "   gender   age  tenure  \n",
              "0     Bay  22.0      10  \n",
              "1     Bay  22.0      10  \n",
              "2     Bay  22.0      10  \n",
              "3     Bay  22.0      10  \n",
              "4     Bay  22.0      10  \n",
              "\n",
              "[5 rows x 64 columns]"
            ],
            "text/html": [
              "\n",
              "  <div id=\"df-b86ec7d9-7ca0-4a65-b78e-e6c31053fdaa\">\n",
              "    <div class=\"colab-df-container\">\n",
              "      <div>\n",
              "<style scoped>\n",
              "    .dataframe tbody tr th:only-of-type {\n",
              "        vertical-align: middle;\n",
              "    }\n",
              "\n",
              "    .dataframe tbody tr th {\n",
              "        vertical-align: top;\n",
              "    }\n",
              "\n",
              "    .dataframe thead th {\n",
              "        text-align: right;\n",
              "    }\n",
              "</style>\n",
              "<table border=\"1\" class=\"dataframe\">\n",
              "  <thead>\n",
              "    <tr style=\"text-align: right;\">\n",
              "      <th></th>\n",
              "      <th>userid</th>\n",
              "      <th>currentbugroupname</th>\n",
              "      <th>is_ordered</th>\n",
              "      <th>quantity_L1D_user_group</th>\n",
              "      <th>revenue_L1D_user_group</th>\n",
              "      <th>order_L1D_user_group</th>\n",
              "      <th>quantity_L1D_user</th>\n",
              "      <th>revenue_L1D_user</th>\n",
              "      <th>order_L1D_user</th>\n",
              "      <th>quantity_L1_3D_user_group</th>\n",
              "      <th>...</th>\n",
              "      <th>addtobasket_count_L1_3D_user</th>\n",
              "      <th>addtobasket_count_L3_7D_user</th>\n",
              "      <th>addtobasket_count_L7_14D_user</th>\n",
              "      <th>search_count_L1D_user</th>\n",
              "      <th>search_count_L1_3D_user</th>\n",
              "      <th>search_count_L3_7D_user</th>\n",
              "      <th>search_count_L7_14D_user</th>\n",
              "      <th>gender</th>\n",
              "      <th>age</th>\n",
              "      <th>tenure</th>\n",
              "    </tr>\n",
              "  </thead>\n",
              "  <tbody>\n",
              "    <tr>\n",
              "      <th>0</th>\n",
              "      <td>28704634</td>\n",
              "      <td>GM</td>\n",
              "      <td>1.0</td>\n",
              "      <td>NaN</td>\n",
              "      <td>NaN</td>\n",
              "      <td>NaN</td>\n",
              "      <td>NaN</td>\n",
              "      <td>NaN</td>\n",
              "      <td>NaN</td>\n",
              "      <td>NaN</td>\n",
              "      <td>...</td>\n",
              "      <td>NaN</td>\n",
              "      <td>NaN</td>\n",
              "      <td>NaN</td>\n",
              "      <td>4.0</td>\n",
              "      <td>2.0</td>\n",
              "      <td>2.0</td>\n",
              "      <td>3.0</td>\n",
              "      <td>Bay</td>\n",
              "      <td>22.0</td>\n",
              "      <td>10</td>\n",
              "    </tr>\n",
              "    <tr>\n",
              "      <th>1</th>\n",
              "      <td>28704634</td>\n",
              "      <td>Ev</td>\n",
              "      <td>0.0</td>\n",
              "      <td>NaN</td>\n",
              "      <td>NaN</td>\n",
              "      <td>NaN</td>\n",
              "      <td>NaN</td>\n",
              "      <td>NaN</td>\n",
              "      <td>NaN</td>\n",
              "      <td>NaN</td>\n",
              "      <td>...</td>\n",
              "      <td>NaN</td>\n",
              "      <td>NaN</td>\n",
              "      <td>NaN</td>\n",
              "      <td>4.0</td>\n",
              "      <td>2.0</td>\n",
              "      <td>2.0</td>\n",
              "      <td>3.0</td>\n",
              "      <td>Bay</td>\n",
              "      <td>22.0</td>\n",
              "      <td>10</td>\n",
              "    </tr>\n",
              "    <tr>\n",
              "      <th>2</th>\n",
              "      <td>28704634</td>\n",
              "      <td>Mobilya</td>\n",
              "      <td>0.0</td>\n",
              "      <td>NaN</td>\n",
              "      <td>NaN</td>\n",
              "      <td>NaN</td>\n",
              "      <td>NaN</td>\n",
              "      <td>NaN</td>\n",
              "      <td>NaN</td>\n",
              "      <td>NaN</td>\n",
              "      <td>...</td>\n",
              "      <td>NaN</td>\n",
              "      <td>NaN</td>\n",
              "      <td>NaN</td>\n",
              "      <td>4.0</td>\n",
              "      <td>2.0</td>\n",
              "      <td>2.0</td>\n",
              "      <td>3.0</td>\n",
              "      <td>Bay</td>\n",
              "      <td>22.0</td>\n",
              "      <td>10</td>\n",
              "    </tr>\n",
              "    <tr>\n",
              "      <th>3</th>\n",
              "      <td>28704634</td>\n",
              "      <td>Kozmetik</td>\n",
              "      <td>0.0</td>\n",
              "      <td>NaN</td>\n",
              "      <td>NaN</td>\n",
              "      <td>NaN</td>\n",
              "      <td>NaN</td>\n",
              "      <td>NaN</td>\n",
              "      <td>NaN</td>\n",
              "      <td>NaN</td>\n",
              "      <td>...</td>\n",
              "      <td>NaN</td>\n",
              "      <td>NaN</td>\n",
              "      <td>NaN</td>\n",
              "      <td>4.0</td>\n",
              "      <td>2.0</td>\n",
              "      <td>2.0</td>\n",
              "      <td>3.0</td>\n",
              "      <td>Bay</td>\n",
              "      <td>22.0</td>\n",
              "      <td>10</td>\n",
              "    </tr>\n",
              "    <tr>\n",
              "      <th>4</th>\n",
              "      <td>28704634</td>\n",
              "      <td>Aksesuar &amp; Saat &amp; Gözlük</td>\n",
              "      <td>0.0</td>\n",
              "      <td>NaN</td>\n",
              "      <td>NaN</td>\n",
              "      <td>NaN</td>\n",
              "      <td>NaN</td>\n",
              "      <td>NaN</td>\n",
              "      <td>NaN</td>\n",
              "      <td>NaN</td>\n",
              "      <td>...</td>\n",
              "      <td>NaN</td>\n",
              "      <td>NaN</td>\n",
              "      <td>NaN</td>\n",
              "      <td>4.0</td>\n",
              "      <td>2.0</td>\n",
              "      <td>2.0</td>\n",
              "      <td>3.0</td>\n",
              "      <td>Bay</td>\n",
              "      <td>22.0</td>\n",
              "      <td>10</td>\n",
              "    </tr>\n",
              "  </tbody>\n",
              "</table>\n",
              "<p>5 rows × 64 columns</p>\n",
              "</div>\n",
              "      <button class=\"colab-df-convert\" onclick=\"convertToInteractive('df-b86ec7d9-7ca0-4a65-b78e-e6c31053fdaa')\"\n",
              "              title=\"Convert this dataframe to an interactive table.\"\n",
              "              style=\"display:none;\">\n",
              "        \n",
              "  <svg xmlns=\"http://www.w3.org/2000/svg\" height=\"24px\"viewBox=\"0 0 24 24\"\n",
              "       width=\"24px\">\n",
              "    <path d=\"M0 0h24v24H0V0z\" fill=\"none\"/>\n",
              "    <path d=\"M18.56 5.44l.94 2.06.94-2.06 2.06-.94-2.06-.94-.94-2.06-.94 2.06-2.06.94zm-11 1L8.5 8.5l.94-2.06 2.06-.94-2.06-.94L8.5 2.5l-.94 2.06-2.06.94zm10 10l.94 2.06.94-2.06 2.06-.94-2.06-.94-.94-2.06-.94 2.06-2.06.94z\"/><path d=\"M17.41 7.96l-1.37-1.37c-.4-.4-.92-.59-1.43-.59-.52 0-1.04.2-1.43.59L10.3 9.45l-7.72 7.72c-.78.78-.78 2.05 0 2.83L4 21.41c.39.39.9.59 1.41.59.51 0 1.02-.2 1.41-.59l7.78-7.78 2.81-2.81c.8-.78.8-2.07 0-2.86zM5.41 20L4 18.59l7.72-7.72 1.47 1.35L5.41 20z\"/>\n",
              "  </svg>\n",
              "      </button>\n",
              "      \n",
              "  <style>\n",
              "    .colab-df-container {\n",
              "      display:flex;\n",
              "      flex-wrap:wrap;\n",
              "      gap: 12px;\n",
              "    }\n",
              "\n",
              "    .colab-df-convert {\n",
              "      background-color: #E8F0FE;\n",
              "      border: none;\n",
              "      border-radius: 50%;\n",
              "      cursor: pointer;\n",
              "      display: none;\n",
              "      fill: #1967D2;\n",
              "      height: 32px;\n",
              "      padding: 0 0 0 0;\n",
              "      width: 32px;\n",
              "    }\n",
              "\n",
              "    .colab-df-convert:hover {\n",
              "      background-color: #E2EBFA;\n",
              "      box-shadow: 0px 1px 2px rgba(60, 64, 67, 0.3), 0px 1px 3px 1px rgba(60, 64, 67, 0.15);\n",
              "      fill: #174EA6;\n",
              "    }\n",
              "\n",
              "    [theme=dark] .colab-df-convert {\n",
              "      background-color: #3B4455;\n",
              "      fill: #D2E3FC;\n",
              "    }\n",
              "\n",
              "    [theme=dark] .colab-df-convert:hover {\n",
              "      background-color: #434B5C;\n",
              "      box-shadow: 0px 1px 3px 1px rgba(0, 0, 0, 0.15);\n",
              "      filter: drop-shadow(0px 1px 2px rgba(0, 0, 0, 0.3));\n",
              "      fill: #FFFFFF;\n",
              "    }\n",
              "  </style>\n",
              "\n",
              "      <script>\n",
              "        const buttonEl =\n",
              "          document.querySelector('#df-b86ec7d9-7ca0-4a65-b78e-e6c31053fdaa button.colab-df-convert');\n",
              "        buttonEl.style.display =\n",
              "          google.colab.kernel.accessAllowed ? 'block' : 'none';\n",
              "\n",
              "        async function convertToInteractive(key) {\n",
              "          const element = document.querySelector('#df-b86ec7d9-7ca0-4a65-b78e-e6c31053fdaa');\n",
              "          const dataTable =\n",
              "            await google.colab.kernel.invokeFunction('convertToInteractive',\n",
              "                                                     [key], {});\n",
              "          if (!dataTable) return;\n",
              "\n",
              "          const docLinkHtml = 'Like what you see? Visit the ' +\n",
              "            '<a target=\"_blank\" href=https://colab.research.google.com/notebooks/data_table.ipynb>data table notebook</a>'\n",
              "            + ' to learn more about interactive tables.';\n",
              "          element.innerHTML = '';\n",
              "          dataTable['output_type'] = 'display_data';\n",
              "          await google.colab.output.renderOutput(dataTable, element);\n",
              "          const docLink = document.createElement('div');\n",
              "          docLink.innerHTML = docLinkHtml;\n",
              "          element.appendChild(docLink);\n",
              "        }\n",
              "      </script>\n",
              "    </div>\n",
              "  </div>\n",
              "  "
            ]
          },
          "metadata": {},
          "execution_count": 105
        }
      ],
      "source": [
        "#add demography data\n",
        "df_train_final = df_train_data_3.merge(df_demo, on=\"userid\", how= \"left\")\n",
        "df_train_final.head()"
      ]
    },
    {
      "cell_type": "code",
      "execution_count": null,
      "metadata": {
        "colab": {
          "base_uri": "https://localhost:8080/"
        },
        "id": "ZW6fpFBZmk14",
        "outputId": "b1d982d9-2932-43c0-d7b2-0dc61c5a839c"
      },
      "outputs": [
        {
          "output_type": "execute_result",
          "data": {
            "text/plain": [
              "Index(['userid', 'currentbugroupname', 'is_ordered', 'quantity_L1D_user_group',\n",
              "       'revenue_L1D_user_group', 'order_L1D_user_group', 'quantity_L1D_user',\n",
              "       'revenue_L1D_user', 'order_L1D_user', 'quantity_L1_3D_user_group',\n",
              "       'revenue_L1_3D_user_group', 'order_L1_3D_user_group',\n",
              "       'quantity_L3_7D_user_group', 'revenue_L3_7D_user_group',\n",
              "       'order_L3_7D_user_group', 'quantity_L7_14D_user_group',\n",
              "       'revenue_L7_14D_user_group', 'order_L7_14D_user_group',\n",
              "       'quantity_LOD_user_group', 'revenue_LOD_user_group',\n",
              "       'order_LOD_user_group', 'productdetailcount_L1D_user_group',\n",
              "       'productdetailcount_L1_3D_user_group',\n",
              "       'productdetailcount_L3_7D_user_group',\n",
              "       'productdetailcount_L7_14D_user_group', 'fav_count_L1D_user_group',\n",
              "       'fav_count_L1_3D_user_group', 'fav_count_L3_7D_user_group',\n",
              "       'fav_count_L7_14D_user_group', 'addtobasket_count_L1D_user_group',\n",
              "       'addtobasket_count_L1_3D_user_group',\n",
              "       'addtobasket_count_L3_7D_user_group',\n",
              "       'addtobasket_count_L7_14D_user_group', 'quantity_L1_3D_user',\n",
              "       'revenue_L1_3D_user', 'order_L1_3D_user', 'quantity_L3_7D_user',\n",
              "       'revenue_L3_7D_user', 'order_L3_7D_user', 'quantity_L7_14D_user',\n",
              "       'revenue_L7_14D_user', 'order_L7_14D_user', 'quantity_LOD_user',\n",
              "       'revenue_LOD_user', 'order_LOD_user', 'productdetailcount_L1D_user',\n",
              "       'productdetailcount_L1_3D_user', 'productdetailcount_L3_7D_user',\n",
              "       'productdetailcount_L7_14D_user', 'fav_count_L1D_user',\n",
              "       'fav_count_L1_3D_user', 'fav_count_L3_7D_user', 'fav_count_L7_14D_user',\n",
              "       'addtobasket_count_L1D_user', 'addtobasket_count_L1_3D_user',\n",
              "       'addtobasket_count_L3_7D_user', 'addtobasket_count_L7_14D_user',\n",
              "       'search_count_L1D_user', 'search_count_L1_3D_user',\n",
              "       'search_count_L3_7D_user', 'search_count_L7_14D_user', 'gender', 'age',\n",
              "       'tenure'],\n",
              "      dtype='object')"
            ]
          },
          "metadata": {},
          "execution_count": 106
        }
      ],
      "source": [
        "#check coloumns\n",
        "df_train_final.columns"
      ]
    },
    {
      "cell_type": "markdown",
      "metadata": {
        "id": "gHhQ7fDiZm1O"
      },
      "source": [
        "Data Analysis"
      ]
    },
    {
      "cell_type": "code",
      "execution_count": null,
      "metadata": {
        "colab": {
          "base_uri": "https://localhost:8080/",
          "height": 424
        },
        "id": "Shfi_sAaZ176",
        "outputId": "324e0f46-6d04-4d01-fa9c-44cb1244db9a"
      },
      "outputs": [
        {
          "output_type": "execute_result",
          "data": {
            "text/plain": [
              "                             count          mean           std      min  \\\n",
              "userid                    244824.0  1.925991e+07  1.129404e+07  2086.00   \n",
              "is_ordered                244824.0  1.010277e-01  3.013660e-01     0.00   \n",
              "quantity_L1D_user_group     1991.0  2.195881e+00  3.209878e+00     1.00   \n",
              "revenue_L1D_user_group      1991.0  2.362443e+02  1.109199e+03     0.96   \n",
              "order_L1D_user_group        1991.0  1.914616e+00  2.532153e+00     1.00   \n",
              "...                            ...           ...           ...      ...   \n",
              "search_count_L1_3D_user   110364.0  4.469610e+00  5.381854e+00     1.00   \n",
              "search_count_L3_7D_user   144516.0  6.645105e+00  8.649808e+00     1.00   \n",
              "search_count_L7_14D_user  171588.0  9.822295e+00  1.351438e+01     1.00   \n",
              "age                       151008.0  2.186062e+02  5.517107e+02   -48.00   \n",
              "tenure                    244824.0  4.168876e+01  3.981156e+01     0.00   \n",
              "\n",
              "                                  25%          50%         75%         max  \n",
              "userid                    11072978.00  17589376.00  27333908.0  44625651.0  \n",
              "is_ordered                       0.00         0.00         0.0         1.0  \n",
              "quantity_L1D_user_group          1.00         1.00         2.0        65.0  \n",
              "revenue_L1D_user_group          49.45        89.98       178.1     34960.0  \n",
              "order_L1D_user_group             1.00         1.00         2.0        44.0  \n",
              "...                               ...          ...         ...         ...  \n",
              "search_count_L1_3D_user          1.00         3.00         5.0       147.0  \n",
              "search_count_L3_7D_user          2.00         4.00         8.0       156.0  \n",
              "search_count_L7_14D_user         2.00         5.00        12.0       397.0  \n",
              "age                             27.00        35.00       120.0      2019.0  \n",
              "tenure                          11.00        24.00        66.0       129.0  \n",
              "\n",
              "[62 rows x 8 columns]"
            ],
            "text/html": [
              "\n",
              "  <div id=\"df-993c96bc-b98e-451c-a7cb-fa4172811a09\">\n",
              "    <div class=\"colab-df-container\">\n",
              "      <div>\n",
              "<style scoped>\n",
              "    .dataframe tbody tr th:only-of-type {\n",
              "        vertical-align: middle;\n",
              "    }\n",
              "\n",
              "    .dataframe tbody tr th {\n",
              "        vertical-align: top;\n",
              "    }\n",
              "\n",
              "    .dataframe thead th {\n",
              "        text-align: right;\n",
              "    }\n",
              "</style>\n",
              "<table border=\"1\" class=\"dataframe\">\n",
              "  <thead>\n",
              "    <tr style=\"text-align: right;\">\n",
              "      <th></th>\n",
              "      <th>count</th>\n",
              "      <th>mean</th>\n",
              "      <th>std</th>\n",
              "      <th>min</th>\n",
              "      <th>25%</th>\n",
              "      <th>50%</th>\n",
              "      <th>75%</th>\n",
              "      <th>max</th>\n",
              "    </tr>\n",
              "  </thead>\n",
              "  <tbody>\n",
              "    <tr>\n",
              "      <th>userid</th>\n",
              "      <td>244824.0</td>\n",
              "      <td>1.925991e+07</td>\n",
              "      <td>1.129404e+07</td>\n",
              "      <td>2086.00</td>\n",
              "      <td>11072978.00</td>\n",
              "      <td>17589376.00</td>\n",
              "      <td>27333908.0</td>\n",
              "      <td>44625651.0</td>\n",
              "    </tr>\n",
              "    <tr>\n",
              "      <th>is_ordered</th>\n",
              "      <td>244824.0</td>\n",
              "      <td>1.010277e-01</td>\n",
              "      <td>3.013660e-01</td>\n",
              "      <td>0.00</td>\n",
              "      <td>0.00</td>\n",
              "      <td>0.00</td>\n",
              "      <td>0.0</td>\n",
              "      <td>1.0</td>\n",
              "    </tr>\n",
              "    <tr>\n",
              "      <th>quantity_L1D_user_group</th>\n",
              "      <td>1991.0</td>\n",
              "      <td>2.195881e+00</td>\n",
              "      <td>3.209878e+00</td>\n",
              "      <td>1.00</td>\n",
              "      <td>1.00</td>\n",
              "      <td>1.00</td>\n",
              "      <td>2.0</td>\n",
              "      <td>65.0</td>\n",
              "    </tr>\n",
              "    <tr>\n",
              "      <th>revenue_L1D_user_group</th>\n",
              "      <td>1991.0</td>\n",
              "      <td>2.362443e+02</td>\n",
              "      <td>1.109199e+03</td>\n",
              "      <td>0.96</td>\n",
              "      <td>49.45</td>\n",
              "      <td>89.98</td>\n",
              "      <td>178.1</td>\n",
              "      <td>34960.0</td>\n",
              "    </tr>\n",
              "    <tr>\n",
              "      <th>order_L1D_user_group</th>\n",
              "      <td>1991.0</td>\n",
              "      <td>1.914616e+00</td>\n",
              "      <td>2.532153e+00</td>\n",
              "      <td>1.00</td>\n",
              "      <td>1.00</td>\n",
              "      <td>1.00</td>\n",
              "      <td>2.0</td>\n",
              "      <td>44.0</td>\n",
              "    </tr>\n",
              "    <tr>\n",
              "      <th>...</th>\n",
              "      <td>...</td>\n",
              "      <td>...</td>\n",
              "      <td>...</td>\n",
              "      <td>...</td>\n",
              "      <td>...</td>\n",
              "      <td>...</td>\n",
              "      <td>...</td>\n",
              "      <td>...</td>\n",
              "    </tr>\n",
              "    <tr>\n",
              "      <th>search_count_L1_3D_user</th>\n",
              "      <td>110364.0</td>\n",
              "      <td>4.469610e+00</td>\n",
              "      <td>5.381854e+00</td>\n",
              "      <td>1.00</td>\n",
              "      <td>1.00</td>\n",
              "      <td>3.00</td>\n",
              "      <td>5.0</td>\n",
              "      <td>147.0</td>\n",
              "    </tr>\n",
              "    <tr>\n",
              "      <th>search_count_L3_7D_user</th>\n",
              "      <td>144516.0</td>\n",
              "      <td>6.645105e+00</td>\n",
              "      <td>8.649808e+00</td>\n",
              "      <td>1.00</td>\n",
              "      <td>2.00</td>\n",
              "      <td>4.00</td>\n",
              "      <td>8.0</td>\n",
              "      <td>156.0</td>\n",
              "    </tr>\n",
              "    <tr>\n",
              "      <th>search_count_L7_14D_user</th>\n",
              "      <td>171588.0</td>\n",
              "      <td>9.822295e+00</td>\n",
              "      <td>1.351438e+01</td>\n",
              "      <td>1.00</td>\n",
              "      <td>2.00</td>\n",
              "      <td>5.00</td>\n",
              "      <td>12.0</td>\n",
              "      <td>397.0</td>\n",
              "    </tr>\n",
              "    <tr>\n",
              "      <th>age</th>\n",
              "      <td>151008.0</td>\n",
              "      <td>2.186062e+02</td>\n",
              "      <td>5.517107e+02</td>\n",
              "      <td>-48.00</td>\n",
              "      <td>27.00</td>\n",
              "      <td>35.00</td>\n",
              "      <td>120.0</td>\n",
              "      <td>2019.0</td>\n",
              "    </tr>\n",
              "    <tr>\n",
              "      <th>tenure</th>\n",
              "      <td>244824.0</td>\n",
              "      <td>4.168876e+01</td>\n",
              "      <td>3.981156e+01</td>\n",
              "      <td>0.00</td>\n",
              "      <td>11.00</td>\n",
              "      <td>24.00</td>\n",
              "      <td>66.0</td>\n",
              "      <td>129.0</td>\n",
              "    </tr>\n",
              "  </tbody>\n",
              "</table>\n",
              "<p>62 rows × 8 columns</p>\n",
              "</div>\n",
              "      <button class=\"colab-df-convert\" onclick=\"convertToInteractive('df-993c96bc-b98e-451c-a7cb-fa4172811a09')\"\n",
              "              title=\"Convert this dataframe to an interactive table.\"\n",
              "              style=\"display:none;\">\n",
              "        \n",
              "  <svg xmlns=\"http://www.w3.org/2000/svg\" height=\"24px\"viewBox=\"0 0 24 24\"\n",
              "       width=\"24px\">\n",
              "    <path d=\"M0 0h24v24H0V0z\" fill=\"none\"/>\n",
              "    <path d=\"M18.56 5.44l.94 2.06.94-2.06 2.06-.94-2.06-.94-.94-2.06-.94 2.06-2.06.94zm-11 1L8.5 8.5l.94-2.06 2.06-.94-2.06-.94L8.5 2.5l-.94 2.06-2.06.94zm10 10l.94 2.06.94-2.06 2.06-.94-2.06-.94-.94-2.06-.94 2.06-2.06.94z\"/><path d=\"M17.41 7.96l-1.37-1.37c-.4-.4-.92-.59-1.43-.59-.52 0-1.04.2-1.43.59L10.3 9.45l-7.72 7.72c-.78.78-.78 2.05 0 2.83L4 21.41c.39.39.9.59 1.41.59.51 0 1.02-.2 1.41-.59l7.78-7.78 2.81-2.81c.8-.78.8-2.07 0-2.86zM5.41 20L4 18.59l7.72-7.72 1.47 1.35L5.41 20z\"/>\n",
              "  </svg>\n",
              "      </button>\n",
              "      \n",
              "  <style>\n",
              "    .colab-df-container {\n",
              "      display:flex;\n",
              "      flex-wrap:wrap;\n",
              "      gap: 12px;\n",
              "    }\n",
              "\n",
              "    .colab-df-convert {\n",
              "      background-color: #E8F0FE;\n",
              "      border: none;\n",
              "      border-radius: 50%;\n",
              "      cursor: pointer;\n",
              "      display: none;\n",
              "      fill: #1967D2;\n",
              "      height: 32px;\n",
              "      padding: 0 0 0 0;\n",
              "      width: 32px;\n",
              "    }\n",
              "\n",
              "    .colab-df-convert:hover {\n",
              "      background-color: #E2EBFA;\n",
              "      box-shadow: 0px 1px 2px rgba(60, 64, 67, 0.3), 0px 1px 3px 1px rgba(60, 64, 67, 0.15);\n",
              "      fill: #174EA6;\n",
              "    }\n",
              "\n",
              "    [theme=dark] .colab-df-convert {\n",
              "      background-color: #3B4455;\n",
              "      fill: #D2E3FC;\n",
              "    }\n",
              "\n",
              "    [theme=dark] .colab-df-convert:hover {\n",
              "      background-color: #434B5C;\n",
              "      box-shadow: 0px 1px 3px 1px rgba(0, 0, 0, 0.15);\n",
              "      filter: drop-shadow(0px 1px 2px rgba(0, 0, 0, 0.3));\n",
              "      fill: #FFFFFF;\n",
              "    }\n",
              "  </style>\n",
              "\n",
              "      <script>\n",
              "        const buttonEl =\n",
              "          document.querySelector('#df-993c96bc-b98e-451c-a7cb-fa4172811a09 button.colab-df-convert');\n",
              "        buttonEl.style.display =\n",
              "          google.colab.kernel.accessAllowed ? 'block' : 'none';\n",
              "\n",
              "        async function convertToInteractive(key) {\n",
              "          const element = document.querySelector('#df-993c96bc-b98e-451c-a7cb-fa4172811a09');\n",
              "          const dataTable =\n",
              "            await google.colab.kernel.invokeFunction('convertToInteractive',\n",
              "                                                     [key], {});\n",
              "          if (!dataTable) return;\n",
              "\n",
              "          const docLinkHtml = 'Like what you see? Visit the ' +\n",
              "            '<a target=\"_blank\" href=https://colab.research.google.com/notebooks/data_table.ipynb>data table notebook</a>'\n",
              "            + ' to learn more about interactive tables.';\n",
              "          element.innerHTML = '';\n",
              "          dataTable['output_type'] = 'display_data';\n",
              "          await google.colab.output.renderOutput(dataTable, element);\n",
              "          const docLink = document.createElement('div');\n",
              "          docLink.innerHTML = docLinkHtml;\n",
              "          element.appendChild(docLink);\n",
              "        }\n",
              "      </script>\n",
              "    </div>\n",
              "  </div>\n",
              "  "
            ]
          },
          "metadata": {},
          "execution_count": 107
        }
      ],
      "source": [
        "df_train_final.describe().T"
      ]
    },
    {
      "cell_type": "markdown",
      "metadata": {
        "id": "grIy5H4OdKTx"
      },
      "source": [
        "Findings: In many features, there are values outside of normal in the upward max values.\n",
        "When we examine the age data at the first stage, we see that more than 25% of them are 120 years old. 1900 may have been entered as the year. If I delete outliers of age value, I will lose more than 25% of the data. That's why I'm dropping the age property."
      ]
    },
    {
      "cell_type": "code",
      "execution_count": null,
      "metadata": {
        "colab": {
          "base_uri": "https://localhost:8080/",
          "height": 270
        },
        "id": "EH8t0qALeb5J",
        "outputId": "94b84a2a-efb5-42cb-86a3-b387d8378fed"
      },
      "outputs": [
        {
          "output_type": "execute_result",
          "data": {
            "text/plain": [
              "<matplotlib.axes._subplots.AxesSubplot at 0x7f722f842890>"
            ]
          },
          "metadata": {},
          "execution_count": 108
        },
        {
          "output_type": "display_data",
          "data": {
            "text/plain": [
              "<Figure size 432x288 with 1 Axes>"
            ],
            "image/png": "[encoded data removed]"
          },
          "metadata": {
            "needs_background": "light"
          }
        }
      ],
      "source": [
        "#ageboxplot\n",
        "sns.boxplot( y=\"age\", data=df_train_final)"
      ]
    },
    {
      "cell_type": "code",
      "execution_count": null,
      "metadata": {
        "colab": {
          "base_uri": "https://localhost:8080/",
          "height": 270
        },
        "id": "S9XWN661euQ2",
        "outputId": "6d8481e1-79a9-4ca7-a3e6-12625ec75cca"
      },
      "outputs": [
        {
          "output_type": "execute_result",
          "data": {
            "text/plain": [
              "<matplotlib.axes._subplots.AxesSubplot at 0x7f7237c2d750>"
            ]
          },
          "metadata": {},
          "execution_count": 109
        },
        {
          "output_type": "display_data",
          "data": {
            "text/plain": [
              "<Figure size 432x288 with 1 Axes>"
            ],
            "image/png": "[encoded data removed]"
          },
          "metadata": {
            "needs_background": "light"
          }
        }
      ],
      "source": [
        "#tenureboxplot\n",
        "sns.boxplot( y=\"tenure\", data=df_train_final)"
      ]
    },
    {
      "cell_type": "code",
      "execution_count": null,
      "metadata": {
        "colab": {
          "base_uri": "https://localhost:8080/"
        },
        "id": "roo_FoX8fAHw",
        "outputId": "e1cc7792-62a5-4143-bdb7-f536beeeb3d0"
      },
      "outputs": [
        {
          "output_type": "execute_result",
          "data": {
            "text/plain": [
              "101932    129\n",
              "101928    129\n",
              "101930    129\n",
              "101931    129\n",
              "101933    129\n",
              "         ... \n",
              "148227      0\n",
              "148228      0\n",
              "148229      0\n",
              "148230      0\n",
              "231221      0\n",
              "Name: tenure, Length: 244824, dtype: int64"
            ]
          },
          "metadata": {},
          "execution_count": 110
        }
      ],
      "source": [
        "#tenuremaxvalues\n",
        "df_train_final[\"tenure\"].sort_values(ascending= False)"
      ]
    },
    {
      "cell_type": "code",
      "execution_count": null,
      "metadata": {
        "colab": {
          "base_uri": "https://localhost:8080/",
          "height": 265
        },
        "id": "AhrofzCZfgH1",
        "outputId": "c1579c4c-4adb-49e7-f396-fd035692c5c2"
      },
      "outputs": [
        {
          "output_type": "display_data",
          "data": {
            "text/plain": [
              "<Figure size 432x288 with 1 Axes>"
            ],
            "image/png": "[encoded data removed]"
          },
          "metadata": {
            "needs_background": "light"
          }
        }
      ],
      "source": [
        "#tenurehistogram\n",
        "plt.hist(df_train_final[\"tenure\"], bins=20)\n",
        "plt.show()"
      ]
    },
    {
      "cell_type": "markdown",
      "metadata": {
        "id": "fHAIR9-Qj7RO"
      },
      "source": [
        "Finding: When I examined the Tenure feature, I saw that there was a lot of incorrect data, so I dropped the feature."
      ]
    },
    {
      "cell_type": "code",
      "execution_count": null,
      "metadata": {
        "id": "5_Ey7VKekVnC"
      },
      "outputs": [],
      "source": [
        "#dropping age and tenure\n",
        "df_train_final2=df_train_final.drop(columns=['age', 'tenure'])\n"
      ]
    },
    {
      "cell_type": "code",
      "execution_count": null,
      "metadata": {
        "colab": {
          "base_uri": "https://localhost:8080/"
        },
        "id": "oOsS531DlGpk",
        "outputId": "947b96aa-15fb-498f-c7a6-d724cb982c67"
      },
      "outputs": [
        {
          "output_type": "execute_result",
          "data": {
            "text/plain": [
              "Index(['userid', 'currentbugroupname', 'is_ordered', 'quantity_L1D_user_group',\n",
              "       'revenue_L1D_user_group', 'order_L1D_user_group', 'quantity_L1D_user',\n",
              "       'revenue_L1D_user', 'order_L1D_user', 'quantity_L1_3D_user_group',\n",
              "       'revenue_L1_3D_user_group', 'order_L1_3D_user_group',\n",
              "       'quantity_L3_7D_user_group', 'revenue_L3_7D_user_group',\n",
              "       'order_L3_7D_user_group', 'quantity_L7_14D_user_group',\n",
              "       'revenue_L7_14D_user_group', 'order_L7_14D_user_group',\n",
              "       'quantity_LOD_user_group', 'revenue_LOD_user_group',\n",
              "       'order_LOD_user_group', 'productdetailcount_L1D_user_group',\n",
              "       'productdetailcount_L1_3D_user_group',\n",
              "       'productdetailcount_L3_7D_user_group',\n",
              "       'productdetailcount_L7_14D_user_group', 'fav_count_L1D_user_group',\n",
              "       'fav_count_L1_3D_user_group', 'fav_count_L3_7D_user_group',\n",
              "       'fav_count_L7_14D_user_group', 'addtobasket_count_L1D_user_group',\n",
              "       'addtobasket_count_L1_3D_user_group',\n",
              "       'addtobasket_count_L3_7D_user_group',\n",
              "       'addtobasket_count_L7_14D_user_group', 'quantity_L1_3D_user',\n",
              "       'revenue_L1_3D_user', 'order_L1_3D_user', 'quantity_L3_7D_user',\n",
              "       'revenue_L3_7D_user', 'order_L3_7D_user', 'quantity_L7_14D_user',\n",
              "       'revenue_L7_14D_user', 'order_L7_14D_user', 'quantity_LOD_user',\n",
              "       'revenue_LOD_user', 'order_LOD_user', 'productdetailcount_L1D_user',\n",
              "       'productdetailcount_L1_3D_user', 'productdetailcount_L3_7D_user',\n",
              "       'productdetailcount_L7_14D_user', 'fav_count_L1D_user',\n",
              "       'fav_count_L1_3D_user', 'fav_count_L3_7D_user', 'fav_count_L7_14D_user',\n",
              "       'addtobasket_count_L1D_user', 'addtobasket_count_L1_3D_user',\n",
              "       'addtobasket_count_L3_7D_user', 'addtobasket_count_L7_14D_user',\n",
              "       'search_count_L1D_user', 'search_count_L1_3D_user',\n",
              "       'search_count_L3_7D_user', 'search_count_L7_14D_user', 'gender', 'age',\n",
              "       'tenure'],\n",
              "      dtype='object')"
            ]
          },
          "metadata": {},
          "execution_count": 113
        }
      ],
      "source": [
        "#checkingcolumns\n",
        "df_train_final.columns"
      ]
    },
    {
      "cell_type": "code",
      "execution_count": null,
      "metadata": {
        "colab": {
          "base_uri": "https://localhost:8080/"
        },
        "id": "kvIoICHrTsEn",
        "outputId": "87b615d0-6ff6-4d61-e260-49b20973e4f0"
      },
      "outputs": [
        {
          "output_type": "execute_result",
          "data": {
            "text/plain": [
              "productdetailcount_L1D_user_group  revenue_L1D_user_group\n",
              "True                               True                      217283\n",
              "False                              True                       25550\n",
              "True                               False                       1011\n",
              "False                              False                        980\n",
              "dtype: int64"
            ]
          },
          "metadata": {},
          "execution_count": 114
        }
      ],
      "source": [
        "df_train_final2[[\"productdetailcount_L1D_user_group\", \"revenue_L1D_user_group\"]].isna().value_counts()"
      ]
    },
    {
      "cell_type": "markdown",
      "metadata": {
        "id": "ctS-YN8NU641"
      },
      "source": [
        "Finding: There are 1011 samples that are for sale but do not come to the product detail page at the same time. It may have gone directly from the favorite page to the cart."
      ]
    },
    {
      "cell_type": "code",
      "execution_count": null,
      "metadata": {
        "colab": {
          "base_uri": "https://localhost:8080/"
        },
        "id": "OKqUToxAWTij",
        "outputId": "a0bda0e3-e562-46cf-afce-e3c9db29c10b"
      },
      "outputs": [
        {
          "output_type": "execute_result",
          "data": {
            "text/plain": [
              "revenue_L1D_user_group  addtobasket_count_L1D_user_group\n",
              "True                    True                                242806\n",
              "False                   True                                  1991\n",
              "True                    False                                   27\n",
              "dtype: int64"
            ]
          },
          "metadata": {},
          "execution_count": 115
        }
      ],
      "source": [
        "df_train_final2[[\"revenue_L1D_user_group\", \"addtobasket_count_L1D_user_group\"]].isna().value_counts()"
      ]
    },
    {
      "cell_type": "markdown",
      "metadata": {
        "id": "mXOwGnRrZBzo"
      },
      "source": [
        "Finding: There are 1991 examples with the number of additions to the basket in the same time period and the income greater than 0. This means that most items are purchased at least one day after adding to the cart."
      ]
    },
    {
      "cell_type": "markdown",
      "metadata": {
        "id": "1ZyOKeZRXwjr"
      },
      "source": [
        "Based on the **two different findings** above, I stopped adding cr and trx/basket data containing the same time period, because most of them would be null. In phase 2 or 3, I plan to identify different time periods and add them to the model."
      ]
    },
    {
      "cell_type": "code",
      "execution_count": null,
      "metadata": {
        "id": "0l6YVojkp65m"
      },
      "outputs": [],
      "source": [
        "#Add cr%\n",
        "#df_train_final[\"cr_L1D\"]=df_train_final[\"order_L1D\"]/df_train_final[\"productdetailcount_L1D\"]\n",
        "#df_train_final[\"cr_L1_3D\"]=df_train_final[\"order_L1_3D\"]/df_train_final[\"productdetailcount_L1_3D\"]\n",
        "#df_train_final[\"cr_L3_7D\"]=df_train_final[\"order_L3_7D\"]/df_train_final[\"productdetailcount_L3_7D\"]\n",
        "#df_train_final[\"cr_L7_14D\"]=df_train_final[\"order_L7_14D\"]/df_train_final[\"productdetailcount_L7_14D\"]"
      ]
    },
    {
      "cell_type": "code",
      "execution_count": null,
      "metadata": {
        "id": "-YiLGUUSq2Sd"
      },
      "outputs": [],
      "source": [
        "#Add_trx/basket\n",
        "#df_train_final[\"trx/a2b_L1D\"]=df_train_final[\"order_L1D\"]/df_train_final[\"addtobasket_count_L1D\"]\n",
        "#df_train_final[\"trx/a2b_L1_3D\"]=df_train_final[\"order_L1_3D\"]/df_train_final[\"addtobasket_count_L1_3D\"]\n",
        "#df_train_final[\"trx/a2b_L3_7D\"]=df_train_final[\"order_L3_7D\"]/df_train_final[\"addtobasket_count_L3_7D\"]\n",
        "#df_train_final[\"trx/a2b_L7_14D\"]=df_train_final[\"order_L7_14D\"]/df_train_final[\"addtobasket_count_L7_14D\"]"
      ]
    },
    {
      "cell_type": "markdown",
      "metadata": {
        "id": "1s8A4o6nVawX"
      },
      "source": [
        "**Missing** data analysis"
      ]
    },
    {
      "cell_type": "code",
      "execution_count": null,
      "metadata": {
        "colab": {
          "base_uri": "https://localhost:8080/"
        },
        "id": "Yov7pv0NN43D",
        "outputId": "b6fb94c3-e3d3-4bba-9e05-d8dc1602c05b"
      },
      "outputs": [
        {
          "output_type": "execute_result",
          "data": {
            "text/plain": [
              "Bayan               186696\n",
              "Bay                  56784\n",
              "UNKNOWN               1296\n",
              "kvkktalepsilindi        48\n",
              "Name: gender, dtype: int64"
            ]
          },
          "metadata": {},
          "execution_count": 118
        }
      ],
      "source": [
        "#gendervaluecounts\n",
        "df_train_final2[\"gender\"].value_counts()"
      ]
    },
    {
      "cell_type": "code",
      "execution_count": null,
      "metadata": {
        "colab": {
          "base_uri": "https://localhost:8080/"
        },
        "id": "7JyxQU9UQ3lW",
        "outputId": "7b259a71-5491-4d1f-c5ef-6e236348c441"
      },
      "outputs": [
        {
          "output_type": "execute_result",
          "data": {
            "text/plain": [
              "Bayan    186696\n",
              "Bay       56784\n",
              "Name: gender, dtype: int64"
            ]
          },
          "metadata": {},
          "execution_count": 119
        }
      ],
      "source": [
        "#drop\"unkown\" and \"kvkktalepsilindi\"\n",
        "df_train_final2.drop(df_train_final2[df_train_final2[\"gender\"] == \"UNKNOWN\"].index, inplace= True)\n",
        "df_train_final2.drop(df_train_final2[df_train_final2[\"gender\"] == \"kvkktalepsilindi\"].index, inplace= True)\n",
        "df_train_final2[\"gender\"].value_counts()\n"
      ]
    },
    {
      "cell_type": "code",
      "execution_count": null,
      "metadata": {
        "colab": {
          "base_uri": "https://localhost:8080/"
        },
        "id": "MKxCPcTxNSI9",
        "outputId": "e1d27dae-f3aa-4a54-8f55-e7ee06bf0a7f"
      },
      "outputs": [
        {
          "output_type": "stream",
          "name": "stdout",
          "text": [
            "        Bayan\n",
            "0           0\n",
            "1           0\n",
            "2           0\n",
            "3           0\n",
            "4           0\n",
            "...       ...\n",
            "244819      1\n",
            "244820      1\n",
            "244821      1\n",
            "244822      1\n",
            "244823      1\n",
            "\n",
            "[243480 rows x 1 columns]\n"
          ]
        }
      ],
      "source": [
        "#Encoder\n",
        "gender_dummy = pd.get_dummies(df_train_final2[\"gender\"], drop_first = True)\n",
        "print(gender_dummy)"
      ]
    },
    {
      "cell_type": "code",
      "execution_count": null,
      "metadata": {
        "colab": {
          "base_uri": "https://localhost:8080/"
        },
        "id": "7TpJ54k9TUq9",
        "outputId": "a68e3c27-43dd-4caa-afff-0cde37def2d9"
      },
      "outputs": [
        {
          "output_type": "execute_result",
          "data": {
            "text/plain": [
              "Index(['userid', 'currentbugroupname', 'is_ordered', 'quantity_L1D_user_group',\n",
              "       'revenue_L1D_user_group', 'order_L1D_user_group', 'quantity_L1D_user',\n",
              "       'revenue_L1D_user', 'order_L1D_user', 'quantity_L1_3D_user_group',\n",
              "       'revenue_L1_3D_user_group', 'order_L1_3D_user_group',\n",
              "       'quantity_L3_7D_user_group', 'revenue_L3_7D_user_group',\n",
              "       'order_L3_7D_user_group', 'quantity_L7_14D_user_group',\n",
              "       'revenue_L7_14D_user_group', 'order_L7_14D_user_group',\n",
              "       'quantity_LOD_user_group', 'revenue_LOD_user_group',\n",
              "       'order_LOD_user_group', 'productdetailcount_L1D_user_group',\n",
              "       'productdetailcount_L1_3D_user_group',\n",
              "       'productdetailcount_L3_7D_user_group',\n",
              "       'productdetailcount_L7_14D_user_group', 'fav_count_L1D_user_group',\n",
              "       'fav_count_L1_3D_user_group', 'fav_count_L3_7D_user_group',\n",
              "       'fav_count_L7_14D_user_group', 'addtobasket_count_L1D_user_group',\n",
              "       'addtobasket_count_L1_3D_user_group',\n",
              "       'addtobasket_count_L3_7D_user_group',\n",
              "       'addtobasket_count_L7_14D_user_group', 'quantity_L1_3D_user',\n",
              "       'revenue_L1_3D_user', 'order_L1_3D_user', 'quantity_L3_7D_user',\n",
              "       'revenue_L3_7D_user', 'order_L3_7D_user', 'quantity_L7_14D_user',\n",
              "       'revenue_L7_14D_user', 'order_L7_14D_user', 'quantity_LOD_user',\n",
              "       'revenue_LOD_user', 'order_LOD_user', 'productdetailcount_L1D_user',\n",
              "       'productdetailcount_L1_3D_user', 'productdetailcount_L3_7D_user',\n",
              "       'productdetailcount_L7_14D_user', 'fav_count_L1D_user',\n",
              "       'fav_count_L1_3D_user', 'fav_count_L3_7D_user', 'fav_count_L7_14D_user',\n",
              "       'addtobasket_count_L1D_user', 'addtobasket_count_L1_3D_user',\n",
              "       'addtobasket_count_L3_7D_user', 'addtobasket_count_L7_14D_user',\n",
              "       'search_count_L1D_user', 'search_count_L1_3D_user',\n",
              "       'search_count_L3_7D_user', 'search_count_L7_14D_user', 'Bayan'],\n",
              "      dtype='object')"
            ]
          },
          "metadata": {},
          "execution_count": 121
        }
      ],
      "source": [
        "#concatgender\n",
        "df_train_final3 = pd.concat([df_train_final2, gender_dummy], axis=1)\n",
        "df_train_final4 = df_train_final3.drop(\"gender\", axis=1)\n",
        "df_train_final4.columns\n"
      ]
    },
    {
      "cell_type": "markdown",
      "metadata": {
        "id": "hgQbrkGemvdR"
      },
      "source": [
        "Check Missing Data"
      ]
    },
    {
      "cell_type": "code",
      "execution_count": null,
      "metadata": {
        "colab": {
          "base_uri": "https://localhost:8080/"
        },
        "id": "l1Yaa_O-Vfed",
        "outputId": "9ad500f7-c730-4f1a-c78a-87955c22d59a"
      },
      "outputs": [
        {
          "output_type": "execute_result",
          "data": {
            "text/plain": [
              "userid                                      0\n",
              "is_ordered                                  0\n",
              "Bayan                                       0\n",
              "currentbugroupname                          0\n",
              "productdetailcount_L7_14D_user          35436\n",
              "                                        ...  \n",
              "addtobasket_count_L1D_user             243180\n",
              "addtobasket_count_L7_14D_user_group    243242\n",
              "addtobasket_count_L3_7D_user_group     243355\n",
              "addtobasket_count_L1_3D_user_group     243414\n",
              "addtobasket_count_L1D_user_group       243454\n",
              "Length: 62, dtype: int64"
            ]
          },
          "metadata": {},
          "execution_count": 122
        }
      ],
      "source": [
        "#isna_count\n",
        "df_train_final4.isna().sum().sort_values()"
      ]
    },
    {
      "cell_type": "code",
      "execution_count": null,
      "metadata": {
        "colab": {
          "base_uri": "https://localhost:8080/"
        },
        "id": "UjlVFJL9zTzX",
        "outputId": "451abcdf-3bf6-43f8-eae1-0cbbda55cd9d"
      },
      "outputs": [
        {
          "output_type": "stream",
          "name": "stdout",
          "text": [
            "(243480, 62)\n",
            "Index(['userid', 'currentbugroupname', 'is_ordered', 'quantity_L1D_user_group',\n",
            "       'revenue_L1D_user_group', 'order_L1D_user_group', 'quantity_L1D_user',\n",
            "       'revenue_L1D_user', 'order_L1D_user', 'quantity_L1_3D_user_group',\n",
            "       'revenue_L1_3D_user_group', 'order_L1_3D_user_group',\n",
            "       'quantity_L3_7D_user_group', 'revenue_L3_7D_user_group',\n",
            "       'order_L3_7D_user_group', 'quantity_L7_14D_user_group',\n",
            "       'revenue_L7_14D_user_group', 'order_L7_14D_user_group',\n",
            "       'quantity_LOD_user_group', 'revenue_LOD_user_group',\n",
            "       'order_LOD_user_group', 'productdetailcount_L1D_user_group',\n",
            "       'productdetailcount_L1_3D_user_group',\n",
            "       'productdetailcount_L3_7D_user_group',\n",
            "       'productdetailcount_L7_14D_user_group', 'fav_count_L1D_user_group',\n",
            "       'fav_count_L1_3D_user_group', 'fav_count_L3_7D_user_group',\n",
            "       'fav_count_L7_14D_user_group', 'addtobasket_count_L1D_user_group',\n",
            "       'addtobasket_count_L1_3D_user_group',\n",
            "       'addtobasket_count_L3_7D_user_group',\n",
            "       'addtobasket_count_L7_14D_user_group', 'quantity_L1_3D_user',\n",
            "       'revenue_L1_3D_user', 'order_L1_3D_user', 'quantity_L3_7D_user',\n",
            "       'revenue_L3_7D_user', 'order_L3_7D_user', 'quantity_L7_14D_user',\n",
            "       'revenue_L7_14D_user', 'order_L7_14D_user', 'quantity_LOD_user',\n",
            "       'revenue_LOD_user', 'order_LOD_user', 'productdetailcount_L1D_user',\n",
            "       'productdetailcount_L1_3D_user', 'productdetailcount_L3_7D_user',\n",
            "       'productdetailcount_L7_14D_user', 'fav_count_L1D_user',\n",
            "       'fav_count_L1_3D_user', 'fav_count_L3_7D_user', 'fav_count_L7_14D_user',\n",
            "       'addtobasket_count_L1D_user', 'addtobasket_count_L1_3D_user',\n",
            "       'addtobasket_count_L3_7D_user', 'addtobasket_count_L7_14D_user',\n",
            "       'search_count_L1D_user', 'search_count_L1_3D_user',\n",
            "       'search_count_L3_7D_user', 'search_count_L7_14D_user', 'Bayan'],\n",
            "      dtype='object')\n"
          ]
        }
      ],
      "source": [
        "#check shape and columns\n",
        "print(df_train_final4.shape)\n",
        "print(df_train_final4.columns)"
      ]
    },
    {
      "cell_type": "code",
      "execution_count": null,
      "metadata": {
        "id": "669VOGcRqvWs"
      },
      "outputs": [],
      "source": [
        "#fillnatozero\n",
        "df_train_final5 = df_train_final4[['userid', 'currentbugroupname', 'is_ordered', 'quantity_L1D_user_group',\n",
        "       'revenue_L1D_user_group', 'order_L1D_user_group', 'quantity_L1D_user',\n",
        "       'revenue_L1D_user', 'order_L1D_user', 'quantity_L1_3D_user_group',\n",
        "       'revenue_L1_3D_user_group', 'order_L1_3D_user_group',\n",
        "       'quantity_L3_7D_user_group', 'revenue_L3_7D_user_group',\n",
        "       'order_L3_7D_user_group', 'quantity_L7_14D_user_group',\n",
        "       'revenue_L7_14D_user_group', 'order_L7_14D_user_group',\n",
        "       'quantity_LOD_user_group', 'revenue_LOD_user_group',\n",
        "       'order_LOD_user_group', 'productdetailcount_L1D_user_group',\n",
        "       'productdetailcount_L1_3D_user_group',\n",
        "       'productdetailcount_L3_7D_user_group',\n",
        "       'productdetailcount_L7_14D_user_group', 'fav_count_L1D_user_group',\n",
        "       'fav_count_L1_3D_user_group', 'fav_count_L3_7D_user_group',\n",
        "       'fav_count_L7_14D_user_group', 'addtobasket_count_L1D_user_group',\n",
        "       'addtobasket_count_L1_3D_user_group',\n",
        "       'addtobasket_count_L3_7D_user_group',\n",
        "       'addtobasket_count_L7_14D_user_group', 'quantity_L1_3D_user',\n",
        "       'revenue_L1_3D_user', 'order_L1_3D_user', 'quantity_L3_7D_user',\n",
        "       'revenue_L3_7D_user', 'order_L3_7D_user', 'quantity_L7_14D_user',\n",
        "       'revenue_L7_14D_user', 'order_L7_14D_user', 'quantity_LOD_user',\n",
        "       'revenue_LOD_user', 'order_LOD_user', 'productdetailcount_L1D_user',\n",
        "       'productdetailcount_L1_3D_user', 'productdetailcount_L3_7D_user',\n",
        "       'productdetailcount_L7_14D_user', 'fav_count_L1D_user',\n",
        "       'fav_count_L1_3D_user', 'fav_count_L3_7D_user', 'fav_count_L7_14D_user',\n",
        "       'addtobasket_count_L1D_user', 'addtobasket_count_L1_3D_user',\n",
        "       'addtobasket_count_L3_7D_user', 'addtobasket_count_L7_14D_user',\n",
        "       'search_count_L1D_user', 'search_count_L1_3D_user',\n",
        "       'search_count_L3_7D_user', 'search_count_L7_14D_user', 'Bayan']].fillna(0)"
      ]
    },
    {
      "cell_type": "code",
      "execution_count": null,
      "metadata": {
        "colab": {
          "base_uri": "https://localhost:8080/"
        },
        "id": "_15H83tjo9sX",
        "outputId": "409c67f6-c58b-4f69-ea24-c8c8024f8ae1"
      },
      "outputs": [
        {
          "output_type": "stream",
          "name": "stdout",
          "text": [
            "userid                         0\n",
            "quantity_L1_3D_user            0\n",
            "revenue_L1_3D_user             0\n",
            "order_L1_3D_user               0\n",
            "quantity_L3_7D_user            0\n",
            "                              ..\n",
            "fav_count_L1_3D_user_group     0\n",
            "fav_count_L3_7D_user_group     0\n",
            "fav_count_L7_14D_user_group    0\n",
            "quantity_L7_14D_user_group     0\n",
            "Bayan                          0\n",
            "Length: 62, dtype: int64\n",
            "(243480, 62)\n",
            "Index(['userid', 'currentbugroupname', 'is_ordered', 'quantity_L1D_user_group',\n",
            "       'revenue_L1D_user_group', 'order_L1D_user_group', 'quantity_L1D_user',\n",
            "       'revenue_L1D_user', 'order_L1D_user', 'quantity_L1_3D_user_group',\n",
            "       'revenue_L1_3D_user_group', 'order_L1_3D_user_group',\n",
            "       'quantity_L3_7D_user_group', 'revenue_L3_7D_user_group',\n",
            "       'order_L3_7D_user_group', 'quantity_L7_14D_user_group',\n",
            "       'revenue_L7_14D_user_group', 'order_L7_14D_user_group',\n",
            "       'quantity_LOD_user_group', 'revenue_LOD_user_group',\n",
            "       'order_LOD_user_group', 'productdetailcount_L1D_user_group',\n",
            "       'productdetailcount_L1_3D_user_group',\n",
            "       'productdetailcount_L3_7D_user_group',\n",
            "       'productdetailcount_L7_14D_user_group', 'fav_count_L1D_user_group',\n",
            "       'fav_count_L1_3D_user_group', 'fav_count_L3_7D_user_group',\n",
            "       'fav_count_L7_14D_user_group', 'addtobasket_count_L1D_user_group',\n",
            "       'addtobasket_count_L1_3D_user_group',\n",
            "       'addtobasket_count_L3_7D_user_group',\n",
            "       'addtobasket_count_L7_14D_user_group', 'quantity_L1_3D_user',\n",
            "       'revenue_L1_3D_user', 'order_L1_3D_user', 'quantity_L3_7D_user',\n",
            "       'revenue_L3_7D_user', 'order_L3_7D_user', 'quantity_L7_14D_user',\n",
            "       'revenue_L7_14D_user', 'order_L7_14D_user', 'quantity_LOD_user',\n",
            "       'revenue_LOD_user', 'order_LOD_user', 'productdetailcount_L1D_user',\n",
            "       'productdetailcount_L1_3D_user', 'productdetailcount_L3_7D_user',\n",
            "       'productdetailcount_L7_14D_user', 'fav_count_L1D_user',\n",
            "       'fav_count_L1_3D_user', 'fav_count_L3_7D_user', 'fav_count_L7_14D_user',\n",
            "       'addtobasket_count_L1D_user', 'addtobasket_count_L1_3D_user',\n",
            "       'addtobasket_count_L3_7D_user', 'addtobasket_count_L7_14D_user',\n",
            "       'search_count_L1D_user', 'search_count_L1_3D_user',\n",
            "       'search_count_L3_7D_user', 'search_count_L7_14D_user', 'Bayan'],\n",
            "      dtype='object')\n"
          ]
        }
      ],
      "source": [
        "#checknaagain\n",
        "print(df_train_final5.isna().sum().sort_values())\n",
        "print(df_train_final5.shape)\n",
        "print(df_train_final5.columns)"
      ]
    },
    {
      "cell_type": "markdown",
      "metadata": {
        "id": "vBzzha13sv3G"
      },
      "source": [
        "Check Class Imbalance"
      ]
    },
    {
      "cell_type": "code",
      "execution_count": null,
      "metadata": {
        "colab": {
          "base_uri": "https://localhost:8080/"
        },
        "id": "yDlnnrp68KI-",
        "outputId": "111e56c6-f1c1-41b1-ee34-efeec487c536"
      },
      "outputs": [
        {
          "output_type": "execute_result",
          "data": {
            "text/plain": [
              "0.0    218887\n",
              "1.0     24593\n",
              "Name: is_ordered, dtype: int64"
            ]
          },
          "metadata": {},
          "execution_count": 126
        }
      ],
      "source": [
        "#labelvaluecounts\n",
        "df_train_final5[\"is_ordered\"].value_counts()"
      ]
    },
    {
      "cell_type": "code",
      "execution_count": null,
      "metadata": {
        "id": "hO1oNYvlQafC"
      },
      "outputs": [],
      "source": [
        "#filtering_ylabel\n",
        "df_train_final5_isordered_1= df_train_final5[df_train_final5[\"is_ordered\"]==1.0]\n",
        "df_train_final5_isordered_0= df_train_final5[df_train_final5[\"is_ordered\"]==0.0]\n"
      ]
    },
    {
      "cell_type": "code",
      "execution_count": null,
      "metadata": {
        "colab": {
          "base_uri": "https://localhost:8080/"
        },
        "id": "-rDfVOmkQ1cX",
        "outputId": "fe2b98c2-9f10-48cf-e4d3-19994d5e9551"
      },
      "outputs": [
        {
          "output_type": "stream",
          "name": "stdout",
          "text": [
            "(24593, 62)\n",
            "(218887, 62)\n"
          ]
        }
      ],
      "source": [
        "#checkingshape\n",
        "print(df_train_final5_isordered_1.shape)\n",
        "print(df_train_final5_isordered_0.shape)"
      ]
    },
    {
      "cell_type": "markdown",
      "metadata": {
        "id": "SaGBULcORA7M"
      },
      "source": [
        "handle with cross imbalance"
      ]
    },
    {
      "cell_type": "code",
      "execution_count": null,
      "metadata": {
        "id": "fb_bC4zDRDmX"
      },
      "outputs": [],
      "source": [
        "#downsize the sample\n",
        "df_train_final5_isordered_0_sample = df_train_final5_isordered_0.sample(n=24593)\n"
      ]
    },
    {
      "cell_type": "markdown",
      "metadata": {
        "id": "3I5khpGIRcm_"
      },
      "source": [
        "After handle with cross imbalance\n"
      ]
    },
    {
      "cell_type": "code",
      "execution_count": null,
      "metadata": {
        "id": "f0d4rHfZRDs7"
      },
      "outputs": [],
      "source": [
        "#after downsize the y label\n",
        "df_train_final6 = pd.concat([df_train_final5_isordered_0_sample, df_train_final5_isordered_1], axis = 0)"
      ]
    },
    {
      "cell_type": "code",
      "execution_count": null,
      "metadata": {
        "colab": {
          "base_uri": "https://localhost:8080/"
        },
        "id": "-n9kumn_S5GF",
        "outputId": "0d780e72-e2b4-4655-b71f-580d25ac4013"
      },
      "outputs": [
        {
          "output_type": "stream",
          "name": "stdout",
          "text": [
            "0.0    24593\n",
            "1.0    24593\n",
            "Name: is_ordered, dtype: int64\n",
            "Index(['userid', 'currentbugroupname', 'is_ordered', 'quantity_L1D_user_group',\n",
            "       'revenue_L1D_user_group', 'order_L1D_user_group', 'quantity_L1D_user',\n",
            "       'revenue_L1D_user', 'order_L1D_user', 'quantity_L1_3D_user_group',\n",
            "       'revenue_L1_3D_user_group', 'order_L1_3D_user_group',\n",
            "       'quantity_L3_7D_user_group', 'revenue_L3_7D_user_group',\n",
            "       'order_L3_7D_user_group', 'quantity_L7_14D_user_group',\n",
            "       'revenue_L7_14D_user_group', 'order_L7_14D_user_group',\n",
            "       'quantity_LOD_user_group', 'revenue_LOD_user_group',\n",
            "       'order_LOD_user_group', 'productdetailcount_L1D_user_group',\n",
            "       'productdetailcount_L1_3D_user_group',\n",
            "       'productdetailcount_L3_7D_user_group',\n",
            "       'productdetailcount_L7_14D_user_group', 'fav_count_L1D_user_group',\n",
            "       'fav_count_L1_3D_user_group', 'fav_count_L3_7D_user_group',\n",
            "       'fav_count_L7_14D_user_group', 'addtobasket_count_L1D_user_group',\n",
            "       'addtobasket_count_L1_3D_user_group',\n",
            "       'addtobasket_count_L3_7D_user_group',\n",
            "       'addtobasket_count_L7_14D_user_group', 'quantity_L1_3D_user',\n",
            "       'revenue_L1_3D_user', 'order_L1_3D_user', 'quantity_L3_7D_user',\n",
            "       'revenue_L3_7D_user', 'order_L3_7D_user', 'quantity_L7_14D_user',\n",
            "       'revenue_L7_14D_user', 'order_L7_14D_user', 'quantity_LOD_user',\n",
            "       'revenue_LOD_user', 'order_LOD_user', 'productdetailcount_L1D_user',\n",
            "       'productdetailcount_L1_3D_user', 'productdetailcount_L3_7D_user',\n",
            "       'productdetailcount_L7_14D_user', 'fav_count_L1D_user',\n",
            "       'fav_count_L1_3D_user', 'fav_count_L3_7D_user', 'fav_count_L7_14D_user',\n",
            "       'addtobasket_count_L1D_user', 'addtobasket_count_L1_3D_user',\n",
            "       'addtobasket_count_L3_7D_user', 'addtobasket_count_L7_14D_user',\n",
            "       'search_count_L1D_user', 'search_count_L1_3D_user',\n",
            "       'search_count_L3_7D_user', 'search_count_L7_14D_user', 'Bayan'],\n",
            "      dtype='object')\n"
          ]
        }
      ],
      "source": [
        "#check shape\n",
        "print(df_train_final6[\"is_ordered\"].value_counts())\n",
        "print(df_train_final6.columns)\n"
      ]
    },
    {
      "cell_type": "code",
      "execution_count": null,
      "metadata": {
        "colab": {
          "base_uri": "https://localhost:8080/",
          "height": 393
        },
        "id": "_12FTS45C2wD",
        "outputId": "235cb138-c1f5-4bc8-922f-df8a286c75cb"
      },
      "outputs": [
        {
          "output_type": "execute_result",
          "data": {
            "text/plain": [
              "             userid    is_ordered  quantity_L1D_user_group  \\\n",
              "count  4.918600e+04  49186.000000             49186.000000   \n",
              "mean   1.890966e+07      0.500000                 0.046578   \n",
              "std    1.116547e+07      0.500005                 0.663798   \n",
              "min    2.086000e+03      0.000000                 0.000000   \n",
              "25%    1.088387e+07      0.000000                 0.000000   \n",
              "50%    1.709946e+07      0.500000                 0.000000   \n",
              "75%    2.687560e+07      1.000000                 0.000000   \n",
              "max    4.462565e+07      1.000000                65.000000   \n",
              "\n",
              "       revenue_L1D_user_group  order_L1D_user_group  quantity_L1D_user  \\\n",
              "count            49186.000000          49186.000000       49186.000000   \n",
              "mean                 5.118503              0.040255           0.417009   \n",
              "std                155.265415              0.551068           4.136513   \n",
              "min                  0.000000              0.000000           0.000000   \n",
              "25%                  0.000000              0.000000           0.000000   \n",
              "50%                  0.000000              0.000000           0.000000   \n",
              "75%                  0.000000              0.000000           0.000000   \n",
              "max              27490.000000             44.000000         140.000000   \n",
              "\n",
              "       revenue_L1D_user  order_L1D_user  quantity_L1_3D_user_group  \\\n",
              "count      49186.000000    49186.000000               49186.000000   \n",
              "mean          42.607280        0.368519                   0.092384   \n",
              "std          597.525859        3.674773                   1.010610   \n",
              "min            0.000000        0.000000                   0.000000   \n",
              "25%            0.000000        0.000000                   0.000000   \n",
              "50%            0.000000        0.000000                   0.000000   \n",
              "75%            0.000000        0.000000                   0.000000   \n",
              "max        40424.760000      130.000000                  84.000000   \n",
              "\n",
              "       revenue_L1_3D_user_group  ...  fav_count_L7_14D_user  \\\n",
              "count              49186.000000  ...           49186.000000   \n",
              "mean                   8.039870  ...               4.658195   \n",
              "std                  132.350662  ...              20.159671   \n",
              "min                    0.000000  ...               0.000000   \n",
              "25%                    0.000000  ...               0.000000   \n",
              "50%                    0.000000  ...               0.000000   \n",
              "75%                    0.000000  ...               0.000000   \n",
              "max                13240.780000  ...             963.000000   \n",
              "\n",
              "       addtobasket_count_L1D_user  addtobasket_count_L1_3D_user  \\\n",
              "count                49186.000000                  49186.000000   \n",
              "mean                     0.003294                      0.012402   \n",
              "std                      0.118225                      0.380645   \n",
              "min                      0.000000                      0.000000   \n",
              "25%                      0.000000                      0.000000   \n",
              "50%                      0.000000                      0.000000   \n",
              "75%                      0.000000                      0.000000   \n",
              "max                     11.000000                     26.000000   \n",
              "\n",
              "       addtobasket_count_L3_7D_user  addtobasket_count_L7_14D_user  \\\n",
              "count                  49186.000000                   49186.000000   \n",
              "mean                       0.013947                       0.029358   \n",
              "std                        0.217485                       0.393337   \n",
              "min                        0.000000                       0.000000   \n",
              "25%                        0.000000                       0.000000   \n",
              "50%                        0.000000                       0.000000   \n",
              "75%                        0.000000                       0.000000   \n",
              "max                       10.000000                      24.000000   \n",
              "\n",
              "       search_count_L1D_user  search_count_L1_3D_user  \\\n",
              "count           49186.000000             49186.000000   \n",
              "mean                1.325235                 2.219270   \n",
              "std                 3.254500                 4.605627   \n",
              "min                 0.000000                 0.000000   \n",
              "25%                 0.000000                 0.000000   \n",
              "50%                 0.000000                 0.000000   \n",
              "75%                 1.000000                 3.000000   \n",
              "max                47.000000               147.000000   \n",
              "\n",
              "       search_count_L3_7D_user  search_count_L7_14D_user         Bayan  \n",
              "count             49186.000000              49186.000000  49186.000000  \n",
              "mean                  4.301590                  7.546802      0.776054  \n",
              "std                   8.077426                 13.521121      0.416890  \n",
              "min                   0.000000                  0.000000      0.000000  \n",
              "25%                   0.000000                  0.000000      1.000000  \n",
              "50%                   1.000000                  3.000000      1.000000  \n",
              "75%                   5.000000                  9.000000      1.000000  \n",
              "max                 156.000000                397.000000      1.000000  \n",
              "\n",
              "[8 rows x 61 columns]"
            ],
            "text/html": [
              "\n",
              "  <div id=\"df-1d079567-6957-46fc-a096-5356809e3867\">\n",
              "    <div class=\"colab-df-container\">\n",
              "      <div>\n",
              "<style scoped>\n",
              "    .dataframe tbody tr th:only-of-type {\n",
              "        vertical-align: middle;\n",
              "    }\n",
              "\n",
              "    .dataframe tbody tr th {\n",
              "        vertical-align: top;\n",
              "    }\n",
              "\n",
              "    .dataframe thead th {\n",
              "        text-align: right;\n",
              "    }\n",
              "</style>\n",
              "<table border=\"1\" class=\"dataframe\">\n",
              "  <thead>\n",
              "    <tr style=\"text-align: right;\">\n",
              "      <th></th>\n",
              "      <th>userid</th>\n",
              "      <th>is_ordered</th>\n",
              "      <th>quantity_L1D_user_group</th>\n",
              "      <th>revenue_L1D_user_group</th>\n",
              "      <th>order_L1D_user_group</th>\n",
              "      <th>quantity_L1D_user</th>\n",
              "      <th>revenue_L1D_user</th>\n",
              "      <th>order_L1D_user</th>\n",
              "      <th>quantity_L1_3D_user_group</th>\n",
              "      <th>revenue_L1_3D_user_group</th>\n",
              "      <th>...</th>\n",
              "      <th>fav_count_L7_14D_user</th>\n",
              "      <th>addtobasket_count_L1D_user</th>\n",
              "      <th>addtobasket_count_L1_3D_user</th>\n",
              "      <th>addtobasket_count_L3_7D_user</th>\n",
              "      <th>addtobasket_count_L7_14D_user</th>\n",
              "      <th>search_count_L1D_user</th>\n",
              "      <th>search_count_L1_3D_user</th>\n",
              "      <th>search_count_L3_7D_user</th>\n",
              "      <th>search_count_L7_14D_user</th>\n",
              "      <th>Bayan</th>\n",
              "    </tr>\n",
              "  </thead>\n",
              "  <tbody>\n",
              "    <tr>\n",
              "      <th>count</th>\n",
              "      <td>4.918600e+04</td>\n",
              "      <td>49186.000000</td>\n",
              "      <td>49186.000000</td>\n",
              "      <td>49186.000000</td>\n",
              "      <td>49186.000000</td>\n",
              "      <td>49186.000000</td>\n",
              "      <td>49186.000000</td>\n",
              "      <td>49186.000000</td>\n",
              "      <td>49186.000000</td>\n",
              "      <td>49186.000000</td>\n",
              "      <td>...</td>\n",
              "      <td>49186.000000</td>\n",
              "      <td>49186.000000</td>\n",
              "      <td>49186.000000</td>\n",
              "      <td>49186.000000</td>\n",
              "      <td>49186.000000</td>\n",
              "      <td>49186.000000</td>\n",
              "      <td>49186.000000</td>\n",
              "      <td>49186.000000</td>\n",
              "      <td>49186.000000</td>\n",
              "      <td>49186.000000</td>\n",
              "    </tr>\n",
              "    <tr>\n",
              "      <th>mean</th>\n",
              "      <td>1.890966e+07</td>\n",
              "      <td>0.500000</td>\n",
              "      <td>0.046578</td>\n",
              "      <td>5.118503</td>\n",
              "      <td>0.040255</td>\n",
              "      <td>0.417009</td>\n",
              "      <td>42.607280</td>\n",
              "      <td>0.368519</td>\n",
              "      <td>0.092384</td>\n",
              "      <td>8.039870</td>\n",
              "      <td>...</td>\n",
              "      <td>4.658195</td>\n",
              "      <td>0.003294</td>\n",
              "      <td>0.012402</td>\n",
              "      <td>0.013947</td>\n",
              "      <td>0.029358</td>\n",
              "      <td>1.325235</td>\n",
              "      <td>2.219270</td>\n",
              "      <td>4.301590</td>\n",
              "      <td>7.546802</td>\n",
              "      <td>0.776054</td>\n",
              "    </tr>\n",
              "    <tr>\n",
              "      <th>std</th>\n",
              "      <td>1.116547e+07</td>\n",
              "      <td>0.500005</td>\n",
              "      <td>0.663798</td>\n",
              "      <td>155.265415</td>\n",
              "      <td>0.551068</td>\n",
              "      <td>4.136513</td>\n",
              "      <td>597.525859</td>\n",
              "      <td>3.674773</td>\n",
              "      <td>1.010610</td>\n",
              "      <td>132.350662</td>\n",
              "      <td>...</td>\n",
              "      <td>20.159671</td>\n",
              "      <td>0.118225</td>\n",
              "      <td>0.380645</td>\n",
              "      <td>0.217485</td>\n",
              "      <td>0.393337</td>\n",
              "      <td>3.254500</td>\n",
              "      <td>4.605627</td>\n",
              "      <td>8.077426</td>\n",
              "      <td>13.521121</td>\n",
              "      <td>0.416890</td>\n",
              "    </tr>\n",
              "    <tr>\n",
              "      <th>min</th>\n",
              "      <td>2.086000e+03</td>\n",
              "      <td>0.000000</td>\n",
              "      <td>0.000000</td>\n",
              "      <td>0.000000</td>\n",
              "      <td>0.000000</td>\n",
              "      <td>0.000000</td>\n",
              "      <td>0.000000</td>\n",
              "      <td>0.000000</td>\n",
              "      <td>0.000000</td>\n",
              "      <td>0.000000</td>\n",
              "      <td>...</td>\n",
              "      <td>0.000000</td>\n",
              "      <td>0.000000</td>\n",
              "      <td>0.000000</td>\n",
              "      <td>0.000000</td>\n",
              "      <td>0.000000</td>\n",
              "      <td>0.000000</td>\n",
              "      <td>0.000000</td>\n",
              "      <td>0.000000</td>\n",
              "      <td>0.000000</td>\n",
              "      <td>0.000000</td>\n",
              "    </tr>\n",
              "    <tr>\n",
              "      <th>25%</th>\n",
              "      <td>1.088387e+07</td>\n",
              "      <td>0.000000</td>\n",
              "      <td>0.000000</td>\n",
              "      <td>0.000000</td>\n",
              "      <td>0.000000</td>\n",
              "      <td>0.000000</td>\n",
              "      <td>0.000000</td>\n",
              "      <td>0.000000</td>\n",
              "      <td>0.000000</td>\n",
              "      <td>0.000000</td>\n",
              "      <td>...</td>\n",
              "      <td>0.000000</td>\n",
              "      <td>0.000000</td>\n",
              "      <td>0.000000</td>\n",
              "      <td>0.000000</td>\n",
              "      <td>0.000000</td>\n",
              "      <td>0.000000</td>\n",
              "      <td>0.000000</td>\n",
              "      <td>0.000000</td>\n",
              "      <td>0.000000</td>\n",
              "      <td>1.000000</td>\n",
              "    </tr>\n",
              "    <tr>\n",
              "      <th>50%</th>\n",
              "      <td>1.709946e+07</td>\n",
              "      <td>0.500000</td>\n",
              "      <td>0.000000</td>\n",
              "      <td>0.000000</td>\n",
              "      <td>0.000000</td>\n",
              "      <td>0.000000</td>\n",
              "      <td>0.000000</td>\n",
              "      <td>0.000000</td>\n",
              "      <td>0.000000</td>\n",
              "      <td>0.000000</td>\n",
              "      <td>...</td>\n",
              "      <td>0.000000</td>\n",
              "      <td>0.000000</td>\n",
              "      <td>0.000000</td>\n",
              "      <td>0.000000</td>\n",
              "      <td>0.000000</td>\n",
              "      <td>0.000000</td>\n",
              "      <td>0.000000</td>\n",
              "      <td>1.000000</td>\n",
              "      <td>3.000000</td>\n",
              "      <td>1.000000</td>\n",
              "    </tr>\n",
              "    <tr>\n",
              "      <th>75%</th>\n",
              "      <td>2.687560e+07</td>\n",
              "      <td>1.000000</td>\n",
              "      <td>0.000000</td>\n",
              "      <td>0.000000</td>\n",
              "      <td>0.000000</td>\n",
              "      <td>0.000000</td>\n",
              "      <td>0.000000</td>\n",
              "      <td>0.000000</td>\n",
              "      <td>0.000000</td>\n",
              "      <td>0.000000</td>\n",
              "      <td>...</td>\n",
              "      <td>0.000000</td>\n",
              "      <td>0.000000</td>\n",
              "      <td>0.000000</td>\n",
              "      <td>0.000000</td>\n",
              "      <td>0.000000</td>\n",
              "      <td>1.000000</td>\n",
              "      <td>3.000000</td>\n",
              "      <td>5.000000</td>\n",
              "      <td>9.000000</td>\n",
              "      <td>1.000000</td>\n",
              "    </tr>\n",
              "    <tr>\n",
              "      <th>max</th>\n",
              "      <td>4.462565e+07</td>\n",
              "      <td>1.000000</td>\n",
              "      <td>65.000000</td>\n",
              "      <td>27490.000000</td>\n",
              "      <td>44.000000</td>\n",
              "      <td>140.000000</td>\n",
              "      <td>40424.760000</td>\n",
              "      <td>130.000000</td>\n",
              "      <td>84.000000</td>\n",
              "      <td>13240.780000</td>\n",
              "      <td>...</td>\n",
              "      <td>963.000000</td>\n",
              "      <td>11.000000</td>\n",
              "      <td>26.000000</td>\n",
              "      <td>10.000000</td>\n",
              "      <td>24.000000</td>\n",
              "      <td>47.000000</td>\n",
              "      <td>147.000000</td>\n",
              "      <td>156.000000</td>\n",
              "      <td>397.000000</td>\n",
              "      <td>1.000000</td>\n",
              "    </tr>\n",
              "  </tbody>\n",
              "</table>\n",
              "<p>8 rows × 61 columns</p>\n",
              "</div>\n",
              "      <button class=\"colab-df-convert\" onclick=\"convertToInteractive('df-1d079567-6957-46fc-a096-5356809e3867')\"\n",
              "              title=\"Convert this dataframe to an interactive table.\"\n",
              "              style=\"display:none;\">\n",
              "        \n",
              "  <svg xmlns=\"http://www.w3.org/2000/svg\" height=\"24px\"viewBox=\"0 0 24 24\"\n",
              "       width=\"24px\">\n",
              "    <path d=\"M0 0h24v24H0V0z\" fill=\"none\"/>\n",
              "    <path d=\"M18.56 5.44l.94 2.06.94-2.06 2.06-.94-2.06-.94-.94-2.06-.94 2.06-2.06.94zm-11 1L8.5 8.5l.94-2.06 2.06-.94-2.06-.94L8.5 2.5l-.94 2.06-2.06.94zm10 10l.94 2.06.94-2.06 2.06-.94-2.06-.94-.94-2.06-.94 2.06-2.06.94z\"/><path d=\"M17.41 7.96l-1.37-1.37c-.4-.4-.92-.59-1.43-.59-.52 0-1.04.2-1.43.59L10.3 9.45l-7.72 7.72c-.78.78-.78 2.05 0 2.83L4 21.41c.39.39.9.59 1.41.59.51 0 1.02-.2 1.41-.59l7.78-7.78 2.81-2.81c.8-.78.8-2.07 0-2.86zM5.41 20L4 18.59l7.72-7.72 1.47 1.35L5.41 20z\"/>\n",
              "  </svg>\n",
              "      </button>\n",
              "      \n",
              "  <style>\n",
              "    .colab-df-container {\n",
              "      display:flex;\n",
              "      flex-wrap:wrap;\n",
              "      gap: 12px;\n",
              "    }\n",
              "\n",
              "    .colab-df-convert {\n",
              "      background-color: #E8F0FE;\n",
              "      border: none;\n",
              "      border-radius: 50%;\n",
              "      cursor: pointer;\n",
              "      display: none;\n",
              "      fill: #1967D2;\n",
              "      height: 32px;\n",
              "      padding: 0 0 0 0;\n",
              "      width: 32px;\n",
              "    }\n",
              "\n",
              "    .colab-df-convert:hover {\n",
              "      background-color: #E2EBFA;\n",
              "      box-shadow: 0px 1px 2px rgba(60, 64, 67, 0.3), 0px 1px 3px 1px rgba(60, 64, 67, 0.15);\n",
              "      fill: #174EA6;\n",
              "    }\n",
              "\n",
              "    [theme=dark] .colab-df-convert {\n",
              "      background-color: #3B4455;\n",
              "      fill: #D2E3FC;\n",
              "    }\n",
              "\n",
              "    [theme=dark] .colab-df-convert:hover {\n",
              "      background-color: #434B5C;\n",
              "      box-shadow: 0px 1px 3px 1px rgba(0, 0, 0, 0.15);\n",
              "      filter: drop-shadow(0px 1px 2px rgba(0, 0, 0, 0.3));\n",
              "      fill: #FFFFFF;\n",
              "    }\n",
              "  </style>\n",
              "\n",
              "      <script>\n",
              "        const buttonEl =\n",
              "          document.querySelector('#df-1d079567-6957-46fc-a096-5356809e3867 button.colab-df-convert');\n",
              "        buttonEl.style.display =\n",
              "          google.colab.kernel.accessAllowed ? 'block' : 'none';\n",
              "\n",
              "        async function convertToInteractive(key) {\n",
              "          const element = document.querySelector('#df-1d079567-6957-46fc-a096-5356809e3867');\n",
              "          const dataTable =\n",
              "            await google.colab.kernel.invokeFunction('convertToInteractive',\n",
              "                                                     [key], {});\n",
              "          if (!dataTable) return;\n",
              "\n",
              "          const docLinkHtml = 'Like what you see? Visit the ' +\n",
              "            '<a target=\"_blank\" href=https://colab.research.google.com/notebooks/data_table.ipynb>data table notebook</a>'\n",
              "            + ' to learn more about interactive tables.';\n",
              "          element.innerHTML = '';\n",
              "          dataTable['output_type'] = 'display_data';\n",
              "          await google.colab.output.renderOutput(dataTable, element);\n",
              "          const docLink = document.createElement('div');\n",
              "          docLink.innerHTML = docLinkHtml;\n",
              "          element.appendChild(docLink);\n",
              "        }\n",
              "      </script>\n",
              "    </div>\n",
              "  </div>\n",
              "  "
            ]
          },
          "metadata": {},
          "execution_count": 132
        }
      ],
      "source": [
        "df_train_final6.describe()"
      ]
    },
    {
      "cell_type": "markdown",
      "metadata": {
        "id": "o1xIhDz-Lwit"
      },
      "source": [
        "Finding: When we examine the max points, we see that there are many upwards outliers. But every time I delete this data, I reduce the number of sales samples that I already have. That's why I move forward without interfering with the outliers."
      ]
    },
    {
      "cell_type": "markdown",
      "metadata": {
        "id": "9hPmDlvCpzxJ"
      },
      "source": [
        "Build a Logit Reg Model\n",
        "Checking p-values to check feature importance"
      ]
    },
    {
      "cell_type": "code",
      "execution_count": null,
      "metadata": {
        "id": "yo0pCTAkc4OW"
      },
      "outputs": [],
      "source": [
        "# defining the dependent and independent variables\n",
        "x_logit=df_train_final6[['quantity_L1D_user_group',\n",
        "       'revenue_L1D_user_group', 'order_L1D_user_group', 'quantity_L1D_user',\n",
        "       'revenue_L1D_user', 'order_L1D_user', 'quantity_L1_3D_user_group',\n",
        "       'revenue_L1_3D_user_group', 'order_L1_3D_user_group',\n",
        "       'quantity_L3_7D_user_group', 'revenue_L3_7D_user_group',\n",
        "       'order_L3_7D_user_group', 'quantity_L7_14D_user_group',\n",
        "       'revenue_L7_14D_user_group', 'order_L7_14D_user_group',\n",
        "       'quantity_LOD_user_group', 'revenue_LOD_user_group',\n",
        "       'order_LOD_user_group', 'productdetailcount_L1D_user_group',\n",
        "       'productdetailcount_L1_3D_user_group',\n",
        "       'productdetailcount_L3_7D_user_group',\n",
        "       'productdetailcount_L7_14D_user_group', 'fav_count_L1D_user_group',\n",
        "       'fav_count_L1_3D_user_group', 'fav_count_L3_7D_user_group',\n",
        "       'fav_count_L7_14D_user_group', 'addtobasket_count_L1D_user_group',\n",
        "       'addtobasket_count_L1_3D_user_group',\n",
        "       'addtobasket_count_L3_7D_user_group',\n",
        "       'addtobasket_count_L7_14D_user_group', 'quantity_L1_3D_user',\n",
        "       'revenue_L1_3D_user', 'order_L1_3D_user', 'quantity_L3_7D_user',\n",
        "       'revenue_L3_7D_user', 'order_L3_7D_user', 'quantity_L7_14D_user',\n",
        "       'revenue_L7_14D_user', 'order_L7_14D_user', 'quantity_LOD_user',\n",
        "       'revenue_LOD_user', 'order_LOD_user', 'productdetailcount_L1D_user',\n",
        "       'productdetailcount_L1_3D_user', 'productdetailcount_L3_7D_user',\n",
        "       'productdetailcount_L7_14D_user', 'fav_count_L1D_user',\n",
        "       'fav_count_L1_3D_user', 'fav_count_L3_7D_user', 'fav_count_L7_14D_user',\n",
        "       'addtobasket_count_L1D_user', 'addtobasket_count_L1_3D_user',\n",
        "       'addtobasket_count_L3_7D_user', 'addtobasket_count_L7_14D_user',\n",
        "       'search_count_L1D_user', 'search_count_L1_3D_user',\n",
        "       'search_count_L3_7D_user', 'search_count_L7_14D_user', 'Bayan']]\n",
        "y_logit=df_train_final6[\"is_ordered\"]"
      ]
    },
    {
      "cell_type": "code",
      "execution_count": null,
      "metadata": {
        "colab": {
          "base_uri": "https://localhost:8080/"
        },
        "id": "FJN3_Svw0GPz",
        "outputId": "c678a1b1-1ed8-4fc2-f329-82f441496d46"
      },
      "outputs": [
        {
          "output_type": "stream",
          "name": "stdout",
          "text": [
            "Optimization terminated successfully.\n",
            "         Current function value: 0.631446\n",
            "         Iterations 9\n",
            "                           Logit Regression Results                           \n",
            "==============================================================================\n",
            "Dep. Variable:             is_ordered   No. Observations:                49186\n",
            "Model:                          Logit   Df Residuals:                    49127\n",
            "Method:                           MLE   Df Model:                           58\n",
            "Date:                Wed, 24 Aug 2022   Pseudo R-squ.:                 0.08902\n",
            "Time:                        19:03:30   Log-Likelihood:                -31058.\n",
            "converged:                       True   LL-Null:                       -34093.\n",
            "Covariance Type:            nonrobust   LLR p-value:                     0.000\n",
            "========================================================================================================\n",
            "                                           coef    std err          z      P>|z|      [0.025      0.975]\n",
            "--------------------------------------------------------------------------------------------------------\n",
            "quantity_L1D_user_group                  0.3102      0.163      1.905      0.057      -0.009       0.629\n",
            "revenue_L1D_user_group                   0.0004      0.000      1.383      0.167      -0.000       0.001\n",
            "order_L1D_user_group                    -0.1554      0.183     -0.851      0.395      -0.513       0.202\n",
            "quantity_L1D_user                        0.0113      0.026      0.434      0.665      -0.040       0.063\n",
            "revenue_L1D_user                      7.731e-06   4.72e-05      0.164      0.870   -8.48e-05       0.000\n",
            "order_L1D_user                          -0.0382      0.029     -1.311      0.190      -0.095       0.019\n",
            "quantity_L1_3D_user_group                0.5102      0.158      3.239      0.001       0.202       0.819\n",
            "revenue_L1_3D_user_group                 0.0003      0.000      0.944      0.345      -0.000       0.001\n",
            "order_L1_3D_user_group                  -0.2342      0.171     -1.373      0.170      -0.569       0.100\n",
            "quantity_L3_7D_user_group                0.2522      0.087      2.897      0.004       0.082       0.423\n",
            "revenue_L3_7D_user_group             -3.311e-05      0.000     -0.293      0.769      -0.000       0.000\n",
            "order_L3_7D_user_group                   0.0155      0.097      0.160      0.873      -0.174       0.205\n",
            "quantity_L7_14D_user_group               0.3080      0.069      4.482      0.000       0.173       0.443\n",
            "revenue_L7_14D_user_group             5.859e-05   8.46e-05      0.692      0.489      -0.000       0.000\n",
            "order_L7_14D_user_group                 -0.0663      0.075     -0.889      0.374      -0.212       0.080\n",
            "quantity_LOD_user_group                  0.1496      0.132      1.137      0.256      -0.108       0.408\n",
            "revenue_LOD_user_group                  -0.0013      0.000     -2.890      0.004      -0.002      -0.000\n",
            "order_LOD_user_group                    -0.0393      0.142     -0.276      0.782      -0.318       0.239\n",
            "productdetailcount_L1D_user_group        0.0670      0.003     23.384      0.000       0.061       0.073\n",
            "productdetailcount_L1_3D_user_group      0.0246      0.002     15.363      0.000       0.021       0.028\n",
            "productdetailcount_L3_7D_user_group      0.0116      0.001     11.546      0.000       0.010       0.014\n",
            "productdetailcount_L7_14D_user_group     0.0045      0.001      7.589      0.000       0.003       0.006\n",
            "fav_count_L1D_user_group                 0.1505      0.030      5.071      0.000       0.092       0.209\n",
            "fav_count_L1_3D_user_group               0.0406      0.016      2.488      0.013       0.009       0.073\n",
            "fav_count_L3_7D_user_group               0.0121      0.008      1.435      0.151      -0.004       0.029\n",
            "fav_count_L7_14D_user_group              0.0120      0.006      1.882      0.060      -0.000       0.025\n",
            "addtobasket_count_L1D_user_group         2.0646      0.974      2.120      0.034       0.156       3.973\n",
            "addtobasket_count_L1_3D_user_group       0.3267      0.334      0.979      0.328      -0.328       0.981\n",
            "addtobasket_count_L3_7D_user_group       0.5822      0.355      1.640      0.101      -0.114       1.278\n",
            "addtobasket_count_L7_14D_user_group     -0.0657      0.127     -0.517      0.605      -0.315       0.183\n",
            "quantity_L1_3D_user                     -0.0523      0.023     -2.249      0.025      -0.098      -0.007\n",
            "revenue_L1_3D_user                    4.592e-05   4.28e-05      1.073      0.283    -3.8e-05       0.000\n",
            "order_L1_3D_user                         0.0290      0.026      1.129      0.259      -0.021       0.079\n",
            "quantity_L3_7D_user                     -0.0224      0.017     -1.334      0.182      -0.055       0.011\n",
            "revenue_L3_7D_user                   -6.698e-06    3.5e-05     -0.191      0.848   -7.54e-05     6.2e-05\n",
            "order_L3_7D_user                         0.0195      0.018      1.052      0.293      -0.017       0.056\n",
            "quantity_L7_14D_user                    -0.0215      0.012     -1.796      0.073      -0.045       0.002\n",
            "revenue_L7_14D_user                  -6.242e-06   1.72e-05     -0.364      0.716   -3.99e-05    2.74e-05\n",
            "order_L7_14D_user                        0.0308      0.013      2.409      0.016       0.006       0.056\n",
            "quantity_LOD_user                       -0.0293      0.029     -1.025      0.305      -0.085       0.027\n",
            "revenue_LOD_user                      2.635e-05   6.77e-05      0.389      0.697      -0.000       0.000\n",
            "order_LOD_user                           0.0582      0.032      1.837      0.066      -0.004       0.120\n",
            "productdetailcount_L1D_user             -0.0027      0.000     -7.319      0.000      -0.003      -0.002\n",
            "productdetailcount_L1_3D_user           -0.0008      0.000     -3.309      0.001      -0.001      -0.000\n",
            "productdetailcount_L3_7D_user           -0.0001      0.000     -0.828      0.407      -0.000       0.000\n",
            "productdetailcount_L7_14D_user          -0.0007    9.9e-05     -6.804      0.000      -0.001      -0.000\n",
            "fav_count_L1D_user                      -0.0031      0.003     -1.144      0.253      -0.008       0.002\n",
            "fav_count_L1_3D_user                    -0.0005      0.002     -0.316      0.752      -0.004       0.003\n",
            "fav_count_L3_7D_user                    -0.0027      0.001     -1.956      0.050      -0.005    5.78e-06\n",
            "fav_count_L7_14D_user                    0.0004      0.001      0.395      0.693      -0.001       0.002\n",
            "addtobasket_count_L1D_user              -0.2363      0.129     -1.832      0.067      -0.489       0.017\n",
            "addtobasket_count_L1_3D_user             0.0664      0.033      1.995      0.046       0.001       0.132\n",
            "addtobasket_count_L3_7D_user             0.0213      0.054      0.397      0.691      -0.084       0.126\n",
            "addtobasket_count_L7_14D_user            0.0009      0.034      0.028      0.978      -0.065       0.067\n",
            "search_count_L1D_user                   -0.0041      0.005     -0.893      0.372      -0.013       0.005\n",
            "search_count_L1_3D_user                  0.0030      0.004      0.810      0.418      -0.004       0.010\n",
            "search_count_L3_7D_user                 -0.0034      0.002     -1.464      0.143      -0.008       0.001\n",
            "search_count_L7_14D_user                 0.0019      0.002      1.291      0.197      -0.001       0.005\n",
            "Bayan                                   -0.2439      0.013    -18.260      0.000      -0.270      -0.218\n",
            "========================================================================================================\n"
          ]
        }
      ],
      "source": [
        "# building the model and fitting the data\n",
        "log_reg = sm.Logit(y_logit, x_logit).fit()\n",
        "# printing the summary table\n",
        "print(log_reg.summary())"
      ]
    },
    {
      "cell_type": "markdown",
      "metadata": {
        "id": "ZEROGG0Dx1xP"
      },
      "source": [
        "Findings: After checking the p value with coef, the features I want to include in the logistic regression model are: \n",
        "***quantity_L1_3D_user_group\n",
        "quantity_L3_7D_user_group\n",
        "quantity_L7_14D_user_group\n",
        "productdetailcount_L1D_user_group\n",
        "productdetailcount_L1_3D_user_group\n",
        "productdetailcount_L3_7D_user_group\n",
        "productdetailcount_L7_14D_user_group\n",
        "fav_count_L1_3D_user_group\n",
        "fav_count_L3_7D_user_group\n",
        "fav_count_L7_14D_user_group\n",
        "addtobasket_count_L3_7D_user_group\n",
        "order_L7_14D_user\n",
        "Bayan***"
      ]
    },
    {
      "cell_type": "markdown",
      "metadata": {
        "id": "-D7zu-43zDku"
      },
      "source": [
        "Build a Logistic Regression Model"
      ]
    },
    {
      "cell_type": "code",
      "execution_count": null,
      "metadata": {
        "colab": {
          "base_uri": "https://localhost:8080/",
          "height": 552
        },
        "id": "O-OjkKKPzaxS",
        "outputId": "0597d2ac-e98b-4d89-819a-9480ba733396"
      },
      "outputs": [
        {
          "output_type": "stream",
          "name": "stderr",
          "text": [
            "/usr/local/lib/python3.7/dist-packages/sklearn/utils/validation.py:993: DataConversionWarning: A column-vector y was passed when a 1d array was expected. Please change the shape of y to (n_samples, ), for example using ravel().\n",
            "  y = column_or_1d(y, warn=True)\n"
          ]
        },
        {
          "output_type": "stream",
          "name": "stdout",
          "text": [
            "Accuracy: 0.656942467981297\n",
            "              precision    recall  f1-score   support\n",
            "\n",
            "         0.0       0.60      0.90      0.72      4859\n",
            "         1.0       0.81      0.42      0.55      4979\n",
            "\n",
            "    accuracy                           0.66      9838\n",
            "   macro avg       0.71      0.66      0.64      9838\n",
            "weighted avg       0.71      0.66      0.64      9838\n",
            "\n"
          ]
        },
        {
          "output_type": "display_data",
          "data": {
            "text/plain": [
              "<Figure size 432x288 with 1 Axes>"
            ],
            "image/png": "[encoded data removed]"
          },
          "metadata": {
            "needs_background": "light"
          }
        },
        {
          "output_type": "stream",
          "name": "stdout",
          "text": [
            "AUC Score: 0.733969314462996\n"
          ]
        }
      ],
      "source": [
        "# defining the dependent and independent variables\n",
        "x=df_train_final6[[\"quantity_L1_3D_user_group\",\n",
        "\"quantity_L3_7D_user_group\",\n",
        "\"quantity_L7_14D_user_group\",\n",
        "\"productdetailcount_L1D_user_group\",\n",
        "\"productdetailcount_L1_3D_user_group\",\n",
        "\"productdetailcount_L3_7D_user_group\",\n",
        "\"productdetailcount_L7_14D_user_group\",\n",
        "\"fav_count_L1_3D_user_group\",\n",
        "\"fav_count_L3_7D_user_group\",\n",
        "\"fav_count_L7_14D_user_group\",\n",
        "\"addtobasket_count_L3_7D_user_group\",\n",
        "\"order_L7_14D_user\",\n",
        "\"Bayan\"]].values\n",
        "y=df_train_final6[\"is_ordered\"].values.reshape(-1,1)\n",
        "\n",
        "#train test split\n",
        "x_train, x_test, y_train, y_test = train_test_split(x, y, test_size=0.2, random_state=12)\n",
        "\n",
        "\n",
        "#standart scale and model fit\n",
        "steps = [(\"scaler\", StandardScaler()), \n",
        "         (\"logreg\", LogisticRegression())]\n",
        "pipeline = Pipeline(steps)\n",
        "\n",
        "\n",
        "pipeline.fit(x_train, y_train)\n",
        "y_pred_probs = pipeline.predict_proba(x_test)[:,1]\n",
        "y_pred = pipeline.predict(x_test)\n",
        "\n",
        "\n",
        "print(\"Accuracy: {}\".format(pipeline.score(x_test, y_test)))\n",
        "print(classification_report(y_test, y_pred))\n",
        "\n",
        "#Roc_auc\n",
        "fpr, tpr, thresholds = roc_curve(y_test, y_pred_probs)\n",
        "plt.plot([0, 1], [0, 1],'k--')\n",
        "plt.plot(fpr, tpr)\n",
        "plt.xlabel('False Positive Rate')\n",
        "plt.ylabel('True Positive Rate')\n",
        "plt.title('Logistic Regression ROC Curve')\n",
        "plt.show()\n",
        "print(\"AUC Score: {}\".format(roc_auc_score(y_test, y_pred_probs)))\n"
      ]
    },
    {
      "cell_type": "markdown",
      "metadata": {
        "id": "mwEdk6Wl8IzR"
      },
      "source": [
        "Feature Importance in Logistic Regression"
      ]
    },
    {
      "cell_type": "code",
      "execution_count": null,
      "metadata": {
        "colab": {
          "base_uri": "https://localhost:8080/",
          "height": 321
        },
        "id": "12zg6cjb2BhD",
        "outputId": "4f6eb3f3-101c-4548-b7c4-d050aa34836d"
      },
      "outputs": [
        {
          "output_type": "stream",
          "name": "stderr",
          "text": [
            "/usr/local/lib/python3.7/dist-packages/sklearn/utils/validation.py:993: DataConversionWarning: A column-vector y was passed when a 1d array was expected. Please change the shape of y to (n_samples, ), for example using ravel().\n",
            "  y = column_or_1d(y, warn=True)\n"
          ]
        },
        {
          "output_type": "display_data",
          "data": {
            "text/plain": [
              "<Figure size 432x288 with 1 Axes>"
            ],
            "image/png": "[encoded data removed]"
          },
          "metadata": {
            "needs_background": "light"
          }
        }
      ],
      "source": [
        "#Scaling\n",
        "x_scale= scale(x)\n",
        "y_scale= scale(y)\n",
        "\n",
        "#train test split\n",
        "x_train, x_test, y_train, y_test = train_test_split(x_scale, y_scale, test_size=0.2, random_state=12)\n",
        "              \n",
        "model = LogisticRegression().fit(x_train, y_train)\n",
        "w0 = model.intercept_[0]\n",
        "w = model.coef_[0]\n",
        "feature_names = df_train_final6[[\"quantity_L1_3D_user_group\",\n",
        "\"quantity_L3_7D_user_group\",\n",
        "\"quantity_L7_14D_user_group\",\n",
        "\"productdetailcount_L1D_user_group\",\n",
        "\"productdetailcount_L1_3D_user_group\",\n",
        "\"productdetailcount_L3_7D_user_group\",\n",
        "\"productdetailcount_L7_14D_user_group\",\n",
        "\"fav_count_L1_3D_user_group\",\n",
        "\"fav_count_L3_7D_user_group\",\n",
        "\"fav_count_L7_14D_user_group\",\n",
        "\"addtobasket_count_L3_7D_user_group\",\n",
        "\"order_L7_14D_user\",\n",
        "\"Bayan\"]].keys()\n",
        "feature_importance = pd.DataFrame(feature_names, columns=[\"feature\"])\n",
        "feature_importance[\"importance\"] = pow(math.e, w)\n",
        "feature_importance = feature_importance.sort_values(by = [\"importance\"], ascending=False)\n",
        " \n",
        "\n",
        "ax = feature_importance.plot.barh(x='feature', y='importance')\n",
        "plt.show()"
      ]
    },
    {
      "cell_type": "markdown",
      "metadata": {
        "id": "Sq7L4TLh8ha5"
      },
      "source": [
        "After checking the coefficients of the features, I will check the outliers of the features I use in the model and try to increase the accuracy of the model."
      ]
    },
    {
      "cell_type": "markdown",
      "metadata": {
        "id": "5H4liaZt2aRd"
      },
      "source": [
        "**Outliers**\n",
        "\n"
      ]
    },
    {
      "cell_type": "code",
      "execution_count": null,
      "metadata": {
        "colab": {
          "base_uri": "https://localhost:8080/"
        },
        "id": "xy7l4yon1-a_",
        "outputId": "7d4c963e-9ac1-4e44-a0ce-a96f61b6e947"
      },
      "outputs": [
        {
          "output_type": "stream",
          "name": "stdout",
          "text": [
            "(286, 62)\n",
            "(283, 62)\n",
            "(184, 62)\n",
            "(793, 62)\n",
            "(785, 62)\n",
            "(813, 62)\n",
            "(802, 62)\n",
            "(351, 62)\n",
            "(317, 62)\n",
            "(422, 62)\n",
            "(50, 62)\n",
            "(113, 62)\n",
            "(0, 62)\n"
          ]
        }
      ],
      "source": [
        "#rebuild df_train_final_6\n",
        "df_train_final6 = pd.concat([df_train_final5_isordered_0_sample, df_train_final5_isordered_1], axis = 0)\n",
        "#I capped the outliers with a z score above 3 to the max value\n",
        "selected_features=[\"quantity_L1_3D_user_group\",\n",
        "\"quantity_L3_7D_user_group\",\n",
        "\"quantity_L7_14D_user_group\",\n",
        "\"productdetailcount_L1D_user_group\",\n",
        "\"productdetailcount_L1_3D_user_group\",\n",
        "\"productdetailcount_L3_7D_user_group\",\n",
        "\"productdetailcount_L7_14D_user_group\",\n",
        "\"fav_count_L1_3D_user_group\",\n",
        "\"fav_count_L3_7D_user_group\",\n",
        "\"fav_count_L7_14D_user_group\",\n",
        "\"addtobasket_count_L3_7D_user_group\",\n",
        "\"order_L7_14D_user\",\n",
        "\"Bayan\"]\n",
        "for feature in selected_features:\n",
        "  df_outliers = df_train_final6[(stats.zscore(df_train_final6[feature]) > 3)]\n",
        "  print(df_outliers.shape)\n",
        "  df_train_final6.loc[df_outliers.index,feature]=df_outliers[feature].min()\n"
      ]
    },
    {
      "cell_type": "code",
      "execution_count": null,
      "metadata": {
        "id": "fb0wTzewLoM4"
      },
      "outputs": [],
      "source": [
        "# defining the dependent and independent variables\n",
        "x_no_outliers=df_train_final6[[\"quantity_L1_3D_user_group\",\n",
        "\"quantity_L3_7D_user_group\",\n",
        "\"quantity_L7_14D_user_group\",\n",
        "\"productdetailcount_L1D_user_group\",\n",
        "\"productdetailcount_L1_3D_user_group\",\n",
        "\"productdetailcount_L3_7D_user_group\",\n",
        "\"productdetailcount_L7_14D_user_group\",\n",
        "\"fav_count_L1_3D_user_group\",\n",
        "\"fav_count_L3_7D_user_group\",\n",
        "\"fav_count_L7_14D_user_group\",\n",
        "\"addtobasket_count_L3_7D_user_group\",\n",
        "\"order_L7_14D_user\",\n",
        "\"Bayan\"]].values\n",
        "y_no_outliers=df_train_final6[\"is_ordered\"].values.reshape(-1,1)"
      ]
    },
    {
      "cell_type": "code",
      "execution_count": null,
      "metadata": {
        "colab": {
          "base_uri": "https://localhost:8080/",
          "height": 570
        },
        "id": "7XkVYSq7LoM6",
        "outputId": "626e82d4-2354-43f0-ef4e-f5bb58d43018"
      },
      "outputs": [
        {
          "output_type": "stream",
          "name": "stderr",
          "text": [
            "/usr/local/lib/python3.7/dist-packages/sklearn/utils/validation.py:993: DataConversionWarning: A column-vector y was passed when a 1d array was expected. Please change the shape of y to (n_samples, ), for example using ravel().\n",
            "  y = column_or_1d(y, warn=True)\n"
          ]
        },
        {
          "output_type": "stream",
          "name": "stdout",
          "text": [
            "[0. 0. 0. ... 0. 1. 0.] [0.44706331 0.41920679 0.3937045  ... 0.40384328 0.76005452 0.42315105]\n",
            "AUC: 0.661211628379752\n",
            "              precision    recall  f1-score   support\n",
            "\n",
            "         0.0       0.61      0.89      0.72      4859\n",
            "         1.0       0.81      0.43      0.57      4979\n",
            "\n",
            "    accuracy                           0.66      9838\n",
            "   macro avg       0.71      0.66      0.64      9838\n",
            "weighted avg       0.71      0.66      0.64      9838\n",
            "\n"
          ]
        },
        {
          "output_type": "display_data",
          "data": {
            "text/plain": [
              "<Figure size 432x288 with 1 Axes>"
            ],
            "image/png": "[encoded data removed]"
          },
          "metadata": {
            "needs_background": "light"
          }
        },
        {
          "output_type": "stream",
          "name": "stdout",
          "text": [
            "0.7328309668254334\n"
          ]
        }
      ],
      "source": [
        "#Aftercappedtheoutliers\n",
        "\n",
        "#train test split\n",
        "x_train, x_test, y_train, y_test = train_test_split(x_no_outliers, y_no_outliers, test_size=0.2, random_state=12)\n",
        "\n",
        "\n",
        "#standart scale and model fit\n",
        "steps = [(\"scaler\", StandardScaler()), \n",
        "         (\"logreg\", LogisticRegression())]\n",
        "pipeline = Pipeline(steps)\n",
        "\n",
        "\n",
        "pipeline.fit(x_train, y_train)\n",
        "y_pred_probs = pipeline.predict_proba(x_test)[:,1]\n",
        "y_pred = pipeline.predict(x_test)\n",
        "\n",
        "print(y_pred, y_pred_probs)\n",
        "print(\"AUC: {}\".format(pipeline.score(x_test, y_test)))\n",
        "print(classification_report(y_test, y_pred))\n",
        "\n",
        "#Roc_auc\n",
        "fpr, tpr, thresholds = roc_curve(y_test, y_pred_probs)\n",
        "plt.plot([0, 1], [0, 1],'k--')\n",
        "plt.plot(fpr, tpr)\n",
        "plt.xlabel('False Positive Rate')\n",
        "plt.ylabel('True Positive Rate')\n",
        "plt.title('Logistic Regression ROC Curve')\n",
        "plt.show()\n",
        "print(roc_auc_score(y_test, y_pred_probs))"
      ]
    },
    {
      "cell_type": "markdown",
      "metadata": {
        "id": "bWQxtq22ldHV"
      },
      "source": [
        "Finding: AUC score decrease after eliminating outliers."
      ]
    },
    {
      "cell_type": "markdown",
      "metadata": {
        "id": "XpdZ0ZvvOpJC"
      },
      "source": [
        "Hyperparameter Tuning\n",
        "I continue the without capped because the auc of the model decrease.*"
      ]
    },
    {
      "cell_type": "code",
      "execution_count": null,
      "metadata": {
        "colab": {
          "base_uri": "https://localhost:8080/"
        },
        "id": "QZQ2cZNQOtI7",
        "outputId": "fe6528c0-7821-49a5-c853-cc8a901ed73f"
      },
      "outputs": [
        {
          "output_type": "stream",
          "name": "stderr",
          "text": [
            "/usr/local/lib/python3.7/dist-packages/sklearn/utils/validation.py:993: DataConversionWarning: A column-vector y was passed when a 1d array was expected. Please change the shape of y to (n_samples, ), for example using ravel().\n",
            "  y = column_or_1d(y, warn=True)\n",
            "/usr/local/lib/python3.7/dist-packages/sklearn/utils/validation.py:993: DataConversionWarning: A column-vector y was passed when a 1d array was expected. Please change the shape of y to (n_samples, ), for example using ravel().\n",
            "  y = column_or_1d(y, warn=True)\n",
            "/usr/local/lib/python3.7/dist-packages/sklearn/utils/validation.py:993: DataConversionWarning: A column-vector y was passed when a 1d array was expected. Please change the shape of y to (n_samples, ), for example using ravel().\n",
            "  y = column_or_1d(y, warn=True)\n",
            "/usr/local/lib/python3.7/dist-packages/sklearn/utils/validation.py:993: DataConversionWarning: A column-vector y was passed when a 1d array was expected. Please change the shape of y to (n_samples, ), for example using ravel().\n",
            "  y = column_or_1d(y, warn=True)\n",
            "/usr/local/lib/python3.7/dist-packages/sklearn/utils/validation.py:993: DataConversionWarning: A column-vector y was passed when a 1d array was expected. Please change the shape of y to (n_samples, ), for example using ravel().\n",
            "  y = column_or_1d(y, warn=True)\n",
            "/usr/local/lib/python3.7/dist-packages/sklearn/utils/validation.py:993: DataConversionWarning: A column-vector y was passed when a 1d array was expected. Please change the shape of y to (n_samples, ), for example using ravel().\n",
            "  y = column_or_1d(y, warn=True)\n",
            "/usr/local/lib/python3.7/dist-packages/sklearn/utils/validation.py:993: DataConversionWarning: A column-vector y was passed when a 1d array was expected. Please change the shape of y to (n_samples, ), for example using ravel().\n",
            "  y = column_or_1d(y, warn=True)\n",
            "/usr/local/lib/python3.7/dist-packages/sklearn/utils/validation.py:993: DataConversionWarning: A column-vector y was passed when a 1d array was expected. Please change the shape of y to (n_samples, ), for example using ravel().\n",
            "  y = column_or_1d(y, warn=True)\n",
            "/usr/local/lib/python3.7/dist-packages/sklearn/utils/validation.py:993: DataConversionWarning: A column-vector y was passed when a 1d array was expected. Please change the shape of y to (n_samples, ), for example using ravel().\n",
            "  y = column_or_1d(y, warn=True)\n",
            "/usr/local/lib/python3.7/dist-packages/sklearn/utils/validation.py:993: DataConversionWarning: A column-vector y was passed when a 1d array was expected. Please change the shape of y to (n_samples, ), for example using ravel().\n",
            "  y = column_or_1d(y, warn=True)\n",
            "/usr/local/lib/python3.7/dist-packages/sklearn/utils/validation.py:993: DataConversionWarning: A column-vector y was passed when a 1d array was expected. Please change the shape of y to (n_samples, ), for example using ravel().\n",
            "  y = column_or_1d(y, warn=True)\n",
            "/usr/local/lib/python3.7/dist-packages/sklearn/utils/validation.py:993: DataConversionWarning: A column-vector y was passed when a 1d array was expected. Please change the shape of y to (n_samples, ), for example using ravel().\n",
            "  y = column_or_1d(y, warn=True)\n",
            "/usr/local/lib/python3.7/dist-packages/sklearn/utils/validation.py:993: DataConversionWarning: A column-vector y was passed when a 1d array was expected. Please change the shape of y to (n_samples, ), for example using ravel().\n",
            "  y = column_or_1d(y, warn=True)\n",
            "/usr/local/lib/python3.7/dist-packages/sklearn/utils/validation.py:993: DataConversionWarning: A column-vector y was passed when a 1d array was expected. Please change the shape of y to (n_samples, ), for example using ravel().\n",
            "  y = column_or_1d(y, warn=True)\n",
            "/usr/local/lib/python3.7/dist-packages/sklearn/utils/validation.py:993: DataConversionWarning: A column-vector y was passed when a 1d array was expected. Please change the shape of y to (n_samples, ), for example using ravel().\n",
            "  y = column_or_1d(y, warn=True)\n",
            "/usr/local/lib/python3.7/dist-packages/sklearn/utils/validation.py:993: DataConversionWarning: A column-vector y was passed when a 1d array was expected. Please change the shape of y to (n_samples, ), for example using ravel().\n",
            "  y = column_or_1d(y, warn=True)\n",
            "/usr/local/lib/python3.7/dist-packages/sklearn/utils/validation.py:993: DataConversionWarning: A column-vector y was passed when a 1d array was expected. Please change the shape of y to (n_samples, ), for example using ravel().\n",
            "  y = column_or_1d(y, warn=True)\n",
            "/usr/local/lib/python3.7/dist-packages/sklearn/utils/validation.py:993: DataConversionWarning: A column-vector y was passed when a 1d array was expected. Please change the shape of y to (n_samples, ), for example using ravel().\n",
            "  y = column_or_1d(y, warn=True)\n",
            "/usr/local/lib/python3.7/dist-packages/sklearn/utils/validation.py:993: DataConversionWarning: A column-vector y was passed when a 1d array was expected. Please change the shape of y to (n_samples, ), for example using ravel().\n",
            "  y = column_or_1d(y, warn=True)\n",
            "/usr/local/lib/python3.7/dist-packages/sklearn/utils/validation.py:993: DataConversionWarning: A column-vector y was passed when a 1d array was expected. Please change the shape of y to (n_samples, ), for example using ravel().\n",
            "  y = column_or_1d(y, warn=True)\n",
            "/usr/local/lib/python3.7/dist-packages/sklearn/utils/validation.py:993: DataConversionWarning: A column-vector y was passed when a 1d array was expected. Please change the shape of y to (n_samples, ), for example using ravel().\n",
            "  y = column_or_1d(y, warn=True)\n",
            "/usr/local/lib/python3.7/dist-packages/sklearn/linear_model/_sag.py:354: ConvergenceWarning: The max_iter was reached which means the coef_ did not converge\n",
            "  ConvergenceWarning,\n",
            "/usr/local/lib/python3.7/dist-packages/sklearn/utils/validation.py:993: DataConversionWarning: A column-vector y was passed when a 1d array was expected. Please change the shape of y to (n_samples, ), for example using ravel().\n",
            "  y = column_or_1d(y, warn=True)\n",
            "/usr/local/lib/python3.7/dist-packages/sklearn/linear_model/_sag.py:354: ConvergenceWarning: The max_iter was reached which means the coef_ did not converge\n",
            "  ConvergenceWarning,\n",
            "/usr/local/lib/python3.7/dist-packages/sklearn/utils/validation.py:993: DataConversionWarning: A column-vector y was passed when a 1d array was expected. Please change the shape of y to (n_samples, ), for example using ravel().\n",
            "  y = column_or_1d(y, warn=True)\n",
            "/usr/local/lib/python3.7/dist-packages/sklearn/linear_model/_sag.py:354: ConvergenceWarning: The max_iter was reached which means the coef_ did not converge\n",
            "  ConvergenceWarning,\n",
            "/usr/local/lib/python3.7/dist-packages/sklearn/utils/validation.py:993: DataConversionWarning: A column-vector y was passed when a 1d array was expected. Please change the shape of y to (n_samples, ), for example using ravel().\n",
            "  y = column_or_1d(y, warn=True)\n",
            "/usr/local/lib/python3.7/dist-packages/sklearn/linear_model/_sag.py:354: ConvergenceWarning: The max_iter was reached which means the coef_ did not converge\n",
            "  ConvergenceWarning,\n",
            "/usr/local/lib/python3.7/dist-packages/sklearn/utils/validation.py:993: DataConversionWarning: A column-vector y was passed when a 1d array was expected. Please change the shape of y to (n_samples, ), for example using ravel().\n",
            "  y = column_or_1d(y, warn=True)\n",
            "/usr/local/lib/python3.7/dist-packages/sklearn/linear_model/_sag.py:354: ConvergenceWarning: The max_iter was reached which means the coef_ did not converge\n",
            "  ConvergenceWarning,\n",
            "/usr/local/lib/python3.7/dist-packages/sklearn/utils/validation.py:993: DataConversionWarning: A column-vector y was passed when a 1d array was expected. Please change the shape of y to (n_samples, ), for example using ravel().\n",
            "  y = column_or_1d(y, warn=True)\n",
            "/usr/local/lib/python3.7/dist-packages/sklearn/utils/validation.py:993: DataConversionWarning: A column-vector y was passed when a 1d array was expected. Please change the shape of y to (n_samples, ), for example using ravel().\n",
            "  y = column_or_1d(y, warn=True)\n",
            "/usr/local/lib/python3.7/dist-packages/sklearn/utils/validation.py:993: DataConversionWarning: A column-vector y was passed when a 1d array was expected. Please change the shape of y to (n_samples, ), for example using ravel().\n",
            "  y = column_or_1d(y, warn=True)\n",
            "/usr/local/lib/python3.7/dist-packages/sklearn/utils/validation.py:993: DataConversionWarning: A column-vector y was passed when a 1d array was expected. Please change the shape of y to (n_samples, ), for example using ravel().\n",
            "  y = column_or_1d(y, warn=True)\n",
            "/usr/local/lib/python3.7/dist-packages/sklearn/utils/validation.py:993: DataConversionWarning: A column-vector y was passed when a 1d array was expected. Please change the shape of y to (n_samples, ), for example using ravel().\n",
            "  y = column_or_1d(y, warn=True)\n",
            "/usr/local/lib/python3.7/dist-packages/sklearn/utils/validation.py:993: DataConversionWarning: A column-vector y was passed when a 1d array was expected. Please change the shape of y to (n_samples, ), for example using ravel().\n",
            "  y = column_or_1d(y, warn=True)\n",
            "/usr/local/lib/python3.7/dist-packages/sklearn/utils/validation.py:993: DataConversionWarning: A column-vector y was passed when a 1d array was expected. Please change the shape of y to (n_samples, ), for example using ravel().\n",
            "  y = column_or_1d(y, warn=True)\n",
            "/usr/local/lib/python3.7/dist-packages/sklearn/utils/validation.py:993: DataConversionWarning: A column-vector y was passed when a 1d array was expected. Please change the shape of y to (n_samples, ), for example using ravel().\n",
            "  y = column_or_1d(y, warn=True)\n",
            "/usr/local/lib/python3.7/dist-packages/sklearn/utils/validation.py:993: DataConversionWarning: A column-vector y was passed when a 1d array was expected. Please change the shape of y to (n_samples, ), for example using ravel().\n",
            "  y = column_or_1d(y, warn=True)\n",
            "/usr/local/lib/python3.7/dist-packages/sklearn/utils/validation.py:993: DataConversionWarning: A column-vector y was passed when a 1d array was expected. Please change the shape of y to (n_samples, ), for example using ravel().\n",
            "  y = column_or_1d(y, warn=True)\n",
            "/usr/local/lib/python3.7/dist-packages/sklearn/utils/validation.py:993: DataConversionWarning: A column-vector y was passed when a 1d array was expected. Please change the shape of y to (n_samples, ), for example using ravel().\n",
            "  y = column_or_1d(y, warn=True)\n",
            "/usr/local/lib/python3.7/dist-packages/sklearn/linear_model/_sag.py:354: ConvergenceWarning: The max_iter was reached which means the coef_ did not converge\n",
            "  ConvergenceWarning,\n",
            "/usr/local/lib/python3.7/dist-packages/sklearn/utils/validation.py:993: DataConversionWarning: A column-vector y was passed when a 1d array was expected. Please change the shape of y to (n_samples, ), for example using ravel().\n",
            "  y = column_or_1d(y, warn=True)\n",
            "/usr/local/lib/python3.7/dist-packages/sklearn/linear_model/_sag.py:354: ConvergenceWarning: The max_iter was reached which means the coef_ did not converge\n",
            "  ConvergenceWarning,\n",
            "/usr/local/lib/python3.7/dist-packages/sklearn/utils/validation.py:993: DataConversionWarning: A column-vector y was passed when a 1d array was expected. Please change the shape of y to (n_samples, ), for example using ravel().\n",
            "  y = column_or_1d(y, warn=True)\n",
            "/usr/local/lib/python3.7/dist-packages/sklearn/linear_model/_sag.py:354: ConvergenceWarning: The max_iter was reached which means the coef_ did not converge\n",
            "  ConvergenceWarning,\n",
            "/usr/local/lib/python3.7/dist-packages/sklearn/utils/validation.py:993: DataConversionWarning: A column-vector y was passed when a 1d array was expected. Please change the shape of y to (n_samples, ), for example using ravel().\n",
            "  y = column_or_1d(y, warn=True)\n",
            "/usr/local/lib/python3.7/dist-packages/sklearn/linear_model/_sag.py:354: ConvergenceWarning: The max_iter was reached which means the coef_ did not converge\n",
            "  ConvergenceWarning,\n",
            "/usr/local/lib/python3.7/dist-packages/sklearn/utils/validation.py:993: DataConversionWarning: A column-vector y was passed when a 1d array was expected. Please change the shape of y to (n_samples, ), for example using ravel().\n",
            "  y = column_or_1d(y, warn=True)\n",
            "/usr/local/lib/python3.7/dist-packages/sklearn/linear_model/_sag.py:354: ConvergenceWarning: The max_iter was reached which means the coef_ did not converge\n",
            "  ConvergenceWarning,\n",
            "/usr/local/lib/python3.7/dist-packages/sklearn/utils/validation.py:993: DataConversionWarning: A column-vector y was passed when a 1d array was expected. Please change the shape of y to (n_samples, ), for example using ravel().\n",
            "  y = column_or_1d(y, warn=True)\n",
            "/usr/local/lib/python3.7/dist-packages/sklearn/utils/validation.py:993: DataConversionWarning: A column-vector y was passed when a 1d array was expected. Please change the shape of y to (n_samples, ), for example using ravel().\n",
            "  y = column_or_1d(y, warn=True)\n",
            "/usr/local/lib/python3.7/dist-packages/sklearn/utils/validation.py:993: DataConversionWarning: A column-vector y was passed when a 1d array was expected. Please change the shape of y to (n_samples, ), for example using ravel().\n",
            "  y = column_or_1d(y, warn=True)\n",
            "/usr/local/lib/python3.7/dist-packages/sklearn/utils/validation.py:993: DataConversionWarning: A column-vector y was passed when a 1d array was expected. Please change the shape of y to (n_samples, ), for example using ravel().\n",
            "  y = column_or_1d(y, warn=True)\n",
            "/usr/local/lib/python3.7/dist-packages/sklearn/utils/validation.py:993: DataConversionWarning: A column-vector y was passed when a 1d array was expected. Please change the shape of y to (n_samples, ), for example using ravel().\n",
            "  y = column_or_1d(y, warn=True)\n",
            "/usr/local/lib/python3.7/dist-packages/sklearn/utils/validation.py:993: DataConversionWarning: A column-vector y was passed when a 1d array was expected. Please change the shape of y to (n_samples, ), for example using ravel().\n",
            "  y = column_or_1d(y, warn=True)\n",
            "/usr/local/lib/python3.7/dist-packages/sklearn/utils/validation.py:993: DataConversionWarning: A column-vector y was passed when a 1d array was expected. Please change the shape of y to (n_samples, ), for example using ravel().\n",
            "  y = column_or_1d(y, warn=True)\n",
            "/usr/local/lib/python3.7/dist-packages/sklearn/utils/validation.py:993: DataConversionWarning: A column-vector y was passed when a 1d array was expected. Please change the shape of y to (n_samples, ), for example using ravel().\n",
            "  y = column_or_1d(y, warn=True)\n",
            "/usr/local/lib/python3.7/dist-packages/sklearn/utils/validation.py:993: DataConversionWarning: A column-vector y was passed when a 1d array was expected. Please change the shape of y to (n_samples, ), for example using ravel().\n",
            "  y = column_or_1d(y, warn=True)\n",
            "/usr/local/lib/python3.7/dist-packages/sklearn/utils/validation.py:993: DataConversionWarning: A column-vector y was passed when a 1d array was expected. Please change the shape of y to (n_samples, ), for example using ravel().\n",
            "  y = column_or_1d(y, warn=True)\n",
            "/usr/local/lib/python3.7/dist-packages/sklearn/utils/validation.py:993: DataConversionWarning: A column-vector y was passed when a 1d array was expected. Please change the shape of y to (n_samples, ), for example using ravel().\n",
            "  y = column_or_1d(y, warn=True)\n",
            "/usr/local/lib/python3.7/dist-packages/sklearn/linear_model/_sag.py:354: ConvergenceWarning: The max_iter was reached which means the coef_ did not converge\n",
            "  ConvergenceWarning,\n",
            "/usr/local/lib/python3.7/dist-packages/sklearn/utils/validation.py:993: DataConversionWarning: A column-vector y was passed when a 1d array was expected. Please change the shape of y to (n_samples, ), for example using ravel().\n",
            "  y = column_or_1d(y, warn=True)\n",
            "/usr/local/lib/python3.7/dist-packages/sklearn/linear_model/_sag.py:354: ConvergenceWarning: The max_iter was reached which means the coef_ did not converge\n",
            "  ConvergenceWarning,\n",
            "/usr/local/lib/python3.7/dist-packages/sklearn/utils/validation.py:993: DataConversionWarning: A column-vector y was passed when a 1d array was expected. Please change the shape of y to (n_samples, ), for example using ravel().\n",
            "  y = column_or_1d(y, warn=True)\n",
            "/usr/local/lib/python3.7/dist-packages/sklearn/linear_model/_sag.py:354: ConvergenceWarning: The max_iter was reached which means the coef_ did not converge\n",
            "  ConvergenceWarning,\n",
            "/usr/local/lib/python3.7/dist-packages/sklearn/utils/validation.py:993: DataConversionWarning: A column-vector y was passed when a 1d array was expected. Please change the shape of y to (n_samples, ), for example using ravel().\n",
            "  y = column_or_1d(y, warn=True)\n",
            "/usr/local/lib/python3.7/dist-packages/sklearn/linear_model/_sag.py:354: ConvergenceWarning: The max_iter was reached which means the coef_ did not converge\n",
            "  ConvergenceWarning,\n",
            "/usr/local/lib/python3.7/dist-packages/sklearn/utils/validation.py:993: DataConversionWarning: A column-vector y was passed when a 1d array was expected. Please change the shape of y to (n_samples, ), for example using ravel().\n",
            "  y = column_or_1d(y, warn=True)\n",
            "/usr/local/lib/python3.7/dist-packages/sklearn/linear_model/_sag.py:354: ConvergenceWarning: The max_iter was reached which means the coef_ did not converge\n",
            "  ConvergenceWarning,\n",
            "/usr/local/lib/python3.7/dist-packages/sklearn/utils/validation.py:993: DataConversionWarning: A column-vector y was passed when a 1d array was expected. Please change the shape of y to (n_samples, ), for example using ravel().\n",
            "  y = column_or_1d(y, warn=True)\n",
            "/usr/local/lib/python3.7/dist-packages/sklearn/utils/validation.py:993: DataConversionWarning: A column-vector y was passed when a 1d array was expected. Please change the shape of y to (n_samples, ), for example using ravel().\n",
            "  y = column_or_1d(y, warn=True)\n",
            "/usr/local/lib/python3.7/dist-packages/sklearn/utils/validation.py:993: DataConversionWarning: A column-vector y was passed when a 1d array was expected. Please change the shape of y to (n_samples, ), for example using ravel().\n",
            "  y = column_or_1d(y, warn=True)\n",
            "/usr/local/lib/python3.7/dist-packages/sklearn/utils/validation.py:993: DataConversionWarning: A column-vector y was passed when a 1d array was expected. Please change the shape of y to (n_samples, ), for example using ravel().\n",
            "  y = column_or_1d(y, warn=True)\n",
            "/usr/local/lib/python3.7/dist-packages/sklearn/utils/validation.py:993: DataConversionWarning: A column-vector y was passed when a 1d array was expected. Please change the shape of y to (n_samples, ), for example using ravel().\n",
            "  y = column_or_1d(y, warn=True)\n",
            "/usr/local/lib/python3.7/dist-packages/sklearn/utils/validation.py:993: DataConversionWarning: A column-vector y was passed when a 1d array was expected. Please change the shape of y to (n_samples, ), for example using ravel().\n",
            "  y = column_or_1d(y, warn=True)\n",
            "/usr/local/lib/python3.7/dist-packages/sklearn/utils/validation.py:993: DataConversionWarning: A column-vector y was passed when a 1d array was expected. Please change the shape of y to (n_samples, ), for example using ravel().\n",
            "  y = column_or_1d(y, warn=True)\n",
            "/usr/local/lib/python3.7/dist-packages/sklearn/utils/validation.py:993: DataConversionWarning: A column-vector y was passed when a 1d array was expected. Please change the shape of y to (n_samples, ), for example using ravel().\n",
            "  y = column_or_1d(y, warn=True)\n",
            "/usr/local/lib/python3.7/dist-packages/sklearn/utils/validation.py:993: DataConversionWarning: A column-vector y was passed when a 1d array was expected. Please change the shape of y to (n_samples, ), for example using ravel().\n",
            "  y = column_or_1d(y, warn=True)\n",
            "/usr/local/lib/python3.7/dist-packages/sklearn/utils/validation.py:993: DataConversionWarning: A column-vector y was passed when a 1d array was expected. Please change the shape of y to (n_samples, ), for example using ravel().\n",
            "  y = column_or_1d(y, warn=True)\n",
            "/usr/local/lib/python3.7/dist-packages/sklearn/utils/validation.py:993: DataConversionWarning: A column-vector y was passed when a 1d array was expected. Please change the shape of y to (n_samples, ), for example using ravel().\n",
            "  y = column_or_1d(y, warn=True)\n",
            "/usr/local/lib/python3.7/dist-packages/sklearn/linear_model/_sag.py:354: ConvergenceWarning: The max_iter was reached which means the coef_ did not converge\n",
            "  ConvergenceWarning,\n",
            "/usr/local/lib/python3.7/dist-packages/sklearn/utils/validation.py:993: DataConversionWarning: A column-vector y was passed when a 1d array was expected. Please change the shape of y to (n_samples, ), for example using ravel().\n",
            "  y = column_or_1d(y, warn=True)\n",
            "/usr/local/lib/python3.7/dist-packages/sklearn/linear_model/_sag.py:354: ConvergenceWarning: The max_iter was reached which means the coef_ did not converge\n",
            "  ConvergenceWarning,\n",
            "/usr/local/lib/python3.7/dist-packages/sklearn/utils/validation.py:993: DataConversionWarning: A column-vector y was passed when a 1d array was expected. Please change the shape of y to (n_samples, ), for example using ravel().\n",
            "  y = column_or_1d(y, warn=True)\n",
            "/usr/local/lib/python3.7/dist-packages/sklearn/linear_model/_sag.py:354: ConvergenceWarning: The max_iter was reached which means the coef_ did not converge\n",
            "  ConvergenceWarning,\n",
            "/usr/local/lib/python3.7/dist-packages/sklearn/utils/validation.py:993: DataConversionWarning: A column-vector y was passed when a 1d array was expected. Please change the shape of y to (n_samples, ), for example using ravel().\n",
            "  y = column_or_1d(y, warn=True)\n",
            "/usr/local/lib/python3.7/dist-packages/sklearn/linear_model/_sag.py:354: ConvergenceWarning: The max_iter was reached which means the coef_ did not converge\n",
            "  ConvergenceWarning,\n",
            "/usr/local/lib/python3.7/dist-packages/sklearn/utils/validation.py:993: DataConversionWarning: A column-vector y was passed when a 1d array was expected. Please change the shape of y to (n_samples, ), for example using ravel().\n",
            "  y = column_or_1d(y, warn=True)\n",
            "/usr/local/lib/python3.7/dist-packages/sklearn/linear_model/_sag.py:354: ConvergenceWarning: The max_iter was reached which means the coef_ did not converge\n",
            "  ConvergenceWarning,\n",
            "/usr/local/lib/python3.7/dist-packages/sklearn/utils/validation.py:993: DataConversionWarning: A column-vector y was passed when a 1d array was expected. Please change the shape of y to (n_samples, ), for example using ravel().\n",
            "  y = column_or_1d(y, warn=True)\n",
            "/usr/local/lib/python3.7/dist-packages/sklearn/utils/validation.py:993: DataConversionWarning: A column-vector y was passed when a 1d array was expected. Please change the shape of y to (n_samples, ), for example using ravel().\n",
            "  y = column_or_1d(y, warn=True)\n",
            "/usr/local/lib/python3.7/dist-packages/sklearn/utils/validation.py:993: DataConversionWarning: A column-vector y was passed when a 1d array was expected. Please change the shape of y to (n_samples, ), for example using ravel().\n",
            "  y = column_or_1d(y, warn=True)\n",
            "/usr/local/lib/python3.7/dist-packages/sklearn/utils/validation.py:993: DataConversionWarning: A column-vector y was passed when a 1d array was expected. Please change the shape of y to (n_samples, ), for example using ravel().\n",
            "  y = column_or_1d(y, warn=True)\n",
            "/usr/local/lib/python3.7/dist-packages/sklearn/utils/validation.py:993: DataConversionWarning: A column-vector y was passed when a 1d array was expected. Please change the shape of y to (n_samples, ), for example using ravel().\n",
            "  y = column_or_1d(y, warn=True)\n",
            "/usr/local/lib/python3.7/dist-packages/sklearn/utils/validation.py:993: DataConversionWarning: A column-vector y was passed when a 1d array was expected. Please change the shape of y to (n_samples, ), for example using ravel().\n",
            "  y = column_or_1d(y, warn=True)\n",
            "/usr/local/lib/python3.7/dist-packages/sklearn/utils/validation.py:993: DataConversionWarning: A column-vector y was passed when a 1d array was expected. Please change the shape of y to (n_samples, ), for example using ravel().\n",
            "  y = column_or_1d(y, warn=True)\n",
            "/usr/local/lib/python3.7/dist-packages/sklearn/utils/validation.py:993: DataConversionWarning: A column-vector y was passed when a 1d array was expected. Please change the shape of y to (n_samples, ), for example using ravel().\n",
            "  y = column_or_1d(y, warn=True)\n",
            "/usr/local/lib/python3.7/dist-packages/sklearn/utils/validation.py:993: DataConversionWarning: A column-vector y was passed when a 1d array was expected. Please change the shape of y to (n_samples, ), for example using ravel().\n",
            "  y = column_or_1d(y, warn=True)\n",
            "/usr/local/lib/python3.7/dist-packages/sklearn/utils/validation.py:993: DataConversionWarning: A column-vector y was passed when a 1d array was expected. Please change the shape of y to (n_samples, ), for example using ravel().\n",
            "  y = column_or_1d(y, warn=True)\n",
            "/usr/local/lib/python3.7/dist-packages/sklearn/utils/validation.py:993: DataConversionWarning: A column-vector y was passed when a 1d array was expected. Please change the shape of y to (n_samples, ), for example using ravel().\n",
            "  y = column_or_1d(y, warn=True)\n",
            "/usr/local/lib/python3.7/dist-packages/sklearn/linear_model/_sag.py:354: ConvergenceWarning: The max_iter was reached which means the coef_ did not converge\n",
            "  ConvergenceWarning,\n",
            "/usr/local/lib/python3.7/dist-packages/sklearn/utils/validation.py:993: DataConversionWarning: A column-vector y was passed when a 1d array was expected. Please change the shape of y to (n_samples, ), for example using ravel().\n",
            "  y = column_or_1d(y, warn=True)\n",
            "/usr/local/lib/python3.7/dist-packages/sklearn/linear_model/_sag.py:354: ConvergenceWarning: The max_iter was reached which means the coef_ did not converge\n",
            "  ConvergenceWarning,\n",
            "/usr/local/lib/python3.7/dist-packages/sklearn/utils/validation.py:993: DataConversionWarning: A column-vector y was passed when a 1d array was expected. Please change the shape of y to (n_samples, ), for example using ravel().\n",
            "  y = column_or_1d(y, warn=True)\n",
            "/usr/local/lib/python3.7/dist-packages/sklearn/linear_model/_sag.py:354: ConvergenceWarning: The max_iter was reached which means the coef_ did not converge\n",
            "  ConvergenceWarning,\n",
            "/usr/local/lib/python3.7/dist-packages/sklearn/utils/validation.py:993: DataConversionWarning: A column-vector y was passed when a 1d array was expected. Please change the shape of y to (n_samples, ), for example using ravel().\n",
            "  y = column_or_1d(y, warn=True)\n",
            "/usr/local/lib/python3.7/dist-packages/sklearn/linear_model/_sag.py:354: ConvergenceWarning: The max_iter was reached which means the coef_ did not converge\n",
            "  ConvergenceWarning,\n",
            "/usr/local/lib/python3.7/dist-packages/sklearn/utils/validation.py:993: DataConversionWarning: A column-vector y was passed when a 1d array was expected. Please change the shape of y to (n_samples, ), for example using ravel().\n",
            "  y = column_or_1d(y, warn=True)\n",
            "/usr/local/lib/python3.7/dist-packages/sklearn/linear_model/_sag.py:354: ConvergenceWarning: The max_iter was reached which means the coef_ did not converge\n",
            "  ConvergenceWarning,\n",
            "/usr/local/lib/python3.7/dist-packages/sklearn/utils/validation.py:993: DataConversionWarning: A column-vector y was passed when a 1d array was expected. Please change the shape of y to (n_samples, ), for example using ravel().\n",
            "  y = column_or_1d(y, warn=True)\n",
            "/usr/local/lib/python3.7/dist-packages/sklearn/utils/validation.py:993: DataConversionWarning: A column-vector y was passed when a 1d array was expected. Please change the shape of y to (n_samples, ), for example using ravel().\n",
            "  y = column_or_1d(y, warn=True)\n",
            "/usr/local/lib/python3.7/dist-packages/sklearn/utils/validation.py:993: DataConversionWarning: A column-vector y was passed when a 1d array was expected. Please change the shape of y to (n_samples, ), for example using ravel().\n",
            "  y = column_or_1d(y, warn=True)\n",
            "/usr/local/lib/python3.7/dist-packages/sklearn/utils/validation.py:993: DataConversionWarning: A column-vector y was passed when a 1d array was expected. Please change the shape of y to (n_samples, ), for example using ravel().\n",
            "  y = column_or_1d(y, warn=True)\n",
            "/usr/local/lib/python3.7/dist-packages/sklearn/utils/validation.py:993: DataConversionWarning: A column-vector y was passed when a 1d array was expected. Please change the shape of y to (n_samples, ), for example using ravel().\n",
            "  y = column_or_1d(y, warn=True)\n",
            "/usr/local/lib/python3.7/dist-packages/sklearn/utils/validation.py:993: DataConversionWarning: A column-vector y was passed when a 1d array was expected. Please change the shape of y to (n_samples, ), for example using ravel().\n",
            "  y = column_or_1d(y, warn=True)\n",
            "/usr/local/lib/python3.7/dist-packages/sklearn/utils/validation.py:993: DataConversionWarning: A column-vector y was passed when a 1d array was expected. Please change the shape of y to (n_samples, ), for example using ravel().\n",
            "  y = column_or_1d(y, warn=True)\n",
            "/usr/local/lib/python3.7/dist-packages/sklearn/utils/validation.py:993: DataConversionWarning: A column-vector y was passed when a 1d array was expected. Please change the shape of y to (n_samples, ), for example using ravel().\n",
            "  y = column_or_1d(y, warn=True)\n",
            "/usr/local/lib/python3.7/dist-packages/sklearn/utils/validation.py:993: DataConversionWarning: A column-vector y was passed when a 1d array was expected. Please change the shape of y to (n_samples, ), for example using ravel().\n",
            "  y = column_or_1d(y, warn=True)\n",
            "/usr/local/lib/python3.7/dist-packages/sklearn/utils/validation.py:993: DataConversionWarning: A column-vector y was passed when a 1d array was expected. Please change the shape of y to (n_samples, ), for example using ravel().\n",
            "  y = column_or_1d(y, warn=True)\n",
            "/usr/local/lib/python3.7/dist-packages/sklearn/utils/validation.py:993: DataConversionWarning: A column-vector y was passed when a 1d array was expected. Please change the shape of y to (n_samples, ), for example using ravel().\n",
            "  y = column_or_1d(y, warn=True)\n",
            "/usr/local/lib/python3.7/dist-packages/sklearn/linear_model/_sag.py:354: ConvergenceWarning: The max_iter was reached which means the coef_ did not converge\n",
            "  ConvergenceWarning,\n",
            "/usr/local/lib/python3.7/dist-packages/sklearn/utils/validation.py:993: DataConversionWarning: A column-vector y was passed when a 1d array was expected. Please change the shape of y to (n_samples, ), for example using ravel().\n",
            "  y = column_or_1d(y, warn=True)\n",
            "/usr/local/lib/python3.7/dist-packages/sklearn/linear_model/_sag.py:354: ConvergenceWarning: The max_iter was reached which means the coef_ did not converge\n",
            "  ConvergenceWarning,\n",
            "/usr/local/lib/python3.7/dist-packages/sklearn/utils/validation.py:993: DataConversionWarning: A column-vector y was passed when a 1d array was expected. Please change the shape of y to (n_samples, ), for example using ravel().\n",
            "  y = column_or_1d(y, warn=True)\n",
            "/usr/local/lib/python3.7/dist-packages/sklearn/linear_model/_sag.py:354: ConvergenceWarning: The max_iter was reached which means the coef_ did not converge\n",
            "  ConvergenceWarning,\n",
            "/usr/local/lib/python3.7/dist-packages/sklearn/utils/validation.py:993: DataConversionWarning: A column-vector y was passed when a 1d array was expected. Please change the shape of y to (n_samples, ), for example using ravel().\n",
            "  y = column_or_1d(y, warn=True)\n",
            "/usr/local/lib/python3.7/dist-packages/sklearn/linear_model/_sag.py:354: ConvergenceWarning: The max_iter was reached which means the coef_ did not converge\n",
            "  ConvergenceWarning,\n",
            "/usr/local/lib/python3.7/dist-packages/sklearn/utils/validation.py:993: DataConversionWarning: A column-vector y was passed when a 1d array was expected. Please change the shape of y to (n_samples, ), for example using ravel().\n",
            "  y = column_or_1d(y, warn=True)\n",
            "/usr/local/lib/python3.7/dist-packages/sklearn/linear_model/_sag.py:354: ConvergenceWarning: The max_iter was reached which means the coef_ did not converge\n",
            "  ConvergenceWarning,\n",
            "/usr/local/lib/python3.7/dist-packages/sklearn/utils/validation.py:993: DataConversionWarning: A column-vector y was passed when a 1d array was expected. Please change the shape of y to (n_samples, ), for example using ravel().\n",
            "  y = column_or_1d(y, warn=True)\n",
            "/usr/local/lib/python3.7/dist-packages/sklearn/utils/validation.py:993: DataConversionWarning: A column-vector y was passed when a 1d array was expected. Please change the shape of y to (n_samples, ), for example using ravel().\n",
            "  y = column_or_1d(y, warn=True)\n",
            "/usr/local/lib/python3.7/dist-packages/sklearn/utils/validation.py:993: DataConversionWarning: A column-vector y was passed when a 1d array was expected. Please change the shape of y to (n_samples, ), for example using ravel().\n",
            "  y = column_or_1d(y, warn=True)\n",
            "/usr/local/lib/python3.7/dist-packages/sklearn/utils/validation.py:993: DataConversionWarning: A column-vector y was passed when a 1d array was expected. Please change the shape of y to (n_samples, ), for example using ravel().\n",
            "  y = column_or_1d(y, warn=True)\n",
            "/usr/local/lib/python3.7/dist-packages/sklearn/utils/validation.py:993: DataConversionWarning: A column-vector y was passed when a 1d array was expected. Please change the shape of y to (n_samples, ), for example using ravel().\n",
            "  y = column_or_1d(y, warn=True)\n",
            "/usr/local/lib/python3.7/dist-packages/sklearn/utils/validation.py:993: DataConversionWarning: A column-vector y was passed when a 1d array was expected. Please change the shape of y to (n_samples, ), for example using ravel().\n",
            "  y = column_or_1d(y, warn=True)\n",
            "/usr/local/lib/python3.7/dist-packages/sklearn/utils/validation.py:993: DataConversionWarning: A column-vector y was passed when a 1d array was expected. Please change the shape of y to (n_samples, ), for example using ravel().\n",
            "  y = column_or_1d(y, warn=True)\n",
            "/usr/local/lib/python3.7/dist-packages/sklearn/utils/validation.py:993: DataConversionWarning: A column-vector y was passed when a 1d array was expected. Please change the shape of y to (n_samples, ), for example using ravel().\n",
            "  y = column_or_1d(y, warn=True)\n",
            "/usr/local/lib/python3.7/dist-packages/sklearn/utils/validation.py:993: DataConversionWarning: A column-vector y was passed when a 1d array was expected. Please change the shape of y to (n_samples, ), for example using ravel().\n",
            "  y = column_or_1d(y, warn=True)\n",
            "/usr/local/lib/python3.7/dist-packages/sklearn/utils/validation.py:993: DataConversionWarning: A column-vector y was passed when a 1d array was expected. Please change the shape of y to (n_samples, ), for example using ravel().\n",
            "  y = column_or_1d(y, warn=True)\n",
            "/usr/local/lib/python3.7/dist-packages/sklearn/utils/validation.py:993: DataConversionWarning: A column-vector y was passed when a 1d array was expected. Please change the shape of y to (n_samples, ), for example using ravel().\n",
            "  y = column_or_1d(y, warn=True)\n",
            "/usr/local/lib/python3.7/dist-packages/sklearn/linear_model/_sag.py:354: ConvergenceWarning: The max_iter was reached which means the coef_ did not converge\n",
            "  ConvergenceWarning,\n",
            "/usr/local/lib/python3.7/dist-packages/sklearn/utils/validation.py:993: DataConversionWarning: A column-vector y was passed when a 1d array was expected. Please change the shape of y to (n_samples, ), for example using ravel().\n",
            "  y = column_or_1d(y, warn=True)\n",
            "/usr/local/lib/python3.7/dist-packages/sklearn/linear_model/_sag.py:354: ConvergenceWarning: The max_iter was reached which means the coef_ did not converge\n",
            "  ConvergenceWarning,\n",
            "/usr/local/lib/python3.7/dist-packages/sklearn/utils/validation.py:993: DataConversionWarning: A column-vector y was passed when a 1d array was expected. Please change the shape of y to (n_samples, ), for example using ravel().\n",
            "  y = column_or_1d(y, warn=True)\n",
            "/usr/local/lib/python3.7/dist-packages/sklearn/linear_model/_sag.py:354: ConvergenceWarning: The max_iter was reached which means the coef_ did not converge\n",
            "  ConvergenceWarning,\n",
            "/usr/local/lib/python3.7/dist-packages/sklearn/utils/validation.py:993: DataConversionWarning: A column-vector y was passed when a 1d array was expected. Please change the shape of y to (n_samples, ), for example using ravel().\n",
            "  y = column_or_1d(y, warn=True)\n",
            "/usr/local/lib/python3.7/dist-packages/sklearn/linear_model/_sag.py:354: ConvergenceWarning: The max_iter was reached which means the coef_ did not converge\n",
            "  ConvergenceWarning,\n",
            "/usr/local/lib/python3.7/dist-packages/sklearn/utils/validation.py:993: DataConversionWarning: A column-vector y was passed when a 1d array was expected. Please change the shape of y to (n_samples, ), for example using ravel().\n",
            "  y = column_or_1d(y, warn=True)\n",
            "/usr/local/lib/python3.7/dist-packages/sklearn/linear_model/_sag.py:354: ConvergenceWarning: The max_iter was reached which means the coef_ did not converge\n",
            "  ConvergenceWarning,\n",
            "/usr/local/lib/python3.7/dist-packages/sklearn/utils/validation.py:993: DataConversionWarning: A column-vector y was passed when a 1d array was expected. Please change the shape of y to (n_samples, ), for example using ravel().\n",
            "  y = column_or_1d(y, warn=True)\n",
            "/usr/local/lib/python3.7/dist-packages/sklearn/utils/validation.py:993: DataConversionWarning: A column-vector y was passed when a 1d array was expected. Please change the shape of y to (n_samples, ), for example using ravel().\n",
            "  y = column_or_1d(y, warn=True)\n",
            "/usr/local/lib/python3.7/dist-packages/sklearn/utils/validation.py:993: DataConversionWarning: A column-vector y was passed when a 1d array was expected. Please change the shape of y to (n_samples, ), for example using ravel().\n",
            "  y = column_or_1d(y, warn=True)\n",
            "/usr/local/lib/python3.7/dist-packages/sklearn/utils/validation.py:993: DataConversionWarning: A column-vector y was passed when a 1d array was expected. Please change the shape of y to (n_samples, ), for example using ravel().\n",
            "  y = column_or_1d(y, warn=True)\n",
            "/usr/local/lib/python3.7/dist-packages/sklearn/utils/validation.py:993: DataConversionWarning: A column-vector y was passed when a 1d array was expected. Please change the shape of y to (n_samples, ), for example using ravel().\n",
            "  y = column_or_1d(y, warn=True)\n",
            "/usr/local/lib/python3.7/dist-packages/sklearn/utils/validation.py:993: DataConversionWarning: A column-vector y was passed when a 1d array was expected. Please change the shape of y to (n_samples, ), for example using ravel().\n",
            "  y = column_or_1d(y, warn=True)\n",
            "/usr/local/lib/python3.7/dist-packages/sklearn/utils/validation.py:993: DataConversionWarning: A column-vector y was passed when a 1d array was expected. Please change the shape of y to (n_samples, ), for example using ravel().\n",
            "  y = column_or_1d(y, warn=True)\n",
            "/usr/local/lib/python3.7/dist-packages/sklearn/utils/validation.py:993: DataConversionWarning: A column-vector y was passed when a 1d array was expected. Please change the shape of y to (n_samples, ), for example using ravel().\n",
            "  y = column_or_1d(y, warn=True)\n",
            "/usr/local/lib/python3.7/dist-packages/sklearn/utils/validation.py:993: DataConversionWarning: A column-vector y was passed when a 1d array was expected. Please change the shape of y to (n_samples, ), for example using ravel().\n",
            "  y = column_or_1d(y, warn=True)\n",
            "/usr/local/lib/python3.7/dist-packages/sklearn/utils/validation.py:993: DataConversionWarning: A column-vector y was passed when a 1d array was expected. Please change the shape of y to (n_samples, ), for example using ravel().\n",
            "  y = column_or_1d(y, warn=True)\n",
            "/usr/local/lib/python3.7/dist-packages/sklearn/utils/validation.py:993: DataConversionWarning: A column-vector y was passed when a 1d array was expected. Please change the shape of y to (n_samples, ), for example using ravel().\n",
            "  y = column_or_1d(y, warn=True)\n",
            "/usr/local/lib/python3.7/dist-packages/sklearn/linear_model/_sag.py:354: ConvergenceWarning: The max_iter was reached which means the coef_ did not converge\n",
            "  ConvergenceWarning,\n",
            "/usr/local/lib/python3.7/dist-packages/sklearn/utils/validation.py:993: DataConversionWarning: A column-vector y was passed when a 1d array was expected. Please change the shape of y to (n_samples, ), for example using ravel().\n",
            "  y = column_or_1d(y, warn=True)\n",
            "/usr/local/lib/python3.7/dist-packages/sklearn/linear_model/_sag.py:354: ConvergenceWarning: The max_iter was reached which means the coef_ did not converge\n",
            "  ConvergenceWarning,\n",
            "/usr/local/lib/python3.7/dist-packages/sklearn/utils/validation.py:993: DataConversionWarning: A column-vector y was passed when a 1d array was expected. Please change the shape of y to (n_samples, ), for example using ravel().\n",
            "  y = column_or_1d(y, warn=True)\n",
            "/usr/local/lib/python3.7/dist-packages/sklearn/linear_model/_sag.py:354: ConvergenceWarning: The max_iter was reached which means the coef_ did not converge\n",
            "  ConvergenceWarning,\n",
            "/usr/local/lib/python3.7/dist-packages/sklearn/utils/validation.py:993: DataConversionWarning: A column-vector y was passed when a 1d array was expected. Please change the shape of y to (n_samples, ), for example using ravel().\n",
            "  y = column_or_1d(y, warn=True)\n",
            "/usr/local/lib/python3.7/dist-packages/sklearn/linear_model/_sag.py:354: ConvergenceWarning: The max_iter was reached which means the coef_ did not converge\n",
            "  ConvergenceWarning,\n",
            "/usr/local/lib/python3.7/dist-packages/sklearn/utils/validation.py:993: DataConversionWarning: A column-vector y was passed when a 1d array was expected. Please change the shape of y to (n_samples, ), for example using ravel().\n",
            "  y = column_or_1d(y, warn=True)\n",
            "/usr/local/lib/python3.7/dist-packages/sklearn/linear_model/_sag.py:354: ConvergenceWarning: The max_iter was reached which means the coef_ did not converge\n",
            "  ConvergenceWarning,\n",
            "/usr/local/lib/python3.7/dist-packages/sklearn/utils/validation.py:993: DataConversionWarning: A column-vector y was passed when a 1d array was expected. Please change the shape of y to (n_samples, ), for example using ravel().\n",
            "  y = column_or_1d(y, warn=True)\n",
            "/usr/local/lib/python3.7/dist-packages/sklearn/utils/validation.py:993: DataConversionWarning: A column-vector y was passed when a 1d array was expected. Please change the shape of y to (n_samples, ), for example using ravel().\n",
            "  y = column_or_1d(y, warn=True)\n",
            "/usr/local/lib/python3.7/dist-packages/sklearn/utils/validation.py:993: DataConversionWarning: A column-vector y was passed when a 1d array was expected. Please change the shape of y to (n_samples, ), for example using ravel().\n",
            "  y = column_or_1d(y, warn=True)\n",
            "/usr/local/lib/python3.7/dist-packages/sklearn/utils/validation.py:993: DataConversionWarning: A column-vector y was passed when a 1d array was expected. Please change the shape of y to (n_samples, ), for example using ravel().\n",
            "  y = column_or_1d(y, warn=True)\n",
            "/usr/local/lib/python3.7/dist-packages/sklearn/utils/validation.py:993: DataConversionWarning: A column-vector y was passed when a 1d array was expected. Please change the shape of y to (n_samples, ), for example using ravel().\n",
            "  y = column_or_1d(y, warn=True)\n",
            "/usr/local/lib/python3.7/dist-packages/sklearn/utils/validation.py:993: DataConversionWarning: A column-vector y was passed when a 1d array was expected. Please change the shape of y to (n_samples, ), for example using ravel().\n",
            "  y = column_or_1d(y, warn=True)\n",
            "/usr/local/lib/python3.7/dist-packages/sklearn/utils/validation.py:993: DataConversionWarning: A column-vector y was passed when a 1d array was expected. Please change the shape of y to (n_samples, ), for example using ravel().\n",
            "  y = column_or_1d(y, warn=True)\n",
            "/usr/local/lib/python3.7/dist-packages/sklearn/utils/validation.py:993: DataConversionWarning: A column-vector y was passed when a 1d array was expected. Please change the shape of y to (n_samples, ), for example using ravel().\n",
            "  y = column_or_1d(y, warn=True)\n",
            "/usr/local/lib/python3.7/dist-packages/sklearn/utils/validation.py:993: DataConversionWarning: A column-vector y was passed when a 1d array was expected. Please change the shape of y to (n_samples, ), for example using ravel().\n",
            "  y = column_or_1d(y, warn=True)\n",
            "/usr/local/lib/python3.7/dist-packages/sklearn/utils/validation.py:993: DataConversionWarning: A column-vector y was passed when a 1d array was expected. Please change the shape of y to (n_samples, ), for example using ravel().\n",
            "  y = column_or_1d(y, warn=True)\n",
            "/usr/local/lib/python3.7/dist-packages/sklearn/utils/validation.py:993: DataConversionWarning: A column-vector y was passed when a 1d array was expected. Please change the shape of y to (n_samples, ), for example using ravel().\n",
            "  y = column_or_1d(y, warn=True)\n",
            "/usr/local/lib/python3.7/dist-packages/sklearn/linear_model/_sag.py:354: ConvergenceWarning: The max_iter was reached which means the coef_ did not converge\n",
            "  ConvergenceWarning,\n",
            "/usr/local/lib/python3.7/dist-packages/sklearn/utils/validation.py:993: DataConversionWarning: A column-vector y was passed when a 1d array was expected. Please change the shape of y to (n_samples, ), for example using ravel().\n",
            "  y = column_or_1d(y, warn=True)\n",
            "/usr/local/lib/python3.7/dist-packages/sklearn/linear_model/_sag.py:354: ConvergenceWarning: The max_iter was reached which means the coef_ did not converge\n",
            "  ConvergenceWarning,\n",
            "/usr/local/lib/python3.7/dist-packages/sklearn/utils/validation.py:993: DataConversionWarning: A column-vector y was passed when a 1d array was expected. Please change the shape of y to (n_samples, ), for example using ravel().\n",
            "  y = column_or_1d(y, warn=True)\n",
            "/usr/local/lib/python3.7/dist-packages/sklearn/linear_model/_sag.py:354: ConvergenceWarning: The max_iter was reached which means the coef_ did not converge\n",
            "  ConvergenceWarning,\n",
            "/usr/local/lib/python3.7/dist-packages/sklearn/utils/validation.py:993: DataConversionWarning: A column-vector y was passed when a 1d array was expected. Please change the shape of y to (n_samples, ), for example using ravel().\n",
            "  y = column_or_1d(y, warn=True)\n",
            "/usr/local/lib/python3.7/dist-packages/sklearn/linear_model/_sag.py:354: ConvergenceWarning: The max_iter was reached which means the coef_ did not converge\n",
            "  ConvergenceWarning,\n",
            "/usr/local/lib/python3.7/dist-packages/sklearn/utils/validation.py:993: DataConversionWarning: A column-vector y was passed when a 1d array was expected. Please change the shape of y to (n_samples, ), for example using ravel().\n",
            "  y = column_or_1d(y, warn=True)\n",
            "/usr/local/lib/python3.7/dist-packages/sklearn/linear_model/_sag.py:354: ConvergenceWarning: The max_iter was reached which means the coef_ did not converge\n",
            "  ConvergenceWarning,\n",
            "/usr/local/lib/python3.7/dist-packages/sklearn/utils/validation.py:993: DataConversionWarning: A column-vector y was passed when a 1d array was expected. Please change the shape of y to (n_samples, ), for example using ravel().\n",
            "  y = column_or_1d(y, warn=True)\n",
            "/usr/local/lib/python3.7/dist-packages/sklearn/utils/validation.py:993: DataConversionWarning: A column-vector y was passed when a 1d array was expected. Please change the shape of y to (n_samples, ), for example using ravel().\n",
            "  y = column_or_1d(y, warn=True)\n",
            "/usr/local/lib/python3.7/dist-packages/sklearn/utils/validation.py:993: DataConversionWarning: A column-vector y was passed when a 1d array was expected. Please change the shape of y to (n_samples, ), for example using ravel().\n",
            "  y = column_or_1d(y, warn=True)\n",
            "/usr/local/lib/python3.7/dist-packages/sklearn/utils/validation.py:993: DataConversionWarning: A column-vector y was passed when a 1d array was expected. Please change the shape of y to (n_samples, ), for example using ravel().\n",
            "  y = column_or_1d(y, warn=True)\n",
            "/usr/local/lib/python3.7/dist-packages/sklearn/utils/validation.py:993: DataConversionWarning: A column-vector y was passed when a 1d array was expected. Please change the shape of y to (n_samples, ), for example using ravel().\n",
            "  y = column_or_1d(y, warn=True)\n",
            "/usr/local/lib/python3.7/dist-packages/sklearn/utils/validation.py:993: DataConversionWarning: A column-vector y was passed when a 1d array was expected. Please change the shape of y to (n_samples, ), for example using ravel().\n",
            "  y = column_or_1d(y, warn=True)\n"
          ]
        },
        {
          "output_type": "stream",
          "name": "stdout",
          "text": [
            "[0. 0. 0. ... 0. 1. 0.]\n",
            "Tuned Logistic Regression Parameters: {'logreg__C': 2.0, 'logreg__solver': 'saga'}, AUC: 0.7343890233196341\n"
          ]
        },
        {
          "output_type": "stream",
          "name": "stderr",
          "text": [
            "/usr/local/lib/python3.7/dist-packages/sklearn/linear_model/_sag.py:354: ConvergenceWarning: The max_iter was reached which means the coef_ did not converge\n",
            "  ConvergenceWarning,\n"
          ]
        }
      ],
      "source": [
        "#rebuild df_train_final_6\n",
        "df_train_final6 = pd.concat([df_train_final5_isordered_0_sample, df_train_final5_isordered_1], axis = 0)\n",
        "# defining the dependent and independent variables\n",
        "\n",
        "x=df_train_final6[[\"quantity_L1_3D_user_group\",\n",
        "\"quantity_L3_7D_user_group\",\n",
        "\"quantity_L7_14D_user_group\",\n",
        "\"productdetailcount_L1D_user_group\",\n",
        "\"productdetailcount_L1_3D_user_group\",\n",
        "\"productdetailcount_L3_7D_user_group\",\n",
        "\"productdetailcount_L7_14D_user_group\",\n",
        "\"fav_count_L1_3D_user_group\",\n",
        "\"fav_count_L3_7D_user_group\",\n",
        "\"fav_count_L7_14D_user_group\",\n",
        "\"addtobasket_count_L3_7D_user_group\",\n",
        "\"order_L7_14D_user\",\n",
        "\"Bayan\"]].values\n",
        "y=df_train_final6[\"is_ordered\"].values.reshape(-1,1)\n",
        "\n",
        "\n",
        "#train test split\n",
        "x_train, x_test, y_train, y_test = train_test_split(x, y, test_size=0.2, random_state=12)\n",
        "\n",
        "\n",
        "#lOGREG with gridsearch\n",
        "steps = [(\"scaler\", StandardScaler()), \n",
        "         (\"logreg\", LogisticRegression())]\n",
        "pipeline = Pipeline(steps)\n",
        "params = {\"logreg__solver\": [\"newton-cg\", \"saga\", \"lbfgs\"],\n",
        "         \"logreg__C\": np.linspace(0.001, 2 , 10)}\n",
        "tuning = GridSearchCV(pipeline, param_grid = params)\n",
        "tuning.fit(x_train, y_train)\n",
        "y_pred_probs = tuning.predict_proba(x_test)[:,1]\n",
        "y_pred = tuning.predict(x_test)\n",
        "print(y_pred)\n",
        "\n",
        "print(\"Tuned Logistic Regression Parameters: {}, AUC: {}\".format(tuning.best_params_, roc_auc_score(y_test, y_pred_probs)))"
      ]
    },
    {
      "cell_type": "markdown",
      "metadata": {
        "id": "fC7_g3pQnYC0"
      },
      "source": [
        "After hyperparameter optimization, AUC: 0.7343890233196341 - a bit increase"
      ]
    },
    {
      "cell_type": "markdown",
      "metadata": {
        "id": "LmwDIaeNPbtw"
      },
      "source": [
        "**I am using the Tree-based feature selection module to build Tree Based Models**"
      ]
    },
    {
      "cell_type": "code",
      "execution_count": null,
      "metadata": {
        "colab": {
          "base_uri": "https://localhost:8080/",
          "height": 1000
        },
        "id": "RaO_Ws7v0H5_",
        "outputId": "3da55e77-471b-4a79-a18d-da9c79d1f405"
      },
      "outputs": [
        {
          "output_type": "stream",
          "name": "stdout",
          "text": [
            "[ 0.  0.  0.  0.  0.  0.  0.  0.  0. 29.  0.  0.  0.  0.  0.  1.  0.]\n"
          ]
        },
        {
          "output_type": "stream",
          "name": "stderr",
          "text": [
            "/usr/local/lib/python3.7/dist-packages/sklearn/base.py:444: UserWarning: X has feature names, but SelectFromModel was fitted without feature names\n",
            "  f\"X has feature names, but {self.__class__.__name__} was fitted without\"\n"
          ]
        },
        {
          "output_type": "execute_result",
          "data": {
            "text/plain": [
              "                                 feature  importance_tree\n",
              "21  productdetailcount_L7_14D_user_group         0.084841\n",
              "20   productdetailcount_L3_7D_user_group         0.073926\n",
              "18     productdetailcount_L1D_user_group         0.068895\n",
              "45        productdetailcount_L7_14D_user         0.065491\n",
              "19   productdetailcount_L1_3D_user_group         0.061677\n",
              "44         productdetailcount_L3_7D_user         0.055046\n",
              "43         productdetailcount_L1_3D_user         0.047521\n",
              "57              search_count_L7_14D_user         0.044421\n",
              "42           productdetailcount_L1D_user         0.039087\n",
              "56               search_count_L3_7D_user         0.036480\n",
              "55               search_count_L1_3D_user         0.029571\n",
              "37                   revenue_L7_14D_user         0.024489\n",
              "54                 search_count_L1D_user         0.023504\n",
              "49                 fav_count_L7_14D_user         0.022384\n",
              "38                     order_L7_14D_user         0.020063\n",
              "36                  quantity_L7_14D_user         0.019974\n",
              "48                  fav_count_L3_7D_user         0.018052\n",
              "34                    revenue_L3_7D_user         0.016747\n",
              "33                   quantity_L3_7D_user         0.014113\n",
              "35                      order_L3_7D_user         0.014048\n",
              "47                  fav_count_L1_3D_user         0.013682\n",
              "14               order_L7_14D_user_group         0.013616\n",
              "25           fav_count_L7_14D_user_group         0.012498\n",
              "12            quantity_L7_14D_user_group         0.011632\n",
              "31                    revenue_L1_3D_user         0.010942\n",
              "46                    fav_count_L1D_user         0.010078\n",
              "30                   quantity_L1_3D_user         0.009860\n",
              "32                      order_L1_3D_user         0.009838\n",
              "24            fav_count_L3_7D_user_group         0.009271\n",
              "58                                 Bayan         0.009160\n",
              "11                order_L3_7D_user_group         0.008599\n",
              "13             revenue_L7_14D_user_group         0.007652\n",
              "23            fav_count_L1_3D_user_group         0.007193\n",
              "40                      revenue_LOD_user         0.006646\n",
              "9              quantity_L3_7D_user_group         0.006584\n",
              "4                       revenue_L1D_user         0.006575\n",
              "5                         order_L1D_user         0.006293\n",
              "3                      quantity_L1D_user         0.006205\n",
              "41                        order_LOD_user         0.006063\n",
              "39                     quantity_LOD_user         0.006005\n",
              "8                 order_L1_3D_user_group         0.005405\n",
              "22              fav_count_L1D_user_group         0.005327\n",
              "6              quantity_L1_3D_user_group         0.004779\n",
              "10              revenue_L3_7D_user_group         0.003935\n",
              "2                   order_L1D_user_group         0.002821\n",
              "17                  order_LOD_user_group         0.002808\n",
              "7               revenue_L1_3D_user_group         0.002533\n",
              "53         addtobasket_count_L7_14D_user         0.002404\n",
              "15               quantity_LOD_user_group         0.002065\n",
              "0                quantity_L1D_user_group         0.001853\n",
              "16                revenue_LOD_user_group         0.001728\n",
              "52          addtobasket_count_L3_7D_user         0.001433\n",
              "1                 revenue_L1D_user_group         0.001223\n",
              "51          addtobasket_count_L1_3D_user         0.000905\n",
              "29   addtobasket_count_L7_14D_user_group         0.000667\n",
              "50            addtobasket_count_L1D_user         0.000479\n",
              "28    addtobasket_count_L3_7D_user_group         0.000458\n",
              "27    addtobasket_count_L1_3D_user_group         0.000353\n",
              "26      addtobasket_count_L1D_user_group         0.000105"
            ],
            "text/html": [
              "\n",
              "  <div id=\"df-50db1d43-96a0-430a-971b-f2c3122d39a6\">\n",
              "    <div class=\"colab-df-container\">\n",
              "      <div>\n",
              "<style scoped>\n",
              "    .dataframe tbody tr th:only-of-type {\n",
              "        vertical-align: middle;\n",
              "    }\n",
              "\n",
              "    .dataframe tbody tr th {\n",
              "        vertical-align: top;\n",
              "    }\n",
              "\n",
              "    .dataframe thead th {\n",
              "        text-align: right;\n",
              "    }\n",
              "</style>\n",
              "<table border=\"1\" class=\"dataframe\">\n",
              "  <thead>\n",
              "    <tr style=\"text-align: right;\">\n",
              "      <th></th>\n",
              "      <th>feature</th>\n",
              "      <th>importance_tree</th>\n",
              "    </tr>\n",
              "  </thead>\n",
              "  <tbody>\n",
              "    <tr>\n",
              "      <th>21</th>\n",
              "      <td>productdetailcount_L7_14D_user_group</td>\n",
              "      <td>0.084841</td>\n",
              "    </tr>\n",
              "    <tr>\n",
              "      <th>20</th>\n",
              "      <td>productdetailcount_L3_7D_user_group</td>\n",
              "      <td>0.073926</td>\n",
              "    </tr>\n",
              "    <tr>\n",
              "      <th>18</th>\n",
              "      <td>productdetailcount_L1D_user_group</td>\n",
              "      <td>0.068895</td>\n",
              "    </tr>\n",
              "    <tr>\n",
              "      <th>45</th>\n",
              "      <td>productdetailcount_L7_14D_user</td>\n",
              "      <td>0.065491</td>\n",
              "    </tr>\n",
              "    <tr>\n",
              "      <th>19</th>\n",
              "      <td>productdetailcount_L1_3D_user_group</td>\n",
              "      <td>0.061677</td>\n",
              "    </tr>\n",
              "    <tr>\n",
              "      <th>44</th>\n",
              "      <td>productdetailcount_L3_7D_user</td>\n",
              "      <td>0.055046</td>\n",
              "    </tr>\n",
              "    <tr>\n",
              "      <th>43</th>\n",
              "      <td>productdetailcount_L1_3D_user</td>\n",
              "      <td>0.047521</td>\n",
              "    </tr>\n",
              "    <tr>\n",
              "      <th>57</th>\n",
              "      <td>search_count_L7_14D_user</td>\n",
              "      <td>0.044421</td>\n",
              "    </tr>\n",
              "    <tr>\n",
              "      <th>42</th>\n",
              "      <td>productdetailcount_L1D_user</td>\n",
              "      <td>0.039087</td>\n",
              "    </tr>\n",
              "    <tr>\n",
              "      <th>56</th>\n",
              "      <td>search_count_L3_7D_user</td>\n",
              "      <td>0.036480</td>\n",
              "    </tr>\n",
              "    <tr>\n",
              "      <th>55</th>\n",
              "      <td>search_count_L1_3D_user</td>\n",
              "      <td>0.029571</td>\n",
              "    </tr>\n",
              "    <tr>\n",
              "      <th>37</th>\n",
              "      <td>revenue_L7_14D_user</td>\n",
              "      <td>0.024489</td>\n",
              "    </tr>\n",
              "    <tr>\n",
              "      <th>54</th>\n",
              "      <td>search_count_L1D_user</td>\n",
              "      <td>0.023504</td>\n",
              "    </tr>\n",
              "    <tr>\n",
              "      <th>49</th>\n",
              "      <td>fav_count_L7_14D_user</td>\n",
              "      <td>0.022384</td>\n",
              "    </tr>\n",
              "    <tr>\n",
              "      <th>38</th>\n",
              "      <td>order_L7_14D_user</td>\n",
              "      <td>0.020063</td>\n",
              "    </tr>\n",
              "    <tr>\n",
              "      <th>36</th>\n",
              "      <td>quantity_L7_14D_user</td>\n",
              "      <td>0.019974</td>\n",
              "    </tr>\n",
              "    <tr>\n",
              "      <th>48</th>\n",
              "      <td>fav_count_L3_7D_user</td>\n",
              "      <td>0.018052</td>\n",
              "    </tr>\n",
              "    <tr>\n",
              "      <th>34</th>\n",
              "      <td>revenue_L3_7D_user</td>\n",
              "      <td>0.016747</td>\n",
              "    </tr>\n",
              "    <tr>\n",
              "      <th>33</th>\n",
              "      <td>quantity_L3_7D_user</td>\n",
              "      <td>0.014113</td>\n",
              "    </tr>\n",
              "    <tr>\n",
              "      <th>35</th>\n",
              "      <td>order_L3_7D_user</td>\n",
              "      <td>0.014048</td>\n",
              "    </tr>\n",
              "    <tr>\n",
              "      <th>47</th>\n",
              "      <td>fav_count_L1_3D_user</td>\n",
              "      <td>0.013682</td>\n",
              "    </tr>\n",
              "    <tr>\n",
              "      <th>14</th>\n",
              "      <td>order_L7_14D_user_group</td>\n",
              "      <td>0.013616</td>\n",
              "    </tr>\n",
              "    <tr>\n",
              "      <th>25</th>\n",
              "      <td>fav_count_L7_14D_user_group</td>\n",
              "      <td>0.012498</td>\n",
              "    </tr>\n",
              "    <tr>\n",
              "      <th>12</th>\n",
              "      <td>quantity_L7_14D_user_group</td>\n",
              "      <td>0.011632</td>\n",
              "    </tr>\n",
              "    <tr>\n",
              "      <th>31</th>\n",
              "      <td>revenue_L1_3D_user</td>\n",
              "      <td>0.010942</td>\n",
              "    </tr>\n",
              "    <tr>\n",
              "      <th>46</th>\n",
              "      <td>fav_count_L1D_user</td>\n",
              "      <td>0.010078</td>\n",
              "    </tr>\n",
              "    <tr>\n",
              "      <th>30</th>\n",
              "      <td>quantity_L1_3D_user</td>\n",
              "      <td>0.009860</td>\n",
              "    </tr>\n",
              "    <tr>\n",
              "      <th>32</th>\n",
              "      <td>order_L1_3D_user</td>\n",
              "      <td>0.009838</td>\n",
              "    </tr>\n",
              "    <tr>\n",
              "      <th>24</th>\n",
              "      <td>fav_count_L3_7D_user_group</td>\n",
              "      <td>0.009271</td>\n",
              "    </tr>\n",
              "    <tr>\n",
              "      <th>58</th>\n",
              "      <td>Bayan</td>\n",
              "      <td>0.009160</td>\n",
              "    </tr>\n",
              "    <tr>\n",
              "      <th>11</th>\n",
              "      <td>order_L3_7D_user_group</td>\n",
              "      <td>0.008599</td>\n",
              "    </tr>\n",
              "    <tr>\n",
              "      <th>13</th>\n",
              "      <td>revenue_L7_14D_user_group</td>\n",
              "      <td>0.007652</td>\n",
              "    </tr>\n",
              "    <tr>\n",
              "      <th>23</th>\n",
              "      <td>fav_count_L1_3D_user_group</td>\n",
              "      <td>0.007193</td>\n",
              "    </tr>\n",
              "    <tr>\n",
              "      <th>40</th>\n",
              "      <td>revenue_LOD_user</td>\n",
              "      <td>0.006646</td>\n",
              "    </tr>\n",
              "    <tr>\n",
              "      <th>9</th>\n",
              "      <td>quantity_L3_7D_user_group</td>\n",
              "      <td>0.006584</td>\n",
              "    </tr>\n",
              "    <tr>\n",
              "      <th>4</th>\n",
              "      <td>revenue_L1D_user</td>\n",
              "      <td>0.006575</td>\n",
              "    </tr>\n",
              "    <tr>\n",
              "      <th>5</th>\n",
              "      <td>order_L1D_user</td>\n",
              "      <td>0.006293</td>\n",
              "    </tr>\n",
              "    <tr>\n",
              "      <th>3</th>\n",
              "      <td>quantity_L1D_user</td>\n",
              "      <td>0.006205</td>\n",
              "    </tr>\n",
              "    <tr>\n",
              "      <th>41</th>\n",
              "      <td>order_LOD_user</td>\n",
              "      <td>0.006063</td>\n",
              "    </tr>\n",
              "    <tr>\n",
              "      <th>39</th>\n",
              "      <td>quantity_LOD_user</td>\n",
              "      <td>0.006005</td>\n",
              "    </tr>\n",
              "    <tr>\n",
              "      <th>8</th>\n",
              "      <td>order_L1_3D_user_group</td>\n",
              "      <td>0.005405</td>\n",
              "    </tr>\n",
              "    <tr>\n",
              "      <th>22</th>\n",
              "      <td>fav_count_L1D_user_group</td>\n",
              "      <td>0.005327</td>\n",
              "    </tr>\n",
              "    <tr>\n",
              "      <th>6</th>\n",
              "      <td>quantity_L1_3D_user_group</td>\n",
              "      <td>0.004779</td>\n",
              "    </tr>\n",
              "    <tr>\n",
              "      <th>10</th>\n",
              "      <td>revenue_L3_7D_user_group</td>\n",
              "      <td>0.003935</td>\n",
              "    </tr>\n",
              "    <tr>\n",
              "      <th>2</th>\n",
              "      <td>order_L1D_user_group</td>\n",
              "      <td>0.002821</td>\n",
              "    </tr>\n",
              "    <tr>\n",
              "      <th>17</th>\n",
              "      <td>order_LOD_user_group</td>\n",
              "      <td>0.002808</td>\n",
              "    </tr>\n",
              "    <tr>\n",
              "      <th>7</th>\n",
              "      <td>revenue_L1_3D_user_group</td>\n",
              "      <td>0.002533</td>\n",
              "    </tr>\n",
              "    <tr>\n",
              "      <th>53</th>\n",
              "      <td>addtobasket_count_L7_14D_user</td>\n",
              "      <td>0.002404</td>\n",
              "    </tr>\n",
              "    <tr>\n",
              "      <th>15</th>\n",
              "      <td>quantity_LOD_user_group</td>\n",
              "      <td>0.002065</td>\n",
              "    </tr>\n",
              "    <tr>\n",
              "      <th>0</th>\n",
              "      <td>quantity_L1D_user_group</td>\n",
              "      <td>0.001853</td>\n",
              "    </tr>\n",
              "    <tr>\n",
              "      <th>16</th>\n",
              "      <td>revenue_LOD_user_group</td>\n",
              "      <td>0.001728</td>\n",
              "    </tr>\n",
              "    <tr>\n",
              "      <th>52</th>\n",
              "      <td>addtobasket_count_L3_7D_user</td>\n",
              "      <td>0.001433</td>\n",
              "    </tr>\n",
              "    <tr>\n",
              "      <th>1</th>\n",
              "      <td>revenue_L1D_user_group</td>\n",
              "      <td>0.001223</td>\n",
              "    </tr>\n",
              "    <tr>\n",
              "      <th>51</th>\n",
              "      <td>addtobasket_count_L1_3D_user</td>\n",
              "      <td>0.000905</td>\n",
              "    </tr>\n",
              "    <tr>\n",
              "      <th>29</th>\n",
              "      <td>addtobasket_count_L7_14D_user_group</td>\n",
              "      <td>0.000667</td>\n",
              "    </tr>\n",
              "    <tr>\n",
              "      <th>50</th>\n",
              "      <td>addtobasket_count_L1D_user</td>\n",
              "      <td>0.000479</td>\n",
              "    </tr>\n",
              "    <tr>\n",
              "      <th>28</th>\n",
              "      <td>addtobasket_count_L3_7D_user_group</td>\n",
              "      <td>0.000458</td>\n",
              "    </tr>\n",
              "    <tr>\n",
              "      <th>27</th>\n",
              "      <td>addtobasket_count_L1_3D_user_group</td>\n",
              "      <td>0.000353</td>\n",
              "    </tr>\n",
              "    <tr>\n",
              "      <th>26</th>\n",
              "      <td>addtobasket_count_L1D_user_group</td>\n",
              "      <td>0.000105</td>\n",
              "    </tr>\n",
              "  </tbody>\n",
              "</table>\n",
              "</div>\n",
              "      <button class=\"colab-df-convert\" onclick=\"convertToInteractive('df-50db1d43-96a0-430a-971b-f2c3122d39a6')\"\n",
              "              title=\"Convert this dataframe to an interactive table.\"\n",
              "              style=\"display:none;\">\n",
              "        \n",
              "  <svg xmlns=\"http://www.w3.org/2000/svg\" height=\"24px\"viewBox=\"0 0 24 24\"\n",
              "       width=\"24px\">\n",
              "    <path d=\"M0 0h24v24H0V0z\" fill=\"none\"/>\n",
              "    <path d=\"M18.56 5.44l.94 2.06.94-2.06 2.06-.94-2.06-.94-.94-2.06-.94 2.06-2.06.94zm-11 1L8.5 8.5l.94-2.06 2.06-.94-2.06-.94L8.5 2.5l-.94 2.06-2.06.94zm10 10l.94 2.06.94-2.06 2.06-.94-2.06-.94-.94-2.06-.94 2.06-2.06.94z\"/><path d=\"M17.41 7.96l-1.37-1.37c-.4-.4-.92-.59-1.43-.59-.52 0-1.04.2-1.43.59L10.3 9.45l-7.72 7.72c-.78.78-.78 2.05 0 2.83L4 21.41c.39.39.9.59 1.41.59.51 0 1.02-.2 1.41-.59l7.78-7.78 2.81-2.81c.8-.78.8-2.07 0-2.86zM5.41 20L4 18.59l7.72-7.72 1.47 1.35L5.41 20z\"/>\n",
              "  </svg>\n",
              "      </button>\n",
              "      \n",
              "  <style>\n",
              "    .colab-df-container {\n",
              "      display:flex;\n",
              "      flex-wrap:wrap;\n",
              "      gap: 12px;\n",
              "    }\n",
              "\n",
              "    .colab-df-convert {\n",
              "      background-color: #E8F0FE;\n",
              "      border: none;\n",
              "      border-radius: 50%;\n",
              "      cursor: pointer;\n",
              "      display: none;\n",
              "      fill: #1967D2;\n",
              "      height: 32px;\n",
              "      padding: 0 0 0 0;\n",
              "      width: 32px;\n",
              "    }\n",
              "\n",
              "    .colab-df-convert:hover {\n",
              "      background-color: #E2EBFA;\n",
              "      box-shadow: 0px 1px 2px rgba(60, 64, 67, 0.3), 0px 1px 3px 1px rgba(60, 64, 67, 0.15);\n",
              "      fill: #174EA6;\n",
              "    }\n",
              "\n",
              "    [theme=dark] .colab-df-convert {\n",
              "      background-color: #3B4455;\n",
              "      fill: #D2E3FC;\n",
              "    }\n",
              "\n",
              "    [theme=dark] .colab-df-convert:hover {\n",
              "      background-color: #434B5C;\n",
              "      box-shadow: 0px 1px 3px 1px rgba(0, 0, 0, 0.15);\n",
              "      filter: drop-shadow(0px 1px 2px rgba(0, 0, 0, 0.3));\n",
              "      fill: #FFFFFF;\n",
              "    }\n",
              "  </style>\n",
              "\n",
              "      <script>\n",
              "        const buttonEl =\n",
              "          document.querySelector('#df-50db1d43-96a0-430a-971b-f2c3122d39a6 button.colab-df-convert');\n",
              "        buttonEl.style.display =\n",
              "          google.colab.kernel.accessAllowed ? 'block' : 'none';\n",
              "\n",
              "        async function convertToInteractive(key) {\n",
              "          const element = document.querySelector('#df-50db1d43-96a0-430a-971b-f2c3122d39a6');\n",
              "          const dataTable =\n",
              "            await google.colab.kernel.invokeFunction('convertToInteractive',\n",
              "                                                     [key], {});\n",
              "          if (!dataTable) return;\n",
              "\n",
              "          const docLinkHtml = 'Like what you see? Visit the ' +\n",
              "            '<a target=\"_blank\" href=https://colab.research.google.com/notebooks/data_table.ipynb>data table notebook</a>'\n",
              "            + ' to learn more about interactive tables.';\n",
              "          element.innerHTML = '';\n",
              "          dataTable['output_type'] = 'display_data';\n",
              "          await google.colab.output.renderOutput(dataTable, element);\n",
              "          const docLink = document.createElement('div');\n",
              "          docLink.innerHTML = docLinkHtml;\n",
              "          element.appendChild(docLink);\n",
              "        }\n",
              "      </script>\n",
              "    </div>\n",
              "  </div>\n",
              "  "
            ]
          },
          "metadata": {},
          "execution_count": 142
        }
      ],
      "source": [
        "#rebuild df_train_final_6\n",
        "df_train_final6 = pd.concat([df_train_final5_isordered_0_sample, df_train_final5_isordered_1], axis = 0)\n",
        "\n",
        "# defining the dependent and independent variables\n",
        "\n",
        "x_tree=df_train_final6[['quantity_L1D_user_group',\n",
        "       'revenue_L1D_user_group', 'order_L1D_user_group', 'quantity_L1D_user',\n",
        "       'revenue_L1D_user', 'order_L1D_user', 'quantity_L1_3D_user_group',\n",
        "       'revenue_L1_3D_user_group', 'order_L1_3D_user_group',\n",
        "       'quantity_L3_7D_user_group', 'revenue_L3_7D_user_group',\n",
        "       'order_L3_7D_user_group', 'quantity_L7_14D_user_group',\n",
        "       'revenue_L7_14D_user_group', 'order_L7_14D_user_group',\n",
        "       'quantity_LOD_user_group', 'revenue_LOD_user_group',\n",
        "       'order_LOD_user_group', 'productdetailcount_L1D_user_group',\n",
        "       'productdetailcount_L1_3D_user_group',\n",
        "       'productdetailcount_L3_7D_user_group',\n",
        "       'productdetailcount_L7_14D_user_group', 'fav_count_L1D_user_group',\n",
        "       'fav_count_L1_3D_user_group', 'fav_count_L3_7D_user_group',\n",
        "       'fav_count_L7_14D_user_group', 'addtobasket_count_L1D_user_group',\n",
        "       'addtobasket_count_L1_3D_user_group',\n",
        "       'addtobasket_count_L3_7D_user_group',\n",
        "       'addtobasket_count_L7_14D_user_group', 'quantity_L1_3D_user',\n",
        "       'revenue_L1_3D_user', 'order_L1_3D_user', 'quantity_L3_7D_user',\n",
        "       'revenue_L3_7D_user', 'order_L3_7D_user', 'quantity_L7_14D_user',\n",
        "       'revenue_L7_14D_user', 'order_L7_14D_user', 'quantity_LOD_user',\n",
        "       'revenue_LOD_user', 'order_LOD_user', 'productdetailcount_L1D_user',\n",
        "       'productdetailcount_L1_3D_user', 'productdetailcount_L3_7D_user',\n",
        "       'productdetailcount_L7_14D_user', 'fav_count_L1D_user',\n",
        "       'fav_count_L1_3D_user', 'fav_count_L3_7D_user', 'fav_count_L7_14D_user',\n",
        "       'addtobasket_count_L1D_user', 'addtobasket_count_L1_3D_user',\n",
        "       'addtobasket_count_L3_7D_user', 'addtobasket_count_L7_14D_user',\n",
        "       'search_count_L1D_user', 'search_count_L1_3D_user',\n",
        "       'search_count_L3_7D_user', 'search_count_L7_14D_user', 'Bayan']]\n",
        "\n",
        "y_tree=df_train_final6[\"is_ordered\"]\n",
        "\n",
        "#Tree-based feature selection\n",
        "\n",
        "clf = ExtraTreesClassifier(n_estimators=50)\n",
        "clf = clf.fit(x_tree, y_tree)\n",
        "\n",
        "model = SelectFromModel(clf, prefit=True)\n",
        "x_new_tree = model.transform(x_tree)\n",
        "print(x_new_tree[0])\n",
        "feature_names_tree = x_tree.keys()\n",
        "feature_importance_tree = pd.DataFrame(feature_names_tree, columns=[\"feature\"])\n",
        "feature_importance_tree[\"importance_tree\"] = clf.feature_importances_\n",
        "feature_importance_tree.sort_values(by=\"importance_tree\", ascending=False)"
      ]
    },
    {
      "cell_type": "markdown",
      "metadata": {
        "id": "eLbVSePf0uya"
      },
      "source": [
        "I selected 17 features with high Importance and used them in the model."
      ]
    },
    {
      "cell_type": "code",
      "execution_count": null,
      "metadata": {
        "colab": {
          "base_uri": "https://localhost:8080/"
        },
        "id": "hhmEnPrfudNH",
        "outputId": "0c9b21fd-18fd-4e02-cf83-996d9e9258cf"
      },
      "outputs": [
        {
          "output_type": "execute_result",
          "data": {
            "text/plain": [
              "0.6053916054343245"
            ]
          },
          "metadata": {},
          "execution_count": 143
        }
      ],
      "source": [
        "#Build a Desicion Tree Classifier\n",
        "#rebuild df_train_final_6\n",
        "df_train_final6 = pd.concat([df_train_final5_isordered_0_sample, df_train_final5_isordered_1], axis = 0)\n",
        "#create x and y\n",
        "x=df_train_final6[[\"productdetailcount_L7_14D_user_group\",\n",
        "\"productdetailcount_L3_7D_user_group\",\n",
        "\"productdetailcount_L1D_user_group\",\n",
        "\"productdetailcount_L1_3D_user_group\",\n",
        "\"productdetailcount_L7_14D_user\",\n",
        "\"productdetailcount_L3_7D_user\",\n",
        "\"productdetailcount_L1_3D_user\",\n",
        "\"search_count_L7_14D_user\",\n",
        "\"productdetailcount_L1D_user\",\n",
        "\"search_count_L3_7D_user\",\n",
        "\"search_count_L1_3D_user\",\n",
        "\"revenue_L7_14D_user\",\n",
        "\"search_count_L1D_user\",\n",
        "\"fav_count_L7_14D_user\",\n",
        "\"quantity_L7_14D_user\",\n",
        "\"order_L7_14D_user\",\n",
        "\"fav_count_L3_7D_user\"]].values\n",
        "y=df_train_final6[\"is_ordered\"].values.reshape(-1,1)\n",
        "\n",
        "\n",
        "#train test split\n",
        "x_train, x_test, y_train, y_test = train_test_split(x, y, test_size=0.2, random_state=12)\n",
        "\n",
        "\n",
        "#Scaling\n",
        "steps = [(\"scaler\", StandardScaler()), \n",
        "         (\"DTC\", DecisionTreeClassifier())]\n",
        "pipeline = Pipeline(steps)\n",
        "pipeline.fit(x_train, y_train)\n",
        "y_pred = pipeline.predict(x_test)\n",
        "y_pred_probs =pipeline.predict_proba(x_test)[:,1]\n",
        "roc_auc_score(y_test, y_pred_probs)\n"
      ]
    },
    {
      "cell_type": "markdown",
      "metadata": {
        "id": "vlENjoaZ07Bx"
      },
      "source": [
        "AUC score is lower than logistic regression. I will optimize hyper parameter and try again."
      ]
    },
    {
      "cell_type": "code",
      "execution_count": null,
      "metadata": {
        "colab": {
          "base_uri": "https://localhost:8080/"
        },
        "id": "LvonVDkh1Vae",
        "outputId": "e51a803b-7a4f-4a80-af4a-aa47fda0d16b"
      },
      "outputs": [
        {
          "output_type": "stream",
          "name": "stderr",
          "text": [
            "/usr/local/lib/python3.7/dist-packages/sklearn/model_selection/_validation.py:372: FitFailedWarning: \n",
            "50 fits failed out of a total of 150.\n",
            "The score on these train-test partitions for these parameters will be set to nan.\n",
            "If these failures are not expected, you can try to debug them by setting error_score='raise'.\n",
            "\n",
            "Below are more details about the failures:\n",
            "--------------------------------------------------------------------------------\n",
            "50 fits failed with the following error:\n",
            "Traceback (most recent call last):\n",
            "  File \"/usr/local/lib/python3.7/dist-packages/sklearn/model_selection/_validation.py\", line 680, in _fit_and_score\n",
            "    estimator.fit(X_train, y_train, **fit_params)\n",
            "  File \"/usr/local/lib/python3.7/dist-packages/sklearn/tree/_classes.py\", line 942, in fit\n",
            "    X_idx_sorted=X_idx_sorted,\n",
            "  File \"/usr/local/lib/python3.7/dist-packages/sklearn/tree/_classes.py\", line 352, in fit\n",
            "    criterion = CRITERIA_CLF[self.criterion](\n",
            "KeyError: 'log_loss'\n",
            "\n",
            "  warnings.warn(some_fits_failed_message, FitFailedWarning)\n",
            "/usr/local/lib/python3.7/dist-packages/sklearn/model_selection/_search.py:972: UserWarning: One or more of the test scores are non-finite: [0.66247332 0.67853531 0.68450756 0.68336404 0.67540921 0.66592959\n",
            " 0.65347662 0.64450562 0.63591551 0.62844374 0.66511668 0.67800159\n",
            " 0.6842789  0.68562583 0.67746772 0.67101249 0.65927099 0.65141806\n",
            " 0.64155715 0.63838059        nan        nan        nan        nan\n",
            "        nan        nan        nan        nan        nan        nan]\n",
            "  category=UserWarning,\n"
          ]
        },
        {
          "output_type": "stream",
          "name": "stdout",
          "text": [
            "[0. 0. 1. ... 0. 0. 1.]\n",
            "Tuned Desicion Tree Parameters: {'criterion': 'entropy', 'max_depth': 8.0}, AUC: 0.7516434429006023\n"
          ]
        }
      ],
      "source": [
        "#Desicion Tree with gridsearch\n",
        "dt_model = DecisionTreeClassifier(random_state=12)\n",
        "params = {\"criterion\": [\"gini\", \"entropy\", \"log_loss\"],\n",
        "         \"max_depth\": np.linspace(2, 20, 10)}\n",
        "tuning = GridSearchCV(dt_model, param_grid = params)\n",
        "tuning.fit(x_train, y_train)\n",
        "y_pred_probs = tuning.predict_proba(x_test)[:,1]\n",
        "y_pred = tuning.predict(x_test)\n",
        "print(y_pred)\n",
        "\n",
        "print(\"Tuned Desicion Tree Parameters: {}, AUC: {}\".format(tuning.best_params_, roc_auc_score(y_test, y_pred_probs)))"
      ]
    },
    {
      "cell_type": "markdown",
      "metadata": {
        "id": "1ozGeCh_4Az4"
      },
      "source": [
        "**Finding: I increased the auc score from 0.606 to 0.744 by optimizing the hyperparameter.**"
      ]
    },
    {
      "cell_type": "markdown",
      "metadata": {
        "id": "3xGeh47N4bik"
      },
      "source": [
        "ADA Boost Classifier"
      ]
    },
    {
      "cell_type": "code",
      "execution_count": null,
      "metadata": {
        "colab": {
          "base_uri": "https://localhost:8080/"
        },
        "id": "JLPJB_2a3p3c",
        "outputId": "44c4cae3-faa2-46c0-8038-c8080642d95a"
      },
      "outputs": [
        {
          "output_type": "stream",
          "name": "stderr",
          "text": [
            "/usr/local/lib/python3.7/dist-packages/sklearn/utils/validation.py:993: DataConversionWarning: A column-vector y was passed when a 1d array was expected. Please change the shape of y to (n_samples, ), for example using ravel().\n",
            "  y = column_or_1d(y, warn=True)\n"
          ]
        },
        {
          "output_type": "stream",
          "name": "stdout",
          "text": [
            "ROC AUC score: 0.69\n"
          ]
        }
      ],
      "source": [
        "# Instantiate a classification-tree 'dt_ada'\n",
        "dt_ada = DecisionTreeClassifier(max_depth=6, random_state=12)\n",
        "# Instantiate an AdaBoost classifier 'adab_clf'\n",
        "adb_clf = AdaBoostClassifier(base_estimator=dt_ada, n_estimators=100)\n",
        "# Fit 'adb_clf' to the training set\n",
        "adb_clf.fit(x_train, y_train)\n",
        "# Predict the test set probabilities of positive class\n",
        "y_pred_proba = adb_clf.predict_proba(x_test)[:,1]\n",
        "# Evaluate test-set roc_auc_score\n",
        "adb_clf_roc_auc_score = roc_auc_score(y_test, y_pred_proba)\n",
        "\n",
        "# Print adb_clf_roc_auc_score\n",
        "print('ROC AUC score: {:.2f}'.format(adb_clf_roc_auc_score))\n",
        "\n"
      ]
    },
    {
      "cell_type": "markdown",
      "metadata": {
        "id": "VK8zt9np6eoL"
      },
      "source": [
        "Finding:Ada boost auc score is lower than desicion tree final result."
      ]
    },
    {
      "cell_type": "markdown",
      "metadata": {
        "id": "tCERfjD_61DD"
      },
      "source": [
        "Gradiant Boosting"
      ]
    },
    {
      "cell_type": "code",
      "execution_count": null,
      "metadata": {
        "colab": {
          "base_uri": "https://localhost:8080/"
        },
        "id": "jPIApsoz7CnW",
        "outputId": "e5aae6c0-5431-4c30-94d5-7364f80afd97"
      },
      "outputs": [
        {
          "output_type": "stream",
          "name": "stderr",
          "text": [
            "/usr/local/lib/python3.7/dist-packages/sklearn/ensemble/_gb.py:494: DataConversionWarning: A column-vector y was passed when a 1d array was expected. Please change the shape of y to (n_samples, ), for example using ravel().\n",
            "  y = column_or_1d(y, warn=True)\n"
          ]
        },
        {
          "output_type": "stream",
          "name": "stdout",
          "text": [
            "ROC AUC score: 0.76\n"
          ]
        }
      ],
      "source": [
        "# Instantiate a Gradiant Boosting\n",
        "gdb_clf = GradientBoostingClassifier(n_estimators=300, max_depth=6)\n",
        "# Fit 'gdb_clf' to the training set\n",
        "gdb_clf.fit(x_train, y_train)\n",
        "# Predict the test set probabilities of positive class\n",
        "y_pred_proba = gdb_clf.predict_proba(x_test)[:,1]\n",
        "# Evaluate test-set roc_auc_score\n",
        "gdb_clf_roc_auc_score = roc_auc_score(y_test, y_pred_proba)\n",
        "\n",
        "# Print adb_clf_roc_auc_score\n",
        "print('ROC AUC score: {:.2f}'.format(gdb_clf_roc_auc_score))"
      ]
    },
    {
      "cell_type": "markdown",
      "metadata": {
        "id": "rwyqmWlH8t_c"
      },
      "source": [
        "Stochastic Gradient Boosting in sklearn"
      ]
    },
    {
      "cell_type": "code",
      "execution_count": null,
      "metadata": {
        "colab": {
          "base_uri": "https://localhost:8080/"
        },
        "id": "qjlUuTSz8yEh",
        "outputId": "aa5c4ea7-cd55-4aba-b9e9-5548650a3be4"
      },
      "outputs": [
        {
          "output_type": "stream",
          "name": "stderr",
          "text": [
            "/usr/local/lib/python3.7/dist-packages/sklearn/ensemble/_gb.py:494: DataConversionWarning: A column-vector y was passed when a 1d array was expected. Please change the shape of y to (n_samples, ), for example using ravel().\n",
            "  y = column_or_1d(y, warn=True)\n"
          ]
        },
        {
          "output_type": "stream",
          "name": "stdout",
          "text": [
            "ROC AUC score: 0.76\n"
          ]
        }
      ],
      "source": [
        "sgbt = GradientBoostingClassifier(max_depth=1,subsample=0.8,max_features=0.2,n_estimators=300,random_state=12)\n",
        "# Fit 'sgbt' to the training set\n",
        "sgbt.fit(x_train, y_train)\n",
        "# Predict the test set labels\n",
        "y_pred = sgbt.predict(x_test)\n",
        "# Predict the test set probabilities of positive class\n",
        "y_pred_proba = sgbt.predict_proba(x_test)[:,1]\n",
        "# Evaluate test-set roc_auc_score\n",
        "sgbt_clf_roc_auc_score = roc_auc_score(y_test, y_pred_proba)\n",
        "\n",
        "\n",
        "# Print adb_clf_roc_auc_score\n",
        "print('ROC AUC score: {:.2f}'.format(sgbt_clf_roc_auc_score))"
      ]
    },
    {
      "cell_type": "markdown",
      "metadata": {
        "id": "kjrV4pPx9pKV"
      },
      "source": [
        "Findings: AUC Score\n",
        "*   Stochastic gradient boosting is better than ada and gradient boosting\n"
      ]
    },
    {
      "cell_type": "markdown",
      "metadata": {
        "id": "0AW37U3p_HHO"
      },
      "source": [
        "XGBOOST Classifier"
      ]
    },
    {
      "cell_type": "code",
      "execution_count": null,
      "metadata": {
        "colab": {
          "base_uri": "https://localhost:8080/",
          "height": 1000
        },
        "id": "Ohv3A0xN_Jwc",
        "outputId": "6a85626a-2ec6-400b-f2e2-066a3e3add78"
      },
      "outputs": [
        {
          "output_type": "stream",
          "name": "stderr",
          "text": [
            "/usr/local/lib/python3.7/dist-packages/sklearn/preprocessing/_label.py:98: DataConversionWarning: A column-vector y was passed when a 1d array was expected. Please change the shape of y to (n_samples, ), for example using ravel().\n",
            "  y = column_or_1d(y, warn=True)\n",
            "/usr/local/lib/python3.7/dist-packages/sklearn/preprocessing/_label.py:133: DataConversionWarning: A column-vector y was passed when a 1d array was expected. Please change the shape of y to (n_samples, ), for example using ravel().\n",
            "  y = column_or_1d(y, warn=True)\n"
          ]
        },
        {
          "output_type": "stream",
          "name": "stdout",
          "text": [
            "ROC AUC score: 0.77\n"
          ]
        },
        {
          "output_type": "display_data",
          "data": {
            "text/plain": [
              "<Figure size 432x288 with 1 Axes>"
            ],
            "image/png": "[encoded data removed]"
          },
          "metadata": {
            "needs_background": "light"
          }
        },
        {
          "output_type": "stream",
          "name": "stdout",
          "text": [
            "                                 feature  importance\n",
            "19   productdetailcount_L1_3D_user_group    0.190607\n",
            "18     productdetailcount_L1D_user_group    0.111361\n",
            "20   productdetailcount_L3_7D_user_group    0.111121\n",
            "21  productdetailcount_L7_14D_user_group    0.057881\n",
            "13             revenue_L7_14D_user_group    0.057453\n",
            "42           productdetailcount_L1D_user    0.041370\n",
            "43         productdetailcount_L1_3D_user    0.038419\n",
            "7               revenue_L1_3D_user_group    0.035843\n",
            "44         productdetailcount_L3_7D_user    0.034808\n",
            "12            quantity_L7_14D_user_group    0.029827\n",
            "45        productdetailcount_L7_14D_user    0.028756\n",
            "14               order_L7_14D_user_group    0.026334\n",
            "9              quantity_L3_7D_user_group    0.021966\n",
            "6              quantity_L1_3D_user_group    0.016256\n",
            "25           fav_count_L7_14D_user_group    0.011094\n",
            "10              revenue_L3_7D_user_group    0.010413\n",
            "0                quantity_L1D_user_group    0.009748\n",
            "22              fav_count_L1D_user_group    0.008349\n",
            "54                 search_count_L1D_user    0.008039\n",
            "11                order_L3_7D_user_group    0.007449\n",
            "39                     quantity_LOD_user    0.007034\n",
            "4                       revenue_L1D_user    0.006596\n",
            "3                      quantity_L1D_user    0.006454\n",
            "24            fav_count_L3_7D_user_group    0.006255\n",
            "57              search_count_L7_14D_user    0.006014\n",
            "52          addtobasket_count_L3_7D_user    0.005840\n",
            "36                  quantity_L7_14D_user    0.005837\n",
            "30                   quantity_L1_3D_user    0.005829\n",
            "37                   revenue_L7_14D_user    0.005810\n",
            "1                 revenue_L1D_user_group    0.005775\n",
            "34                    revenue_L3_7D_user    0.005735\n",
            "16                revenue_LOD_user_group    0.005468\n",
            "49                 fav_count_L7_14D_user    0.005452\n",
            "55               search_count_L1_3D_user    0.005426\n",
            "15               quantity_LOD_user_group    0.005403\n",
            "35                      order_L3_7D_user    0.005368\n",
            "33                   quantity_L3_7D_user    0.005332\n",
            "47                  fav_count_L1_3D_user    0.005242\n",
            "46                    fav_count_L1D_user    0.005242\n",
            "40                      revenue_LOD_user    0.005063\n",
            "56               search_count_L3_7D_user    0.005028\n",
            "38                     order_L7_14D_user    0.004916\n",
            "8                 order_L1_3D_user_group    0.004136\n",
            "31                    revenue_L1_3D_user    0.004054\n",
            "23            fav_count_L1_3D_user_group    0.003117\n",
            "2                   order_L1D_user_group    0.002983\n",
            "27    addtobasket_count_L1_3D_user_group    0.002150\n",
            "48                  fav_count_L3_7D_user    0.001349\n",
            "53         addtobasket_count_L7_14D_user    0.000000\n",
            "51          addtobasket_count_L1_3D_user    0.000000\n",
            "29   addtobasket_count_L7_14D_user_group    0.000000\n",
            "50            addtobasket_count_L1D_user    0.000000\n",
            "41                        order_LOD_user    0.000000\n",
            "32                      order_L1_3D_user    0.000000\n",
            "28    addtobasket_count_L3_7D_user_group    0.000000\n",
            "26      addtobasket_count_L1D_user_group    0.000000\n",
            "17                  order_LOD_user_group    0.000000\n",
            "5                         order_L1D_user    0.000000\n",
            "58                                 Bayan    0.000000\n"
          ]
        }
      ],
      "source": [
        "#rebuild df_train_final_6\n",
        "df_train_final6 = pd.concat([df_train_final5_isordered_0_sample, df_train_final5_isordered_1], axis = 0)\n",
        "\n",
        "# defining the dependent and independent variables\n",
        "\n",
        "feature_names= df_train_final6[['quantity_L1D_user_group',\n",
        "       'revenue_L1D_user_group', 'order_L1D_user_group', 'quantity_L1D_user',\n",
        "       'revenue_L1D_user', 'order_L1D_user', 'quantity_L1_3D_user_group',\n",
        "       'revenue_L1_3D_user_group', 'order_L1_3D_user_group',\n",
        "       'quantity_L3_7D_user_group', 'revenue_L3_7D_user_group',\n",
        "       'order_L3_7D_user_group', 'quantity_L7_14D_user_group',\n",
        "       'revenue_L7_14D_user_group', 'order_L7_14D_user_group',\n",
        "       'quantity_LOD_user_group', 'revenue_LOD_user_group',\n",
        "       'order_LOD_user_group', 'productdetailcount_L1D_user_group',\n",
        "       'productdetailcount_L1_3D_user_group',\n",
        "       'productdetailcount_L3_7D_user_group',\n",
        "       'productdetailcount_L7_14D_user_group', 'fav_count_L1D_user_group',\n",
        "       'fav_count_L1_3D_user_group', 'fav_count_L3_7D_user_group',\n",
        "       'fav_count_L7_14D_user_group', 'addtobasket_count_L1D_user_group',\n",
        "       'addtobasket_count_L1_3D_user_group',\n",
        "       'addtobasket_count_L3_7D_user_group',\n",
        "       'addtobasket_count_L7_14D_user_group', 'quantity_L1_3D_user',\n",
        "       'revenue_L1_3D_user', 'order_L1_3D_user', 'quantity_L3_7D_user',\n",
        "       'revenue_L3_7D_user', 'order_L3_7D_user', 'quantity_L7_14D_user',\n",
        "       'revenue_L7_14D_user', 'order_L7_14D_user', 'quantity_LOD_user',\n",
        "       'revenue_LOD_user', 'order_LOD_user', 'productdetailcount_L1D_user',\n",
        "       'productdetailcount_L1_3D_user', 'productdetailcount_L3_7D_user',\n",
        "       'productdetailcount_L7_14D_user', 'fav_count_L1D_user',\n",
        "       'fav_count_L1_3D_user', 'fav_count_L3_7D_user', 'fav_count_L7_14D_user',\n",
        "       'addtobasket_count_L1D_user', 'addtobasket_count_L1_3D_user',\n",
        "       'addtobasket_count_L3_7D_user', 'addtobasket_count_L7_14D_user',\n",
        "       'search_count_L1D_user', 'search_count_L1_3D_user',\n",
        "       'search_count_L3_7D_user', 'search_count_L7_14D_user', 'Bayan']].keys()\n",
        "x_XGB=df_train_final6[['quantity_L1D_user_group',\n",
        "       'revenue_L1D_user_group', 'order_L1D_user_group', 'quantity_L1D_user',\n",
        "       'revenue_L1D_user', 'order_L1D_user', 'quantity_L1_3D_user_group',\n",
        "       'revenue_L1_3D_user_group', 'order_L1_3D_user_group',\n",
        "       'quantity_L3_7D_user_group', 'revenue_L3_7D_user_group',\n",
        "       'order_L3_7D_user_group', 'quantity_L7_14D_user_group',\n",
        "       'revenue_L7_14D_user_group', 'order_L7_14D_user_group',\n",
        "       'quantity_LOD_user_group', 'revenue_LOD_user_group',\n",
        "       'order_LOD_user_group', 'productdetailcount_L1D_user_group',\n",
        "       'productdetailcount_L1_3D_user_group',\n",
        "       'productdetailcount_L3_7D_user_group',\n",
        "       'productdetailcount_L7_14D_user_group', 'fav_count_L1D_user_group',\n",
        "       'fav_count_L1_3D_user_group', 'fav_count_L3_7D_user_group',\n",
        "       'fav_count_L7_14D_user_group', 'addtobasket_count_L1D_user_group',\n",
        "       'addtobasket_count_L1_3D_user_group',\n",
        "       'addtobasket_count_L3_7D_user_group',\n",
        "       'addtobasket_count_L7_14D_user_group', 'quantity_L1_3D_user',\n",
        "       'revenue_L1_3D_user', 'order_L1_3D_user', 'quantity_L3_7D_user',\n",
        "       'revenue_L3_7D_user', 'order_L3_7D_user', 'quantity_L7_14D_user',\n",
        "       'revenue_L7_14D_user', 'order_L7_14D_user', 'quantity_LOD_user',\n",
        "       'revenue_LOD_user', 'order_LOD_user', 'productdetailcount_L1D_user',\n",
        "       'productdetailcount_L1_3D_user', 'productdetailcount_L3_7D_user',\n",
        "       'productdetailcount_L7_14D_user', 'fav_count_L1D_user',\n",
        "       'fav_count_L1_3D_user', 'fav_count_L3_7D_user', 'fav_count_L7_14D_user',\n",
        "       'addtobasket_count_L1D_user', 'addtobasket_count_L1_3D_user',\n",
        "       'addtobasket_count_L3_7D_user', 'addtobasket_count_L7_14D_user',\n",
        "       'search_count_L1D_user', 'search_count_L1_3D_user',\n",
        "       'search_count_L3_7D_user', 'search_count_L7_14D_user', 'Bayan']].values\n",
        "y_XGB=df_train_final6[\"is_ordered\"].values.reshape(-1,1)\n",
        "\n",
        "#train test split\n",
        "x_train, x_test, y_train, y_test = train_test_split(x_XGB, y_XGB, test_size=0.2, random_state=12)\n",
        "              \n",
        "\n",
        "XGB = XGBClassifier(use_label_encoder=False, eval_metric='mlogloss')\n",
        "XGB.fit(x_train, y_train)\n",
        "y_pred = XGB.predict(x_test)\n",
        "y_pred_proba = XGB.predict_proba(x_test)[:,1]\n",
        "XGB_clf_roc_auc_score = roc_auc_score(y_test, y_pred_proba)\n",
        "print('ROC AUC score: {:.2f}'.format(XGB_clf_roc_auc_score))\n",
        "\n",
        "# plot\n",
        "\n",
        "feature_importance = pd.DataFrame(feature_names, columns=[\"feature\"])\n",
        "feature_importance[\"importance\"] = XGB.feature_importances_\n",
        "feature_importance = feature_importance.sort_values(by = [\"importance\"], ascending=False)\n",
        " \n",
        "\n",
        "ax = feature_importance.plot.barh(x='feature', y='importance')\n",
        "\n",
        "plt.show()\n",
        "print(feature_importance)\n",
        "\n",
        "\n"
      ]
    },
    {
      "cell_type": "markdown",
      "metadata": {
        "id": "SOuyIU120se1"
      },
      "source": [
        "Based on Feature Importance table, I select 45 feature above zero.\n",
        "i just select \"fav_count_L1_3D_user_group\" despite being 0 importance to not want to split time interval"
      ]
    },
    {
      "cell_type": "code",
      "execution_count": null,
      "metadata": {
        "colab": {
          "base_uri": "https://localhost:8080/"
        },
        "id": "XMU3eoGU0K0t",
        "outputId": "8235199a-484d-4ef5-9072-e360f75baae0"
      },
      "outputs": [
        {
          "output_type": "stream",
          "name": "stderr",
          "text": [
            "/usr/local/lib/python3.7/dist-packages/sklearn/preprocessing/_label.py:98: DataConversionWarning: A column-vector y was passed when a 1d array was expected. Please change the shape of y to (n_samples, ), for example using ravel().\n",
            "  y = column_or_1d(y, warn=True)\n",
            "/usr/local/lib/python3.7/dist-packages/sklearn/preprocessing/_label.py:133: DataConversionWarning: A column-vector y was passed when a 1d array was expected. Please change the shape of y to (n_samples, ), for example using ravel().\n",
            "  y = column_or_1d(y, warn=True)\n"
          ]
        },
        {
          "output_type": "stream",
          "name": "stdout",
          "text": [
            "ROC AUC score: 0.77\n"
          ]
        }
      ],
      "source": [
        "#XGBOOST After Feature Selection\n",
        "\n",
        "#rebuild df_train_final_6\n",
        "df_train_final6 = pd.concat([df_train_final5_isordered_0_sample, df_train_final5_isordered_1], axis = 0)\n",
        "\n",
        "# defining the dependent and independent variables\n",
        "\n",
        "x_XGB=df_train_final6[['productdetailcount_L1_3D_user_group',\n",
        "'productdetailcount_L3_7D_user_group',\n",
        "'productdetailcount_L1D_user_group',\n",
        "'revenue_L7_14D_user_group',\n",
        "'productdetailcount_L7_14D_user_group',\n",
        "'productdetailcount_L1D_user',\n",
        "'productdetailcount_L3_7D_user',\n",
        "'quantity_L7_14D_user_group',\n",
        "'productdetailcount_L1_3D_user',\n",
        "'productdetailcount_L7_14D_user',\n",
        "'revenue_L1_3D_user_group',\n",
        "'quantity_L3_7D_user_group',\n",
        "'order_LOD_user_group',\n",
        "'quantity_L1_3D_user_group',\n",
        "'order_L3_7D_user_group',\n",
        "'revenue_LOD_user',\n",
        "'revenue_L1D_user_group',\n",
        "'search_count_L3_7D_user',\n",
        "'fav_count_L7_14D_user_group',\n",
        "'quantity_LOD_user_group',\n",
        "'revenue_L3_7D_user_group',\n",
        "'search_count_L7_14D_user',\n",
        "'revenue_L3_7D_user',\n",
        "'quantity_L1_3D_user',\n",
        "'revenue_L1D_user',\n",
        "'search_count_L1D_user',\n",
        "'fav_count_L1_3D_user',\n",
        "'fav_count_L7_14D_user',\n",
        "'quantity_L7_14D_user',\n",
        "'fav_count_L1D_user_group',\n",
        "'quantity_L1D_user_group',\n",
        "'quantity_LOD_user',\n",
        "'fav_count_L1D_user',\n",
        "'revenue_L1_3D_user',\n",
        "'order_L1D_user',\n",
        "'search_count_L1_3D_user',\n",
        "'revenue_L7_14D_user',\n",
        "'quantity_L3_7D_user',\n",
        "'revenue_LOD_user_group',\n",
        "'fav_count_L3_7D_user_group',\n",
        "'addtobasket_count_L1_3D_user',\n",
        "'order_LOD_user',\n",
        "'fav_count_L3_7D_user',\n",
        "'order_L1_3D_user',\n",
        "'fav_count_L1_3D_user_group']].values\n",
        "\n",
        "y_XGB=df_train_final6[\"is_ordered\"].values.reshape(-1,1)\n",
        "\n",
        "#train test split\n",
        "x_train, x_test, y_train, y_test = train_test_split(x_XGB, y_XGB, test_size=0.2, random_state=12)\n",
        "              \n",
        "\n",
        "XGB = XGBClassifier(use_label_encoder=False, eval_metric='mlogloss')\n",
        "XGB.fit(x_train, y_train)\n",
        "y_pred = XGB.predict(x_test)\n",
        "y_pred_proba = XGB.predict_proba(x_test)[:,1]\n",
        "XGB_clf_roc_auc_score = roc_auc_score(y_test, y_pred_proba)\n",
        "print('ROC AUC score: {:.2f}'.format(XGB_clf_roc_auc_score))"
      ]
    },
    {
      "cell_type": "markdown",
      "metadata": {
        "id": "opdBRQ9j1V8H"
      },
      "source": [
        "Finding: I reduced the model's feature count without reducing the model's auc score"
      ]
    },
    {
      "cell_type": "markdown",
      "metadata": {
        "id": "OXDVsSy98Tv8"
      },
      "source": [
        "# **Final I Choose XGBClassifier**"
      ]
    },
    {
      "cell_type": "markdown",
      "metadata": {
        "id": "vtE3oRXa8ift"
      },
      "source": [
        "Prepare test data"
      ]
    },
    {
      "cell_type": "code",
      "execution_count": null,
      "metadata": {
        "id": "FSLVe8zT8lyc",
        "colab": {
          "base_uri": "https://localhost:8080/"
        },
        "outputId": "0026cfdc-bf52-491c-ba16-685abef72cbf"
      },
      "outputs": [
        {
          "output_type": "execute_result",
          "data": {
            "text/plain": [
              "Index(['userid', 'currentbugroupname', 'probability', 'target',\n",
              "       'quantity_L1D_user_group', 'revenue_L1D_user_group',\n",
              "       'order_L1D_user_group', 'quantity_L1D_user', 'revenue_L1D_user',\n",
              "       'order_L1D_user', 'quantity_L1_3D_user_group',\n",
              "       'revenue_L1_3D_user_group', 'order_L1_3D_user_group',\n",
              "       'quantity_L3_7D_user_group', 'revenue_L3_7D_user_group',\n",
              "       'order_L3_7D_user_group', 'quantity_L7_14D_user_group',\n",
              "       'revenue_L7_14D_user_group', 'order_L7_14D_user_group',\n",
              "       'quantity_LOD_user_group', 'revenue_LOD_user_group',\n",
              "       'order_LOD_user_group', 'productdetailcount_L1D_user_group',\n",
              "       'productdetailcount_L1_3D_user_group',\n",
              "       'productdetailcount_L3_7D_user_group',\n",
              "       'productdetailcount_L7_14D_user_group', 'fav_count_L1D_user_group',\n",
              "       'fav_count_L1_3D_user_group', 'fav_count_L3_7D_user_group',\n",
              "       'fav_count_L7_14D_user_group', 'addtobasket_count_L1D_user_group',\n",
              "       'addtobasket_count_L1_3D_user_group',\n",
              "       'addtobasket_count_L3_7D_user_group',\n",
              "       'addtobasket_count_L7_14D_user_group', 'quantity_L1_3D_user',\n",
              "       'revenue_L1_3D_user', 'order_L1_3D_user', 'quantity_L3_7D_user',\n",
              "       'revenue_L3_7D_user', 'order_L3_7D_user', 'quantity_L7_14D_user',\n",
              "       'revenue_L7_14D_user', 'order_L7_14D_user', 'quantity_LOD_user',\n",
              "       'revenue_LOD_user', 'order_LOD_user', 'productdetailcount_L1D_user',\n",
              "       'productdetailcount_L1_3D_user', 'productdetailcount_L3_7D_user',\n",
              "       'productdetailcount_L7_14D_user', 'fav_count_L1D_user',\n",
              "       'fav_count_L1_3D_user', 'fav_count_L3_7D_user', 'fav_count_L7_14D_user',\n",
              "       'addtobasket_count_L1D_user', 'addtobasket_count_L1_3D_user',\n",
              "       'addtobasket_count_L3_7D_user', 'addtobasket_count_L7_14D_user',\n",
              "       'search_count_L1D_user', 'search_count_L1_3D_user',\n",
              "       'search_count_L3_7D_user', 'search_count_L7_14D_user', 'gender', 'age',\n",
              "       'tenure'],\n",
              "      dtype='object')"
            ]
          },
          "metadata": {},
          "execution_count": 152
        }
      ],
      "source": [
        "df_test_final = df_test.merge(trx_L1D_gby_userid_bu, on = [\"userid\",\"currentbugroupname\"], how=\"left\", suffixes = (\"test\", \"\")) \\\n",
        ".merge(trx_L1D_gby_userid, on = [\"userid\"], how=\"left\", suffixes = (\"_L1D_user_group\", \"_L1D_user\")) \\\n",
        ".merge(trx_L1_3D_gby_userid_bu, on = [\"userid\",\"currentbugroupname\"], how=\"left\", suffixes = (\"\", \"_L1_3D_user_group\")) \\\n",
        ".merge(trx_L3_7D_gby_userid_bu, on = [\"userid\",\"currentbugroupname\"], how=\"left\", suffixes = (\"_L1_3D_user_group\", \"_L3_7D_user_group\")) \\\n",
        ".merge(trx_L7_14D_gby_userid_bu, on = [\"userid\",\"currentbugroupname\"], how=\"left\", suffixes = (\"_L3_7D_user_group\", \"\")) \\\n",
        ".merge(trx_L0D_gby_userid_bu, on= [\"userid\",\"currentbugroupname\"], how=\"left\", suffixes = (\"_L7_14D_user_group\", \"_LOD_user_group\")) \\\n",
        ".merge(visit_L1D_gby_userid_bu, on = [\"userid\",\"currentbugroupname\"], how=\"left\", suffixes = (\"_L0D_user_group\", \"_L1D_user_group\")) \\\n",
        ".merge(visit_L1_3D_gby_userid_bu, on = [\"userid\",\"currentbugroupname\"], how=\"left\", suffixes = (\"_L1D_user_group\", \"_L1_3D_user_group\")) \\\n",
        ".merge(visit_L3_7D_gby_userid_bu, on = [\"userid\",\"currentbugroupname\"], how=\"left\", suffixes = (\"_L1_3D_user_group\", \"_L3_7D_user_group\")) \\\n",
        ".merge(visit_L7_14D_gby_userid_bu, on = [\"userid\",\"currentbugroupname\"], how=\"left\", suffixes = (\"_L3_7D_user_group\", \"_L7_14D_user_group\")) \\\n",
        ".merge(fav_L1D_gby_userid_bu, on = [\"userid\",\"currentbugroupname\"], how=\"left\", suffixes = (\"_L7_14D_user_group\", \"_L1D_user_group\")) \\\n",
        ".merge(fav_L1_3D_gby_userid_bu, on = [\"userid\",\"currentbugroupname\"], how=\"left\", suffixes = (\"_L1D_user_group\", \"_L1_3D_user_group\")) \\\n",
        ".merge(fav_L3_7D_gby_userid_bu, on = [\"userid\",\"currentbugroupname\"], how=\"left\", suffixes = (\"_L1_3D_user_group\", \"_L3_7D_user_group\")) \\\n",
        ".merge(fav_L7_14D_gby_userid_bu, on = [\"userid\",\"currentbugroupname\"], how=\"left\", suffixes = (\"_L3_7D_user_group\", \"_L7_14D_user_group\")) \\\n",
        ".merge(basket_L1D_gby_userid_bu, on = [\"userid\",\"currentbugroupname\"], how=\"left\", suffixes = (\"_L7_14Dv\", \"_L1D_user_group\")) \\\n",
        ".merge(basket_L1_3D_gby_userid_bu, on = [\"userid\",\"currentbugroupname\"], how=\"left\", suffixes = (\"_L1D_user_group\", \"_L1_3D_user_group\")) \\\n",
        ".merge(basket_L3_7D_gby_userid_bu, on = [\"userid\",\"currentbugroupname\"], how=\"left\", suffixes = (\"_L1_3D_user_group\", \"_L3_7D_user_group\")) \\\n",
        ".merge(basket_L7_14D_gby_userid_bu, on = [\"userid\",\"currentbugroupname\"], how=\"left\", suffixes = (\"_L3_7D_user_group\", \"_L7_14D_user_group\")) \\\n",
        ".merge(trx_L1_3D_gby_userid, on = [\"userid\"], how=\"left\", suffixes = (\"_L7_14D_user_group\", \"_L1_3D_user\")) \\\n",
        ".merge(trx_L3_7D_gby_userid, on = [\"userid\"], how=\"left\", suffixes = (\"_L1_3D_user\", \"_L3_7D_user\")) \\\n",
        ".merge(trx_L7_14D_gby_userid, on = [\"userid\"], how=\"left\", suffixes = (\"_L3_7D_user\", \"\")) \\\n",
        ".merge(trx_L0D_gby_userid, on= [\"userid\"], how=\"left\", suffixes = (\"_L7_14D_user\", \"_LOD_user\")) \\\n",
        ".merge(visit_L1D_gby_userid, on = [\"userid\"], how=\"left\", suffixes = (\"_L0D_user\", \"_L1D_user\")) \\\n",
        ".merge(visit_L1_3D_gby_userid, on = [\"userid\"], how=\"left\", suffixes = (\"_L1D_user\", \"_L1_3D_user\")) \\\n",
        ".merge(visit_L3_7D_gby_userid, on = [\"userid\"], how=\"left\", suffixes = (\"_L1_3D_user\", \"_L3_7D_user\")) \\\n",
        ".merge(visit_L7_14D_gby_userid, on = [\"userid\"], how=\"left\", suffixes = (\"_L3_7D_user\", \"_L7_14D_user\")) \\\n",
        ".merge(fav_L1D_gby_userid, on = [\"userid\"], how=\"left\", suffixes = (\"_L7_14D_user\", \"_L1D_user\")) \\\n",
        ".merge(fav_L1_3D_gby_userid, on = [\"userid\"], how=\"left\", suffixes = (\"_L1D_user\", \"_L1_3D_user\")) \\\n",
        ".merge(fav_L3_7D_gby_userid, on = [\"userid\"], how=\"left\", suffixes = (\"_L1_3D_user\", \"_L3_7D_user\")) \\\n",
        ".merge(fav_L7_14D_gby_userid, on = [\"userid\"], how=\"left\", suffixes = (\"_L3_7D_user\", \"_L7_14D_user\")) \\\n",
        ".merge(basket_L1D_gby_userid, on = [\"userid\"], how=\"left\", suffixes = (\"_L7_14D_user\", \"_L1D_user\")) \\\n",
        ".merge(basket_L1_3D_gby_userid, on = [\"userid\"], how=\"left\", suffixes = (\"_L1D_user\", \"_L1_3D_user\")) \\\n",
        ".merge(basket_L3_7D_gby_userid, on = [\"userid\"], how=\"left\", suffixes = (\"_L1_3D_user\", \"_L3_7D_user\")) \\\n",
        ".merge(basket_L7_14D_gby_userid, on = [\"userid\"], how=\"left\", suffixes = (\"_L3_7D_user\", \"_L7_14D_user\")) \\\n",
        ".merge(search_L1D_gby_userid, on = [\"userid\"], how=\"left\", suffixes = (\"_L7_14D_user\", \"_L1D_user\")) \\\n",
        ".merge(search_L1_3D_gby_userid, on = [\"userid\"], how=\"left\", suffixes = (\"_L1D_user\", \"_L1_3D_user\")) \\\n",
        ".merge(search_L3_7D_gby_userid, on = [\"userid\"], how=\"left\", suffixes = (\"_L1_3D_user\", \"_L3_7D_user\")) \\\n",
        ".merge(search_L7_14D_gby_userid, on = [\"userid\"], how=\"left\", suffixes = (\"_L3_7D_user\", \"_L7_14D_user\")) \\\n",
        ".merge(df_demo, on=\"userid\", how= \"left\")\n",
        "\n",
        "df_test_final.columns"
      ]
    },
    {
      "cell_type": "markdown",
      "metadata": {
        "id": "4_Yhe2I1_E2p"
      },
      "source": [
        "XGBOOST Model for prediction"
      ]
    },
    {
      "cell_type": "code",
      "execution_count": null,
      "metadata": {
        "colab": {
          "base_uri": "https://localhost:8080/"
        },
        "id": "rNc72ysm_HMt",
        "outputId": "0a7394a2-c595-4658-a9db-d1b18244973d"
      },
      "outputs": [
        {
          "output_type": "stream",
          "name": "stderr",
          "text": [
            "/usr/local/lib/python3.7/dist-packages/sklearn/preprocessing/_label.py:98: DataConversionWarning: A column-vector y was passed when a 1d array was expected. Please change the shape of y to (n_samples, ), for example using ravel().\n",
            "  y = column_or_1d(y, warn=True)\n",
            "/usr/local/lib/python3.7/dist-packages/sklearn/preprocessing/_label.py:133: DataConversionWarning: A column-vector y was passed when a 1d array was expected. Please change the shape of y to (n_samples, ), for example using ravel().\n",
            "  y = column_or_1d(y, warn=True)\n"
          ]
        }
      ],
      "source": [
        "#rebuild df_train_final_6\n",
        "df_train_final6 = pd.concat([df_train_final5_isordered_0_sample, df_train_final5_isordered_1], axis = 0)\n",
        "\n",
        "# defining the dependent and independent variables\n",
        "\n",
        "x_XGB_final=df_train_final6[['productdetailcount_L1_3D_user_group',\n",
        "'productdetailcount_L3_7D_user_group',\n",
        "'productdetailcount_L1D_user_group',\n",
        "'revenue_L7_14D_user_group',\n",
        "'productdetailcount_L7_14D_user_group',\n",
        "'productdetailcount_L1D_user',\n",
        "'productdetailcount_L3_7D_user',\n",
        "'quantity_L7_14D_user_group',\n",
        "'productdetailcount_L1_3D_user',\n",
        "'productdetailcount_L7_14D_user',\n",
        "'revenue_L1_3D_user_group',\n",
        "'quantity_L3_7D_user_group',\n",
        "'order_LOD_user_group',\n",
        "'quantity_L1_3D_user_group',\n",
        "'order_L3_7D_user_group',\n",
        "'revenue_LOD_user',\n",
        "'revenue_L1D_user_group',\n",
        "'search_count_L3_7D_user',\n",
        "'fav_count_L7_14D_user_group',\n",
        "'quantity_LOD_user_group',\n",
        "'revenue_L3_7D_user_group',\n",
        "'search_count_L7_14D_user',\n",
        "'revenue_L3_7D_user',\n",
        "'quantity_L1_3D_user',\n",
        "'revenue_L1D_user',\n",
        "'search_count_L1D_user',\n",
        "'fav_count_L1_3D_user',\n",
        "'fav_count_L7_14D_user',\n",
        "'quantity_L7_14D_user',\n",
        "'fav_count_L1D_user_group',\n",
        "'quantity_L1D_user_group',\n",
        "'quantity_LOD_user',\n",
        "'fav_count_L1D_user',\n",
        "'revenue_L1_3D_user',\n",
        "'order_L1D_user',\n",
        "'search_count_L1_3D_user',\n",
        "'revenue_L7_14D_user',\n",
        "'quantity_L3_7D_user',\n",
        "'revenue_LOD_user_group',\n",
        "'fav_count_L3_7D_user_group',\n",
        "'addtobasket_count_L1_3D_user',\n",
        "'order_LOD_user',\n",
        "'fav_count_L3_7D_user',\n",
        "'order_L1_3D_user',\n",
        "'fav_count_L1_3D_user_group']].values\n",
        "\n",
        "y_XGB_final=df_train_final6[\"is_ordered\"].values.reshape(-1,1)\n",
        "\n",
        "x_XGB_test=df_test_final[['productdetailcount_L1_3D_user_group',\n",
        "'productdetailcount_L3_7D_user_group',\n",
        "'productdetailcount_L1D_user_group',\n",
        "'revenue_L7_14D_user_group',\n",
        "'productdetailcount_L7_14D_user_group',\n",
        "'productdetailcount_L1D_user',\n",
        "'productdetailcount_L3_7D_user',\n",
        "'quantity_L7_14D_user_group',\n",
        "'productdetailcount_L1_3D_user',\n",
        "'productdetailcount_L7_14D_user',\n",
        "'revenue_L1_3D_user_group',\n",
        "'quantity_L3_7D_user_group',\n",
        "'order_LOD_user_group',\n",
        "'quantity_L1_3D_user_group',\n",
        "'order_L3_7D_user_group',\n",
        "'revenue_LOD_user',\n",
        "'revenue_L1D_user_group',\n",
        "'search_count_L3_7D_user',\n",
        "'fav_count_L7_14D_user_group',\n",
        "'quantity_LOD_user_group',\n",
        "'revenue_L3_7D_user_group',\n",
        "'search_count_L7_14D_user',\n",
        "'revenue_L3_7D_user',\n",
        "'quantity_L1_3D_user',\n",
        "'revenue_L1D_user',\n",
        "'search_count_L1D_user',\n",
        "'fav_count_L1_3D_user',\n",
        "'fav_count_L7_14D_user',\n",
        "'quantity_L7_14D_user',\n",
        "'fav_count_L1D_user_group',\n",
        "'quantity_L1D_user_group',\n",
        "'quantity_LOD_user',\n",
        "'fav_count_L1D_user',\n",
        "'revenue_L1_3D_user',\n",
        "'order_L1D_user',\n",
        "'search_count_L1_3D_user',\n",
        "'revenue_L7_14D_user',\n",
        "'quantity_L3_7D_user',\n",
        "'revenue_LOD_user_group',\n",
        "'fav_count_L3_7D_user_group',\n",
        "'addtobasket_count_L1_3D_user',\n",
        "'order_LOD_user',\n",
        "'fav_count_L3_7D_user',\n",
        "'order_L1_3D_user',\n",
        "'fav_count_L1_3D_user_group']].fillna(0).values\n",
        "\n",
        "\n",
        "XGB = XGBClassifier(use_label_encoder=False, eval_metric='mlogloss')\n",
        "XGB.fit(x_XGB_final, y_XGB_final)\n",
        "y_pred = XGB.predict(x_XGB_test)\n",
        "y_pred_proba = XGB.predict_proba(x_XGB_test)[:,1]\n"
      ]
    },
    {
      "cell_type": "code",
      "execution_count": null,
      "metadata": {
        "id": "HpWV-arVA0Og"
      },
      "outputs": [],
      "source": [
        "#final_solution\n",
        "df_test.drop([\"probability\", \"target\"], axis=1)\n",
        "df_test[\"probability\"]= y_pred_proba\n",
        "df_test[\"target\"]= y_pred\n",
        "\n",
        "df_test.head()\n",
        "df_test.to_csv(\"df_test_final.csv\")"
      ]
    }
  ],
  "metadata": {
    "colab": {
      "collapsed_sections": [],
      "name": "TY Case.ipynb",
      "provenance": [],
      "mount_file_id": "1zxkRjutUD0Lrgn3RuCBy50dyYf8f57cf",
      "authorship_tag": "ABX9TyMOrKyEyj6N1mt5vCxvlODq",
      "include_colab_link": true
    },
    "kernelspec": {
      "display_name": "Python 3",
      "name": "python3"
    },
    "language_info": {
      "name": "python"
    }
  },
  "nbformat": 4,
  "nbformat_minor": 0
}